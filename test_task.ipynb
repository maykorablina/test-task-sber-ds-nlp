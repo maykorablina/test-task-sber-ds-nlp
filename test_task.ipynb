{
 "cells": [
  {
   "cell_type": "markdown",
   "id": "f99a5a58",
   "metadata": {},
   "source": [
    "# Анализ отзывов на банки\n",
    "\n",
    "В данных представлены отзывы на банки с сайта [banki.ru](https://www.banki.ru/)\n",
    "- body - сам отзыв\n",
    "- title - название отзыва\n",
    "- rating - оценка по отзыву, варьируется от 1 до 5\n",
    "- bank_name - название банка\n",
    "- date - дата публикации отзыва\n",
    "\n",
    "Необходимо EDA (Exploratory Data Analysis) по этим данным и сделать несколько выводов (приветствуются визуализации):\n",
    "ё- назвать топ-15 банков по числу отзывов\n",
    "- какой банк из числа топ-15 по отзывов имеет самый высокий средний рейтинг?\n",
    "- сделать выводы об изменении среднего рейтинга банков по месяцам из топ-5 банков по числу отзывов\n",
    "- нет ли в данных в целом каких-то странностей на ваш взгляд?\n",
    "- дополнительный EDA на ваше усмотрение, возможные интересные наблюдения\n",
    "\n",
    "Необходимо выбрать метрику и построить бинарный классификатор отзывов, добившись при этом лучшей метрики на валидационной выборке (отзывы >=3 считать положительными, <3 - отрицательными)\n",
    "\n",
    "Будет плюсом визуализация результатов работы модели (ответ на вопрос: почему построенная модель считает этот отзыв положительным или отрицательным?)"
   ]
  },
  {
   "cell_type": "code",
   "execution_count": 1,
   "id": "0136426f",
   "metadata": {},
   "outputs": [],
   "source": [
    "import pandas as pd\n",
    "import matplotlib.pyplot as plt\n",
    "import plotly.express as px\n",
    "import pandas as pd\n",
    "import networkx as nx\n",
    "import plotly.graph_objects as go\n",
    "from nltk import bigrams, trigrams\n",
    "from nltk.tokenize import word_tokenize\n",
    "from nltk.corpus import stopwords\n",
    "from collections import Counter\n",
    "from scipy.sparse import csr_matrix\n",
    "\n"
   ]
  },
  {
   "cell_type": "code",
   "execution_count": 2,
   "id": "9c74fc38",
   "metadata": {},
   "outputs": [
    {
     "name": "stdout",
     "output_type": "stream",
     "text": [
      "В исходном датафрейма 92735 строк и 5 столбцов\n"
     ]
    },
    {
     "data": {
      "text/html": [
       "<div>\n",
       "<style scoped>\n",
       "    .dataframe tbody tr th:only-of-type {\n",
       "        vertical-align: middle;\n",
       "    }\n",
       "\n",
       "    .dataframe tbody tr th {\n",
       "        vertical-align: top;\n",
       "    }\n",
       "\n",
       "    .dataframe thead th {\n",
       "        text-align: right;\n",
       "    }\n",
       "</style>\n",
       "<table border=\"1\" class=\"dataframe\">\n",
       "  <thead>\n",
       "    <tr style=\"text-align: right;\">\n",
       "      <th></th>\n",
       "      <th>body</th>\n",
       "      <th>title</th>\n",
       "      <th>rating</th>\n",
       "      <th>bank_name</th>\n",
       "      <th>date</th>\n",
       "    </tr>\n",
       "  </thead>\n",
       "  <tbody>\n",
       "    <tr>\n",
       "      <th>0</th>\n",
       "      <td>&amp;lt;p&amp;gt;Добрый день&amp;lt;/p&amp;gt;\\r\\n&amp;lt;p&amp;gt;пиш...</td>\n",
       "      <td>Заблокировали средства</td>\n",
       "      <td>1</td>\n",
       "      <td>Еком Банк</td>\n",
       "      <td>2023-01-03 12:46:11</td>\n",
       "    </tr>\n",
       "    <tr>\n",
       "      <th>1</th>\n",
       "      <td>&amp;lt;p&amp;gt;При возврате просроченной задолженнос...</td>\n",
       "      <td>Возврат просроченной задолженномти</td>\n",
       "      <td>1</td>\n",
       "      <td>Тинькофф Банк</td>\n",
       "      <td>2023-01-03 12:31:46</td>\n",
       "    </tr>\n",
       "    <tr>\n",
       "      <th>2</th>\n",
       "      <td>&amp;lt;p&amp;gt;07.09.22 ю была оформлена кредитная к...</td>\n",
       "      <td>Ошибочное начисление комиссии, затягивание про...</td>\n",
       "      <td>1</td>\n",
       "      <td>Банк Открытие</td>\n",
       "      <td>2023-01-03 12:23:11</td>\n",
       "    </tr>\n",
       "    <tr>\n",
       "      <th>3</th>\n",
       "      <td>&amp;lt;p&amp;gt;Новый год начинается с приятностей)&amp;l...</td>\n",
       "      <td>Клиентоориентиванность 10 из 10</td>\n",
       "      <td>5</td>\n",
       "      <td>Тинькофф Банк</td>\n",
       "      <td>2023-01-03 12:16:07</td>\n",
       "    </tr>\n",
       "    <tr>\n",
       "      <th>4</th>\n",
       "      <td>&amp;lt;p&amp;gt;Увидела на сайте Газпромбанка акцию с...</td>\n",
       "      <td>Как Газпромбанк обманывает клиентов с акционны...</td>\n",
       "      <td>1</td>\n",
       "      <td>Газпромбанк</td>\n",
       "      <td>2023-01-03 12:12:36</td>\n",
       "    </tr>\n",
       "  </tbody>\n",
       "</table>\n",
       "</div>"
      ],
      "text/plain": [
       "                                                body  \\\n",
       "0  &lt;p&gt;Добрый день&lt;/p&gt;\\r\\n&lt;p&gt;пиш...   \n",
       "1  &lt;p&gt;При возврате просроченной задолженнос...   \n",
       "2  &lt;p&gt;07.09.22 ю была оформлена кредитная к...   \n",
       "3  &lt;p&gt;Новый год начинается с приятностей)&l...   \n",
       "4  &lt;p&gt;Увидела на сайте Газпромбанка акцию с...   \n",
       "\n",
       "                                               title  rating      bank_name  \\\n",
       "0                             Заблокировали средства       1      Еком Банк   \n",
       "1                 Возврат просроченной задолженномти       1  Тинькофф Банк   \n",
       "2  Ошибочное начисление комиссии, затягивание про...       1  Банк Открытие   \n",
       "3                    Клиентоориентиванность 10 из 10       5  Тинькофф Банк   \n",
       "4  Как Газпромбанк обманывает клиентов с акционны...       1    Газпромбанк   \n",
       "\n",
       "                 date  \n",
       "0 2023-01-03 12:46:11  \n",
       "1 2023-01-03 12:31:46  \n",
       "2 2023-01-03 12:23:11  \n",
       "3 2023-01-03 12:16:07  \n",
       "4 2023-01-03 12:12:36  "
      ]
     },
     "execution_count": 2,
     "metadata": {},
     "output_type": "execute_result"
    }
   ],
   "source": [
    "data = pd.read_csv('parsed_reviews3.csv', sep = ',', encoding='utf-8')\n",
    "data['rating'] = data['rating'].astype(int)\n",
    "data['date'] = pd.to_datetime(data['date'])\n",
    "print(f'В исходном датафрейма {data.shape[0]} строк и {data.shape[1]} столбцов')\n",
    "data.head(5)"
   ]
  },
  {
   "cell_type": "markdown",
   "id": "bfdddbc4",
   "metadata": {},
   "source": [
    "### Часть 1 - EDA"
   ]
  },
  {
   "cell_type": "markdown",
   "id": "53ab2317",
   "metadata": {},
   "source": [
    "Для начала поищем странности в исходных данных"
   ]
  },
  {
   "cell_type": "code",
   "execution_count": 3,
   "id": "06193b5a",
   "metadata": {},
   "outputs": [
    {
     "data": {
      "text/plain": [
       "body         False\n",
       "title        False\n",
       "rating       False\n",
       "bank_name    False\n",
       "date         False\n",
       "dtype: bool"
      ]
     },
     "execution_count": 3,
     "metadata": {},
     "output_type": "execute_result"
    }
   ],
   "source": [
    "# нет ни одного NaN - это хорошо\n",
    "data.isnull().any()"
   ]
  },
  {
   "cell_type": "code",
   "execution_count": 4,
   "id": "e23dc972",
   "metadata": {},
   "outputs": [
    {
     "data": {
      "text/plain": [
       "body                 object\n",
       "title                object\n",
       "rating                int32\n",
       "bank_name            object\n",
       "date         datetime64[ns]\n",
       "dtype: object"
      ]
     },
     "execution_count": 4,
     "metadata": {},
     "output_type": "execute_result"
    }
   ],
   "source": [
    "# с типами данных тоже все в порядке\n",
    "data.dtypes"
   ]
  },
  {
   "cell_type": "code",
   "execution_count": 5,
   "id": "75e80866",
   "metadata": {},
   "outputs": [
    {
     "data": {
      "text/plain": [
       "True"
      ]
     },
     "execution_count": 5,
     "metadata": {},
     "output_type": "execute_result"
    }
   ],
   "source": [
    "# но есть дубликаты\n",
    "data.duplicated().any()"
   ]
  },
  {
   "cell_type": "code",
   "execution_count": 6,
   "id": "4593db41",
   "metadata": {},
   "outputs": [
    {
     "name": "stdout",
     "output_type": "stream",
     "text": [
      "В датафрейме 62 дубликатов\n"
     ]
    },
    {
     "data": {
      "text/html": [
       "<div>\n",
       "<style scoped>\n",
       "    .dataframe tbody tr th:only-of-type {\n",
       "        vertical-align: middle;\n",
       "    }\n",
       "\n",
       "    .dataframe tbody tr th {\n",
       "        vertical-align: top;\n",
       "    }\n",
       "\n",
       "    .dataframe thead th {\n",
       "        text-align: right;\n",
       "    }\n",
       "</style>\n",
       "<table border=\"1\" class=\"dataframe\">\n",
       "  <thead>\n",
       "    <tr style=\"text-align: right;\">\n",
       "      <th></th>\n",
       "      <th>body</th>\n",
       "      <th>title</th>\n",
       "      <th>rating</th>\n",
       "      <th>bank_name</th>\n",
       "      <th>date</th>\n",
       "    </tr>\n",
       "  </thead>\n",
       "  <tbody>\n",
       "    <tr>\n",
       "      <th>899</th>\n",
       "      <td>&amp;lt;p&amp;gt;Обратился 3 декабря в районе 19 часов...</td>\n",
       "      <td>открытие счёта и  получение банковской карты</td>\n",
       "      <td>5</td>\n",
       "      <td>Хоум Кредит Банк</td>\n",
       "      <td>2022-12-30 16:16:13</td>\n",
       "    </tr>\n",
       "    <tr>\n",
       "      <th>997</th>\n",
       "      <td>&amp;lt;p&amp;gt;С самого открытия являемся клиентами ...</td>\n",
       "      <td>Сняли деньги за перевод физ.лицу, а услугу не ...</td>\n",
       "      <td>1</td>\n",
       "      <td>Норвик Банк</td>\n",
       "      <td>2022-12-30 14:06:33</td>\n",
       "    </tr>\n",
       "    <tr>\n",
       "      <th>1611</th>\n",
       "      <td>&amp;lt;p&amp;gt;22.12.2022 в чате своего ЛК мобильног...</td>\n",
       "      <td>Отсутствие информации о порядке конвертации ва...</td>\n",
       "      <td>2</td>\n",
       "      <td>Росбанк</td>\n",
       "      <td>2022-12-29 15:03:06</td>\n",
       "    </tr>\n",
       "    <tr>\n",
       "      <th>2502</th>\n",
       "      <td>&amp;lt;p&amp;gt;Оформлял рассрочку на телефон, в мага...</td>\n",
       "      <td>Лучший кредитный банк</td>\n",
       "      <td>5</td>\n",
       "      <td>Хоум Кредит Банк</td>\n",
       "      <td>2022-12-28 13:44:16</td>\n",
       "    </tr>\n",
       "    <tr>\n",
       "      <th>2504</th>\n",
       "      <td>&amp;lt;p&amp;gt;28 декабря я посетил банк МКБ по адре...</td>\n",
       "      <td>Отличное обслуживание</td>\n",
       "      <td>5</td>\n",
       "      <td>Московский Кредитный Банк</td>\n",
       "      <td>2022-12-28 13:42:41</td>\n",
       "    </tr>\n",
       "  </tbody>\n",
       "</table>\n",
       "</div>"
      ],
      "text/plain": [
       "                                                   body  \\\n",
       "899   &lt;p&gt;Обратился 3 декабря в районе 19 часов...   \n",
       "997   &lt;p&gt;С самого открытия являемся клиентами ...   \n",
       "1611  &lt;p&gt;22.12.2022 в чате своего ЛК мобильног...   \n",
       "2502  &lt;p&gt;Оформлял рассрочку на телефон, в мага...   \n",
       "2504  &lt;p&gt;28 декабря я посетил банк МКБ по адре...   \n",
       "\n",
       "                                                  title  rating  \\\n",
       "899        открытие счёта и  получение банковской карты       5   \n",
       "997   Сняли деньги за перевод физ.лицу, а услугу не ...       1   \n",
       "1611  Отсутствие информации о порядке конвертации ва...       2   \n",
       "2502                              Лучший кредитный банк       5   \n",
       "2504                              Отличное обслуживание       5   \n",
       "\n",
       "                      bank_name                date  \n",
       "899            Хоум Кредит Банк 2022-12-30 16:16:13  \n",
       "997                 Норвик Банк 2022-12-30 14:06:33  \n",
       "1611                    Росбанк 2022-12-29 15:03:06  \n",
       "2502           Хоум Кредит Банк 2022-12-28 13:44:16  \n",
       "2504  Московский Кредитный Банк 2022-12-28 13:42:41  "
      ]
     },
     "execution_count": 6,
     "metadata": {},
     "output_type": "execute_result"
    }
   ],
   "source": [
    "# посмотрим на них\n",
    "print(f'В датафрейме {data[data.duplicated()].shape[0]} дубликатов')\n",
    "data[data.duplicated()].head(5)"
   ]
  },
  {
   "cell_type": "code",
   "execution_count": 7,
   "id": "2423a9dd",
   "metadata": {},
   "outputs": [],
   "source": [
    "# удалим дубликаты\n",
    "data = data.drop_duplicates()"
   ]
  },
  {
   "cell_type": "markdown",
   "id": "c8e6c6f9",
   "metadata": {},
   "source": [
    "На первый взгляд в датасете нет каких-то явно выраженных аномалий, так что можно перейти к ответам на поставленные вопросы:\n",
    "\n",
    "1. Назвать топ-15 банков по числу отзывов"
   ]
  },
  {
   "cell_type": "code",
   "execution_count": 8,
   "id": "dc21557b",
   "metadata": {},
   "outputs": [
    {
     "data": {
      "text/html": [
       "<div>\n",
       "<style scoped>\n",
       "    .dataframe tbody tr th:only-of-type {\n",
       "        vertical-align: middle;\n",
       "    }\n",
       "\n",
       "    .dataframe tbody tr th {\n",
       "        vertical-align: top;\n",
       "    }\n",
       "\n",
       "    .dataframe thead th {\n",
       "        text-align: right;\n",
       "    }\n",
       "</style>\n",
       "<table border=\"1\" class=\"dataframe\">\n",
       "  <thead>\n",
       "    <tr style=\"text-align: right;\">\n",
       "      <th></th>\n",
       "      <th>bank_name</th>\n",
       "      <th>count</th>\n",
       "      <th>rating</th>\n",
       "    </tr>\n",
       "  </thead>\n",
       "  <tbody>\n",
       "    <tr>\n",
       "      <th>0</th>\n",
       "      <td>Тинькофф Банк</td>\n",
       "      <td>44852</td>\n",
       "      <td>4.78</td>\n",
       "    </tr>\n",
       "    <tr>\n",
       "      <th>1</th>\n",
       "      <td>Хоум Кредит Банк</td>\n",
       "      <td>9301</td>\n",
       "      <td>4.51</td>\n",
       "    </tr>\n",
       "    <tr>\n",
       "      <th>2</th>\n",
       "      <td>Совкомбанк</td>\n",
       "      <td>6100</td>\n",
       "      <td>4.26</td>\n",
       "    </tr>\n",
       "    <tr>\n",
       "      <th>3</th>\n",
       "      <td>ВТБ</td>\n",
       "      <td>3814</td>\n",
       "      <td>1.95</td>\n",
       "    </tr>\n",
       "    <tr>\n",
       "      <th>4</th>\n",
       "      <td>СберБанк</td>\n",
       "      <td>3487</td>\n",
       "      <td>2.30</td>\n",
       "    </tr>\n",
       "    <tr>\n",
       "      <th>5</th>\n",
       "      <td>Альфа-Банк</td>\n",
       "      <td>3368</td>\n",
       "      <td>1.71</td>\n",
       "    </tr>\n",
       "    <tr>\n",
       "      <th>6</th>\n",
       "      <td>Россельхозбанк</td>\n",
       "      <td>3062</td>\n",
       "      <td>4.46</td>\n",
       "    </tr>\n",
       "    <tr>\n",
       "      <th>7</th>\n",
       "      <td>Банк Открытие</td>\n",
       "      <td>1894</td>\n",
       "      <td>3.54</td>\n",
       "    </tr>\n",
       "    <tr>\n",
       "      <th>8</th>\n",
       "      <td>МТС Банк</td>\n",
       "      <td>1542</td>\n",
       "      <td>2.90</td>\n",
       "    </tr>\n",
       "    <tr>\n",
       "      <th>9</th>\n",
       "      <td>Модульбанк</td>\n",
       "      <td>1452</td>\n",
       "      <td>4.78</td>\n",
       "    </tr>\n",
       "    <tr>\n",
       "      <th>10</th>\n",
       "      <td>Газпромбанк</td>\n",
       "      <td>1314</td>\n",
       "      <td>2.15</td>\n",
       "    </tr>\n",
       "    <tr>\n",
       "      <th>11</th>\n",
       "      <td>Московский Кредитный Банк</td>\n",
       "      <td>1249</td>\n",
       "      <td>4.24</td>\n",
       "    </tr>\n",
       "    <tr>\n",
       "      <th>12</th>\n",
       "      <td>Азиатско-Тихоокеанский Банк</td>\n",
       "      <td>1000</td>\n",
       "      <td>4.72</td>\n",
       "    </tr>\n",
       "    <tr>\n",
       "      <th>13</th>\n",
       "      <td>Уральский Банк Реконструкции и Развития</td>\n",
       "      <td>746</td>\n",
       "      <td>3.30</td>\n",
       "    </tr>\n",
       "    <tr>\n",
       "      <th>14</th>\n",
       "      <td>Русский Стандарт</td>\n",
       "      <td>689</td>\n",
       "      <td>4.16</td>\n",
       "    </tr>\n",
       "  </tbody>\n",
       "</table>\n",
       "</div>"
      ],
      "text/plain": [
       "                                  bank_name  count  rating\n",
       "0                             Тинькофф Банк  44852    4.78\n",
       "1                          Хоум Кредит Банк   9301    4.51\n",
       "2                                Совкомбанк   6100    4.26\n",
       "3                                       ВТБ   3814    1.95\n",
       "4                                  СберБанк   3487    2.30\n",
       "5                                Альфа-Банк   3368    1.71\n",
       "6                            Россельхозбанк   3062    4.46\n",
       "7                             Банк Открытие   1894    3.54\n",
       "8                                  МТС Банк   1542    2.90\n",
       "9                                Модульбанк   1452    4.78\n",
       "10                              Газпромбанк   1314    2.15\n",
       "11                Московский Кредитный Банк   1249    4.24\n",
       "12              Азиатско-Тихоокеанский Банк   1000    4.72\n",
       "13  Уральский Банк Реконструкции и Развития    746    3.30\n",
       "14                         Русский Стандарт    689    4.16"
      ]
     },
     "execution_count": 8,
     "metadata": {},
     "output_type": "execute_result"
    }
   ],
   "source": [
    "# топ-15 банков по числу отзывов\n",
    "banks_reviews_and_rating = data.groupby(['bank_name']).agg({'body':'count', 'rating': 'mean'}).reset_index()\n",
    "banks_reviews_and_rating.columns = ['bank_name', 'count', 'rating']\n",
    "banks_reviews_and_rating['rating'] = banks_reviews_and_rating['rating'].round(2)\n",
    "banks_reviews_and_rating.sort_values(by='count', ascending=False, inplace=True)\n",
    "top15_banks_by_count = banks_reviews_and_rating.head(15).reset_index(drop=True)\n",
    "top15_banks_by_count"
   ]
  },
  {
   "cell_type": "markdown",
   "id": "c24f29a0",
   "metadata": {},
   "source": [
    "2. Назвать банк с самым высоким рейтингом из числа топ-15 банков по отзывам"
   ]
  },
  {
   "cell_type": "code",
   "execution_count": 9,
   "id": "a047d6ca",
   "metadata": {},
   "outputs": [
    {
     "data": {
      "text/html": [
       "<div>\n",
       "<style scoped>\n",
       "    .dataframe tbody tr th:only-of-type {\n",
       "        vertical-align: middle;\n",
       "    }\n",
       "\n",
       "    .dataframe tbody tr th {\n",
       "        vertical-align: top;\n",
       "    }\n",
       "\n",
       "    .dataframe thead th {\n",
       "        text-align: right;\n",
       "    }\n",
       "</style>\n",
       "<table border=\"1\" class=\"dataframe\">\n",
       "  <thead>\n",
       "    <tr style=\"text-align: right;\">\n",
       "      <th></th>\n",
       "      <th>bank_name</th>\n",
       "      <th>count</th>\n",
       "      <th>rating</th>\n",
       "    </tr>\n",
       "  </thead>\n",
       "  <tbody>\n",
       "    <tr>\n",
       "      <th>0</th>\n",
       "      <td>Тинькофф Банк</td>\n",
       "      <td>44852</td>\n",
       "      <td>4.78</td>\n",
       "    </tr>\n",
       "  </tbody>\n",
       "</table>\n",
       "</div>"
      ],
      "text/plain": [
       "       bank_name  count  rating\n",
       "0  Тинькофф Банк  44852    4.78"
      ]
     },
     "execution_count": 9,
     "metadata": {},
     "output_type": "execute_result"
    }
   ],
   "source": [
    "top15_banks_by_count.sort_values(by='rating', ascending=False).head(1)"
   ]
  },
  {
   "cell_type": "markdown",
   "id": "7aa87d1d",
   "metadata": {},
   "source": [
    "3. Сделать выводы об изменении среднего рейтинга банков по месяцам из топ-5 банков по числу отзывов "
   ]
  },
  {
   "cell_type": "code",
   "execution_count": 10,
   "id": "06d19900",
   "metadata": {},
   "outputs": [],
   "source": [
    "# сначала распарсим колонку date - пригодится для дальнейшего анализа\n",
    "data['year'] = data['date'].dt.year\n",
    "data['month'] = data['date'].dt.month\n",
    "data['day'] = data['date'].dt.day\n",
    "data['hour'] = data['date'].dt.hour\n",
    "data['minute'] = data['date'].dt.minute\n",
    "data['second'] = data['date'].dt.second"
   ]
  },
  {
   "cell_type": "markdown",
   "id": "b21256b6",
   "metadata": {},
   "source": [
    "Построим график изменения среднего рейтинга по месяцам у топ-5 банков по числу отзывов"
   ]
  },
  {
   "cell_type": "code",
   "execution_count": 11,
   "id": "1130f062",
   "metadata": {},
   "outputs": [
    {
     "data": {
      "text/html": [
       "<div>\n",
       "<style scoped>\n",
       "    .dataframe tbody tr th:only-of-type {\n",
       "        vertical-align: middle;\n",
       "    }\n",
       "\n",
       "    .dataframe tbody tr th {\n",
       "        vertical-align: top;\n",
       "    }\n",
       "\n",
       "    .dataframe thead th {\n",
       "        text-align: right;\n",
       "    }\n",
       "</style>\n",
       "<table border=\"1\" class=\"dataframe\">\n",
       "  <thead>\n",
       "    <tr style=\"text-align: right;\">\n",
       "      <th></th>\n",
       "      <th>bank_name</th>\n",
       "      <th>year_month</th>\n",
       "      <th>rating</th>\n",
       "    </tr>\n",
       "  </thead>\n",
       "  <tbody>\n",
       "    <tr>\n",
       "      <th>0</th>\n",
       "      <td>ВТБ</td>\n",
       "      <td>2022-9</td>\n",
       "      <td>2.07</td>\n",
       "    </tr>\n",
       "    <tr>\n",
       "      <th>1</th>\n",
       "      <td>ВТБ</td>\n",
       "      <td>2022-10</td>\n",
       "      <td>1.91</td>\n",
       "    </tr>\n",
       "    <tr>\n",
       "      <th>2</th>\n",
       "      <td>ВТБ</td>\n",
       "      <td>2022-11</td>\n",
       "      <td>1.99</td>\n",
       "    </tr>\n",
       "    <tr>\n",
       "      <th>3</th>\n",
       "      <td>ВТБ</td>\n",
       "      <td>2022-12</td>\n",
       "      <td>1.90</td>\n",
       "    </tr>\n",
       "    <tr>\n",
       "      <th>4</th>\n",
       "      <td>ВТБ</td>\n",
       "      <td>2023-1</td>\n",
       "      <td>1.15</td>\n",
       "    </tr>\n",
       "    <tr>\n",
       "      <th>5</th>\n",
       "      <td>СберБанк</td>\n",
       "      <td>2022-9</td>\n",
       "      <td>1.92</td>\n",
       "    </tr>\n",
       "    <tr>\n",
       "      <th>6</th>\n",
       "      <td>СберБанк</td>\n",
       "      <td>2022-10</td>\n",
       "      <td>2.78</td>\n",
       "    </tr>\n",
       "    <tr>\n",
       "      <th>7</th>\n",
       "      <td>СберБанк</td>\n",
       "      <td>2022-11</td>\n",
       "      <td>2.56</td>\n",
       "    </tr>\n",
       "    <tr>\n",
       "      <th>8</th>\n",
       "      <td>СберБанк</td>\n",
       "      <td>2022-12</td>\n",
       "      <td>1.87</td>\n",
       "    </tr>\n",
       "    <tr>\n",
       "      <th>9</th>\n",
       "      <td>СберБанк</td>\n",
       "      <td>2023-1</td>\n",
       "      <td>1.40</td>\n",
       "    </tr>\n",
       "    <tr>\n",
       "      <th>10</th>\n",
       "      <td>Совкомбанк</td>\n",
       "      <td>2022-9</td>\n",
       "      <td>3.88</td>\n",
       "    </tr>\n",
       "    <tr>\n",
       "      <th>11</th>\n",
       "      <td>Совкомбанк</td>\n",
       "      <td>2022-10</td>\n",
       "      <td>3.85</td>\n",
       "    </tr>\n",
       "    <tr>\n",
       "      <th>12</th>\n",
       "      <td>Совкомбанк</td>\n",
       "      <td>2022-11</td>\n",
       "      <td>4.23</td>\n",
       "    </tr>\n",
       "    <tr>\n",
       "      <th>13</th>\n",
       "      <td>Совкомбанк</td>\n",
       "      <td>2022-12</td>\n",
       "      <td>4.52</td>\n",
       "    </tr>\n",
       "    <tr>\n",
       "      <th>14</th>\n",
       "      <td>Совкомбанк</td>\n",
       "      <td>2023-1</td>\n",
       "      <td>4.42</td>\n",
       "    </tr>\n",
       "    <tr>\n",
       "      <th>15</th>\n",
       "      <td>Тинькофф Банк</td>\n",
       "      <td>2022-9</td>\n",
       "      <td>3.89</td>\n",
       "    </tr>\n",
       "    <tr>\n",
       "      <th>16</th>\n",
       "      <td>Тинькофф Банк</td>\n",
       "      <td>2022-10</td>\n",
       "      <td>4.87</td>\n",
       "    </tr>\n",
       "    <tr>\n",
       "      <th>17</th>\n",
       "      <td>Тинькофф Банк</td>\n",
       "      <td>2022-11</td>\n",
       "      <td>4.84</td>\n",
       "    </tr>\n",
       "    <tr>\n",
       "      <th>18</th>\n",
       "      <td>Тинькофф Банк</td>\n",
       "      <td>2022-12</td>\n",
       "      <td>4.65</td>\n",
       "    </tr>\n",
       "    <tr>\n",
       "      <th>19</th>\n",
       "      <td>Тинькофф Банк</td>\n",
       "      <td>2023-1</td>\n",
       "      <td>3.99</td>\n",
       "    </tr>\n",
       "    <tr>\n",
       "      <th>20</th>\n",
       "      <td>Хоум Кредит Банк</td>\n",
       "      <td>2022-9</td>\n",
       "      <td>4.06</td>\n",
       "    </tr>\n",
       "    <tr>\n",
       "      <th>21</th>\n",
       "      <td>Хоум Кредит Банк</td>\n",
       "      <td>2022-10</td>\n",
       "      <td>3.59</td>\n",
       "    </tr>\n",
       "    <tr>\n",
       "      <th>22</th>\n",
       "      <td>Хоум Кредит Банк</td>\n",
       "      <td>2022-11</td>\n",
       "      <td>4.00</td>\n",
       "    </tr>\n",
       "    <tr>\n",
       "      <th>23</th>\n",
       "      <td>Хоум Кредит Банк</td>\n",
       "      <td>2022-12</td>\n",
       "      <td>4.63</td>\n",
       "    </tr>\n",
       "    <tr>\n",
       "      <th>24</th>\n",
       "      <td>Хоум Кредит Банк</td>\n",
       "      <td>2023-1</td>\n",
       "      <td>2.83</td>\n",
       "    </tr>\n",
       "  </tbody>\n",
       "</table>\n",
       "</div>"
      ],
      "text/plain": [
       "           bank_name year_month  rating\n",
       "0                ВТБ     2022-9    2.07\n",
       "1                ВТБ    2022-10    1.91\n",
       "2                ВТБ    2022-11    1.99\n",
       "3                ВТБ    2022-12    1.90\n",
       "4                ВТБ     2023-1    1.15\n",
       "5           СберБанк     2022-9    1.92\n",
       "6           СберБанк    2022-10    2.78\n",
       "7           СберБанк    2022-11    2.56\n",
       "8           СберБанк    2022-12    1.87\n",
       "9           СберБанк     2023-1    1.40\n",
       "10        Совкомбанк     2022-9    3.88\n",
       "11        Совкомбанк    2022-10    3.85\n",
       "12        Совкомбанк    2022-11    4.23\n",
       "13        Совкомбанк    2022-12    4.52\n",
       "14        Совкомбанк     2023-1    4.42\n",
       "15     Тинькофф Банк     2022-9    3.89\n",
       "16     Тинькофф Банк    2022-10    4.87\n",
       "17     Тинькофф Банк    2022-11    4.84\n",
       "18     Тинькофф Банк    2022-12    4.65\n",
       "19     Тинькофф Банк     2023-1    3.99\n",
       "20  Хоум Кредит Банк     2022-9    4.06\n",
       "21  Хоум Кредит Банк    2022-10    3.59\n",
       "22  Хоум Кредит Банк    2022-11    4.00\n",
       "23  Хоум Кредит Банк    2022-12    4.63\n",
       "24  Хоум Кредит Банк     2023-1    2.83"
      ]
     },
     "execution_count": 11,
     "metadata": {},
     "output_type": "execute_result"
    }
   ],
   "source": [
    "data['year_month'] = data['year'].astype(str) + '-' + data['month'].astype(str)\n",
    "data_to_graph = data[['bank_name','year_month','rating']]\n",
    "data_to_graph = data_to_graph[data_to_graph['bank_name'].isin(top15_banks_by_count.head(5)['bank_name'])].groupby(['bank_name', 'year_month']).agg({'rating': 'mean'}).reset_index()\n",
    "data_to_graph['rating'] = data_to_graph['rating'].round(2)\n",
    "order = ['2022-9', '2022-10', '2022-11', '2022-12', '2023-1']\n",
    "data_to_graph['year_month'] = pd.Categorical(data_to_graph['year_month'], categories=order, ordered=True)\n",
    "data_to_graph = data_to_graph.sort_values(by=['bank_name', 'year_month']).reset_index(drop=True)\n",
    "data_to_graph"
   ]
  },
  {
   "cell_type": "code",
   "execution_count": 12,
   "id": "cd69f64f",
   "metadata": {},
   "outputs": [
    {
     "data": {
      "image/png": "[encoded data removed]",
      "text/plain": [
       "<Figure size 640x480 with 1 Axes>"
      ]
     },
     "metadata": {},
     "output_type": "display_data"
    }
   ],
   "source": [
    "# data_to_graph['month'] = data_to_graph['month'].astype(str)\n",
    "banks = data_to_graph['bank_name'].unique()\n",
    "\n",
    "# plt.figure(figsize=(8, 5))\n",
    "for b in banks:\n",
    "    bank_data = data_to_graph[data_to_graph['bank_name'] == b]\n",
    "    plt.plot(bank_data['year_month'], bank_data['rating'], label=b)\n",
    "plt.title('График изменения среднего рейтинга\\nтоп-5 банков по числу отзывов', fontsize=10)\n",
    "plt.xlabel('Месяц')\n",
    "plt.ylabel('Средний рейтинг')\n",
    "plt.box(True)\n",
    "plt.legend(fontsize='xx-small', loc='lower left')\n",
    "plt.grid(True, linestyle='-', linewidth=0.5, color='lightgrey')\n",
    "plt.xticks(fontsize=8)\n",
    "plt.yticks(fontsize=8)\n",
    "ax = plt.gca()\n",
    "ax.spines['top'].set_visible(False)\n",
    "ax.spines['right'].set_visible(False)\n",
    "ax.spines['bottom'].set_linewidth(0.5)\n",
    "ax.spines['left'].set_linewidth(0.5)\n",
    "plt.show()\n"
   ]
  },
  {
   "cell_type": "markdown",
   "id": "8d8e3130",
   "metadata": {},
   "source": [
    "##### Выводы\n",
    "\n",
    "- У Тинькофф банка самый высокий средний рейтинг во все месяцы, кроме декабря, в декабре его обгоняет Совкомбанк.\n",
    "- У 4 из 5 банков средний рейтинг падает со временем. Исключение - Совкомбанк, чей рейтинг с каждым месяцем только растет.\n",
    "- После октября рейтинг Тинькофф банка и Сбербанка по какой-то причине начинает падать. Очень интересно узнать, в чем причина (спойлер - узнаем)\n",
    "- Рейтинг Хоум Кредит Банка очень сильно упал в январе, хотя до этого он испытал довольно стремительный рост\n"
   ]
  },
  {
   "cell_type": "markdown",
   "id": "34f07cfe",
   "metadata": {},
   "source": [
    "4. Нет ли в данных в целом каких-то странностей на ваш взгляд?\n",
    "\n",
    "Самая большая странность, на мой взгляд, это то, что отзывов на Тинькофф банк в разы больше, чем отзывов на другие банки.\n",
    "Причин этому может быть несколько. Это мог быть баг на этапе сбора данных, или, может быть, клиенты Тинькофф банка в целом чаще оставляют отзывы в интернете (все таки, Тинькофф - это мобильный банк, и его пользователи в принципе пользуются интернетом чаще, чем клиенты других банков, но это скорее мое личное мнение)\n",
    "\n",
    "Так или иначе, дизбаланс есть, и это бесит, особенно когда доходит до текстового анализа, чуть позже покажу, почему."
   ]
  },
  {
   "cell_type": "markdown",
   "id": "ea467cb3",
   "metadata": {},
   "source": [
    "5. Дополнительный EDA"
   ]
  },
  {
   "cell_type": "markdown",
   "id": "867ba2f9",
   "metadata": {},
   "source": [
    "Сейчас я хочу проанализироать временные данные.\n",
    "\n",
    "Посмотрим, в какое время пишут отрицательные отзывы, а в какое - положительные\n",
    "\n",
    "Я буду считать положительными отзывы >= 3, а отрицательными - <3, как сказано в задании"
   ]
  },
  {
   "cell_type": "code",
   "execution_count": 13,
   "id": "fc7f4b9a",
   "metadata": {},
   "outputs": [],
   "source": [
    "# сразу добавлю колонку \"class\": 0 - отзыв отрицательный, 1 - положительный. Это пригодится сейчас и на этапе с метрикой\n",
    "data['class'] = data['rating'].apply(lambda x: 1 if x >= 3 else 0)"
   ]
  },
  {
   "cell_type": "code",
   "execution_count": 14,
   "id": "3179eb17",
   "metadata": {},
   "outputs": [
    {
     "name": "stderr",
     "output_type": "stream",
     "text": [
      "C:\\Users\\mayko\\AppData\\Local\\Temp\\ipykernel_19292\\1257091007.py:5: FutureWarning: Series.__getitem__ treating keys as positions is deprecated. In a future version, integer keys will always be treated as labels (consistent with DataFrame behavior). To access a value by position, use `ser.iloc[pos]`\n",
      "  pos_and_neg_hour['percentage'] = pos_and_neg_hour.apply(lambda row: row[2]/count_rating_pos * 100 if row[1] == 1 else row[2]/count_rating_neg * 100, axis=1).round(2)\n"
     ]
    },
    {
     "data": {
      "text/html": [
       "<div>\n",
       "<style scoped>\n",
       "    .dataframe tbody tr th:only-of-type {\n",
       "        vertical-align: middle;\n",
       "    }\n",
       "\n",
       "    .dataframe tbody tr th {\n",
       "        vertical-align: top;\n",
       "    }\n",
       "\n",
       "    .dataframe thead th {\n",
       "        text-align: right;\n",
       "    }\n",
       "</style>\n",
       "<table border=\"1\" class=\"dataframe\">\n",
       "  <thead>\n",
       "    <tr style=\"text-align: right;\">\n",
       "      <th></th>\n",
       "      <th>hour</th>\n",
       "      <th>class</th>\n",
       "      <th>count</th>\n",
       "      <th>percentage</th>\n",
       "    </tr>\n",
       "  </thead>\n",
       "  <tbody>\n",
       "    <tr>\n",
       "      <th>0</th>\n",
       "      <td>0</td>\n",
       "      <td>0</td>\n",
       "      <td>459</td>\n",
       "      <td>2.20</td>\n",
       "    </tr>\n",
       "    <tr>\n",
       "      <th>1</th>\n",
       "      <td>0</td>\n",
       "      <td>1</td>\n",
       "      <td>1664</td>\n",
       "      <td>2.32</td>\n",
       "    </tr>\n",
       "    <tr>\n",
       "      <th>2</th>\n",
       "      <td>1</td>\n",
       "      <td>0</td>\n",
       "      <td>277</td>\n",
       "      <td>1.33</td>\n",
       "    </tr>\n",
       "    <tr>\n",
       "      <th>3</th>\n",
       "      <td>1</td>\n",
       "      <td>1</td>\n",
       "      <td>1108</td>\n",
       "      <td>1.54</td>\n",
       "    </tr>\n",
       "    <tr>\n",
       "      <th>4</th>\n",
       "      <td>2</td>\n",
       "      <td>0</td>\n",
       "      <td>181</td>\n",
       "      <td>0.87</td>\n",
       "    </tr>\n",
       "    <tr>\n",
       "      <th>5</th>\n",
       "      <td>2</td>\n",
       "      <td>1</td>\n",
       "      <td>764</td>\n",
       "      <td>1.06</td>\n",
       "    </tr>\n",
       "  </tbody>\n",
       "</table>\n",
       "</div>"
      ],
      "text/plain": [
       "   hour  class  count  percentage\n",
       "0     0      0    459        2.20\n",
       "1     0      1   1664        2.32\n",
       "2     1      0    277        1.33\n",
       "3     1      1   1108        1.54\n",
       "4     2      0    181        0.87\n",
       "5     2      1    764        1.06"
      ]
     },
     "execution_count": 14,
     "metadata": {},
     "output_type": "execute_result"
    }
   ],
   "source": [
    "# делаю группировку по часу и рейтингу и считаю средний рейтинг\n",
    "pos_and_neg_hour = data.groupby(['hour', 'class']).size().reset_index(name='count')\n",
    "count_rating_pos = data[data['class'] == 1].shape[0]\n",
    "count_rating_neg = data[data['class'] == 0].shape[0]\n",
    "pos_and_neg_hour['percentage'] = pos_and_neg_hour.apply(lambda row: row[2]/count_rating_pos * 100 if row[1] == 1 else row[2]/count_rating_neg * 100, axis=1).round(2)\n",
    "pos_and_neg_hour.head(6)"
   ]
  },
  {
   "cell_type": "code",
   "execution_count": 20,
   "id": "2486be8a",
   "metadata": {},
   "outputs": [
    {
     "data": {
      "image/png": "[encoded data removed]",
      "text/plain": [
       "<Figure size 600x300 with 1 Axes>"
      ]
     },
     "metadata": {},
     "output_type": "display_data"
    }
   ],
   "source": [
    "fig, ax = plt.subplots(figsize=(6, 3))\n",
    "for c in [0, 1]:\n",
    "    rating_data = pos_and_neg_hour[pos_and_neg_hour['class'] == c]\n",
    "    ax.plot(rating_data['hour'], rating_data['percentage'], label='Положительный отзыв' if c == 1 else 'Отрицательный отзыв')\n",
    "\n",
    "ax.set_xlabel('Час')\n",
    "ax.set_ylabel('Процент')\n",
    "ax.set_title('Распределение процента\\nположительных и отрицательных отзывов по часам', fontsize=9)\n",
    "ax.legend(fontsize='x-small', loc='lower right')\n",
    "plt.grid(True, linestyle='-', linewidth=0.5, color='lightgrey')\n",
    "plt.xticks(fontsize=8)\n",
    "plt.yticks(fontsize=8)\n",
    "ax.spines['top'].set_visible(False)\n",
    "ax.spines['right'].set_visible(False)\n",
    "ax.spines['bottom'].set_linewidth(0.5)\n",
    "ax.spines['left'].set_linewidth(0.5)\n",
    "plt.show()\n"
   ]
  },
  {
   "cell_type": "markdown",
   "id": "f3e2b8a1",
   "metadata": {},
   "source": [
    "В целом, нет большой разницей между тем, в какое время люди пишут отзыв. Можно увидеть, что самое большое количество положительных отзывов пишут в районе 15 часов, а самое большое количество отрицательных отзывов пользователи оставляют около полудня."
   ]
  },
  {
   "cell_type": "markdown",
   "id": "d253efec",
   "metadata": {},
   "source": [
    "**А сейчас минутка NLP**\n",
    "\n",
    "Перед тем, как перейти к части с предсказанием оценки, я бы хотела провести небольшой анализ текста и посмотреть, что пишут люди, когда им нравится банк, и когда он им не нравится"
   ]
  },
  {
   "cell_type": "code",
   "execution_count": 21,
   "id": "4c7cb20f",
   "metadata": {},
   "outputs": [],
   "source": [
    "import nltk\n",
    "from nltk.corpus import stopwords\n",
    "ru_stopwords = stopwords.words(\"russian\")\n",
    "from nltk.tokenize import sent_tokenize, word_tokenize\n",
    "import pymorphy3\n",
    "from nltk.stem import SnowballStemmer\n",
    "import time\n",
    "from sklearn.feature_extraction.text import TfidfVectorizer\n"
   ]
  },
  {
   "cell_type": "markdown",
   "id": "7ad862d7",
   "metadata": {},
   "source": [
    "Сначала очистим текст, сделаем токенизацию и лемматизацию"
   ]
  },
  {
   "cell_type": "code",
   "execution_count": 22,
   "id": "70580e44",
   "metadata": {},
   "outputs": [],
   "source": [
    "from bs4 import BeautifulSoup\n",
    "import re\n",
    "def preprocess(data):\n",
    "    cleaned_body = []\n",
    "    morph = pymorphy3.MorphAnalyzer()\n",
    "    d = list(data['body'])\n",
    "    for b in d:\n",
    "        soup = BeautifulSoup(b, 'html.parser')\n",
    "        text = soup.get_text()\n",
    "        text = BeautifulSoup(text)\n",
    "        b = text.get_text()\n",
    "        words = re.findall(r'\\b[а-яА-Яa-zA-Z]+\\b', b)\n",
    "        processed_words = []\n",
    "        for w in words:\n",
    "            if w.isalpha() and len(w) > 1 and w not in ru_stopwords:\n",
    "                w = w.strip()\n",
    "                try:\n",
    "                    w = morph.parse(w)[0].normal_form\n",
    "                    processed_words.append(w)\n",
    "                except:\n",
    "                    processed_words.append(w)\n",
    "\n",
    "        cleaned_body.append(' '.join(processed_words))\n",
    "    data['cleaned_body'] = cleaned_body\n",
    "    return data"
   ]
  },
  {
   "cell_type": "code",
   "execution_count": 23,
   "id": "21b98d58",
   "metadata": {},
   "outputs": [
    {
     "name": "stderr",
     "output_type": "stream",
     "text": [
      "C:\\Users\\mayko\\AppData\\Local\\Temp\\ipykernel_19292\\292819202.py:8: MarkupResemblesLocatorWarning: The input looks more like a filename than markup. You may want to open this file and pass the filehandle into Beautiful Soup.\n",
      "  soup = BeautifulSoup(b, 'html.parser')\n"
     ]
    },
    {
     "data": {
      "text/html": [
       "<div>\n",
       "<style scoped>\n",
       "    .dataframe tbody tr th:only-of-type {\n",
       "        vertical-align: middle;\n",
       "    }\n",
       "\n",
       "    .dataframe tbody tr th {\n",
       "        vertical-align: top;\n",
       "    }\n",
       "\n",
       "    .dataframe thead th {\n",
       "        text-align: right;\n",
       "    }\n",
       "</style>\n",
       "<table border=\"1\" class=\"dataframe\">\n",
       "  <thead>\n",
       "    <tr style=\"text-align: right;\">\n",
       "      <th></th>\n",
       "      <th>body</th>\n",
       "      <th>cleaned_body</th>\n",
       "      <th>title</th>\n",
       "      <th>bank_name</th>\n",
       "      <th>rating</th>\n",
       "      <th>date</th>\n",
       "      <th>class</th>\n",
       "    </tr>\n",
       "  </thead>\n",
       "  <tbody>\n",
       "    <tr>\n",
       "      <th>0</th>\n",
       "      <td>&amp;lt;p&amp;gt;Добрый день&amp;lt;/p&amp;gt;\\r\\n&amp;lt;p&amp;gt;пиш...</td>\n",
       "      <td>добрый день писать сюда скорый разрешение вопр...</td>\n",
       "      <td>Заблокировали средства</td>\n",
       "      <td>Еком Банк</td>\n",
       "      <td>1</td>\n",
       "      <td>2023-01-03 12:46:11</td>\n",
       "      <td>0</td>\n",
       "    </tr>\n",
       "    <tr>\n",
       "      <th>1</th>\n",
       "      <td>&amp;lt;p&amp;gt;При возврате просроченной задолженнос...</td>\n",
       "      <td>при возврат просрочить задолженность банк звон...</td>\n",
       "      <td>Возврат просроченной задолженномти</td>\n",
       "      <td>Тинькофф Банк</td>\n",
       "      <td>1</td>\n",
       "      <td>2023-01-03 12:31:46</td>\n",
       "      <td>0</td>\n",
       "    </tr>\n",
       "    <tr>\n",
       "      <th>2</th>\n",
       "      <td>&amp;lt;p&amp;gt;07.09.22 ю была оформлена кредитная к...</td>\n",
       "      <td>оформить кредитный карта день банк открытие по...</td>\n",
       "      <td>Ошибочное начисление комиссии, затягивание про...</td>\n",
       "      <td>Банк Открытие</td>\n",
       "      <td>1</td>\n",
       "      <td>2023-01-03 12:23:11</td>\n",
       "      <td>0</td>\n",
       "    </tr>\n",
       "    <tr>\n",
       "      <th>3</th>\n",
       "      <td>&amp;lt;p&amp;gt;Новый год начинается с приятностей)&amp;l...</td>\n",
       "      <td>новый год начинаться приятность никогда понима...</td>\n",
       "      <td>Клиентоориентиванность 10 из 10</td>\n",
       "      <td>Тинькофф Банк</td>\n",
       "      <td>5</td>\n",
       "      <td>2023-01-03 12:16:07</td>\n",
       "      <td>1</td>\n",
       "    </tr>\n",
       "    <tr>\n",
       "      <th>4</th>\n",
       "      <td>&amp;lt;p&amp;gt;Увидела на сайте Газпромбанка акцию с...</td>\n",
       "      <td>увидеть сайт газпромбанк акция бонус кредитный...</td>\n",
       "      <td>Как Газпромбанк обманывает клиентов с акционны...</td>\n",
       "      <td>Газпромбанк</td>\n",
       "      <td>1</td>\n",
       "      <td>2023-01-03 12:12:36</td>\n",
       "      <td>0</td>\n",
       "    </tr>\n",
       "  </tbody>\n",
       "</table>\n",
       "</div>"
      ],
      "text/plain": [
       "                                                body  \\\n",
       "0  &lt;p&gt;Добрый день&lt;/p&gt;\\r\\n&lt;p&gt;пиш...   \n",
       "1  &lt;p&gt;При возврате просроченной задолженнос...   \n",
       "2  &lt;p&gt;07.09.22 ю была оформлена кредитная к...   \n",
       "3  &lt;p&gt;Новый год начинается с приятностей)&l...   \n",
       "4  &lt;p&gt;Увидела на сайте Газпромбанка акцию с...   \n",
       "\n",
       "                                        cleaned_body  \\\n",
       "0  добрый день писать сюда скорый разрешение вопр...   \n",
       "1  при возврат просрочить задолженность банк звон...   \n",
       "2  оформить кредитный карта день банк открытие по...   \n",
       "3  новый год начинаться приятность никогда понима...   \n",
       "4  увидеть сайт газпромбанк акция бонус кредитный...   \n",
       "\n",
       "                                               title      bank_name  rating  \\\n",
       "0                             Заблокировали средства      Еком Банк       1   \n",
       "1                 Возврат просроченной задолженномти  Тинькофф Банк       1   \n",
       "2  Ошибочное начисление комиссии, затягивание про...  Банк Открытие       1   \n",
       "3                    Клиентоориентиванность 10 из 10  Тинькофф Банк       5   \n",
       "4  Как Газпромбанк обманывает клиентов с акционны...    Газпромбанк       1   \n",
       "\n",
       "                 date  class  \n",
       "0 2023-01-03 12:46:11      0  \n",
       "1 2023-01-03 12:31:46      0  \n",
       "2 2023-01-03 12:23:11      0  \n",
       "3 2023-01-03 12:16:07      1  \n",
       "4 2023-01-03 12:12:36      0  "
      ]
     },
     "execution_count": 23,
     "metadata": {},
     "output_type": "execute_result"
    }
   ],
   "source": [
    "nlp_cols = 'body cleaned_body title bank_name rating date class'.split()\n",
    "nlp_data = preprocess(data)[nlp_cols]\n",
    "# nlp_data['title'] = nlp_data['title'].lower( )\n",
    "# nlp_data = nlp_data[nlp_cols]\n",
    "nlp_data.head()"
   ]
  },
  {
   "cell_type": "code",
   "execution_count": null,
   "id": "f6a200c1",
   "metadata": {},
   "outputs": [
    {
     "ename": "NameError",
     "evalue": "name 'nlp_data' is not defined",
     "output_type": "error",
     "traceback": [
      "\u001b[1;31m---------------------------------------------------------------------------\u001b[0m",
      "\u001b[1;31mNameError\u001b[0m                                 Traceback (most recent call last)",
      "Cell \u001b[1;32mIn[17], line 6\u001b[0m\n\u001b[0;32m      3\u001b[0m \u001b[38;5;28;01mimport\u001b[39;00m \u001b[38;5;21;01mnumpy\u001b[39;00m \u001b[38;5;28;01mas\u001b[39;00m \u001b[38;5;21;01mnp\u001b[39;00m\n\u001b[0;32m      5\u001b[0m \u001b[38;5;66;03m# Предположим, у вас есть большой корпус текстов\u001b[39;00m\n\u001b[1;32m----> 6\u001b[0m corpus \u001b[38;5;241m=\u001b[39m \u001b[38;5;28mlist\u001b[39m(\u001b[43mnlp_data\u001b[49m[\u001b[38;5;124m'\u001b[39m\u001b[38;5;124mcleaned_body\u001b[39m\u001b[38;5;124m'\u001b[39m])\n\u001b[0;32m      7\u001b[0m \u001b[38;5;66;03m# Инициализация TfidfVectorizer с использованием частичного обучения\u001b[39;00m\n\u001b[0;32m      8\u001b[0m tfidf_vectorizer \u001b[38;5;241m=\u001b[39m TfidfVectorizer(stop_words\u001b[38;5;241m=\u001b[39m\u001b[38;5;124m'\u001b[39m\u001b[38;5;124menglish\u001b[39m\u001b[38;5;124m'\u001b[39m, use_idf\u001b[38;5;241m=\u001b[39m\u001b[38;5;28;01mTrue\u001b[39;00m, smooth_idf\u001b[38;5;241m=\u001b[39m\u001b[38;5;28;01mTrue\u001b[39;00m)\n",
      "\u001b[1;31mNameError\u001b[0m: name 'nlp_data' is not defined"
     ]
    }
   ],
   "source": [
    "from sklearn.feature_extraction.text import TfidfVectorizer\n",
    "import joblib\n",
    "import numpy as np\n",
    "\n",
    "# Предположим, у вас есть большой корпус текстов\n",
    "corpus = list(nlp_data['cleaned_body'])\n",
    "# Инициализация TfidfVectorizer с использованием частичного обучения\n",
    "tfidf_vectorizer = TfidfVectorizer(stop_words='english', use_idf=True, smooth_idf=True)\n",
    "\n",
    "# Разделение корпуса на порции и частичное обучение\n",
    "batch_size = 1000\n",
    "num_batches = int(np.ceil(len(corpus) / batch_size))\n",
    "\n",
    "for i in range(num_batches):\n",
    "    start_idx = i * batch_size\n",
    "    end_idx = min((i + 1) * batch_size, len(corpus))\n",
    "    batch = corpus[start_idx:end_idx]\n",
    "    tfidf_vectorizer.partial_fit(batch)\n",
    "\n",
    "# Сохранение обученного векторайзера\n",
    "joblib.dump(tfidf_vectorizer, 'tfidf_vectorizer.pkl')\n",
    "\n",
    "# Загрузка обученного векторайзера\n",
    "loaded_tfidf_vectorizer = joblib.load('tfidf_vectorizer.pkl')\n",
    "\n",
    "tfidf_matrix_new = loaded_tfidf_vectorizer.transform(corpus)\n"
   ]
  },
  {
   "cell_type": "code",
   "execution_count": null,
   "id": "01bf78f4",
   "metadata": {},
   "outputs": [],
   "source": [
    "tf_idf_vectorizer = TfidfVectorizer(use_idf=True, smooth_idf=True)\n",
    "documents = data['cleaned_body'].tolist()\n",
    "tfidf_matrix = tf_idf_vectorizer.fit_transform(documents)\n",
    "feature_names = tf_idf_vectorizer.get_feature_names_out()\n",
    "tfidf_scores = tfidf_matrix.toarray()"
   ]
  },
  {
   "cell_type": "code",
   "execution_count": 36,
   "id": "7b3168ef",
   "metadata": {},
   "outputs": [
    {
     "data": {
      "text/plain": [
       "68503"
      ]
     },
     "execution_count": 36,
     "metadata": {},
     "output_type": "execute_result"
    }
   ],
   "source": [
    "for i in tfidf_scores:\n",
    "    print(sorted(enumerate(i)))"
   ]
  },
  {
   "cell_type": "code",
   "execution_count": null,
   "id": "eb22a32e",
   "metadata": {},
   "outputs": [],
   "source": [
    "nlp_data_pos = nlp_data[nlp_data['class'] == 1]\n",
    "nlp_data_neg = nlp_data[nlp_data['class'] == 0]"
   ]
  },
  {
   "cell_type": "code",
   "execution_count": null,
   "id": "8d701c87",
   "metadata": {},
   "outputs": [],
   "source": [
    "def get_bigr_and_trigr(nlp_data):\n",
    "    bigrams_list = []\n",
    "    trigrams_list = []\n",
    "\n",
    "    for r in nlp_data['cleaned_body']:\n",
    "        r = r.split()\n",
    "        b = list(bigrams(r))\n",
    "        t = list(trigrams(r))\n",
    "        bigrams_list += b\n",
    "        trigrams_list += t\n",
    "    bigr_freq = Counter(bigrams_list)\n",
    "    trigr_freq = Counter(trigrams_list)\n",
    "    rows1 = [[' '.join(x[0]), x[1]] for x in bigr_freq.most_common(15)]\n",
    "    bigr_freq = pd.DataFrame(rows1, columns=['bigr', 'n'])\n",
    "    rows2 = [[' '.join(x[0]), x[1]] for x in trigr_freq.most_common(15)]\n",
    "    trigr_freq = pd.DataFrame(rows2, columns=['bigr', 'n'])\n",
    "    return bigr_freq, trigr_freq"
   ]
  },
  {
   "cell_type": "code",
   "execution_count": null,
   "id": "4e89f907",
   "metadata": {},
   "outputs": [
    {
     "data": {
      "text/html": [
       "<div>\n",
       "<style scoped>\n",
       "    .dataframe tbody tr th:only-of-type {\n",
       "        vertical-align: middle;\n",
       "    }\n",
       "\n",
       "    .dataframe tbody tr th {\n",
       "        vertical-align: top;\n",
       "    }\n",
       "\n",
       "    .dataframe thead th {\n",
       "        text-align: right;\n",
       "    }\n",
       "</style>\n",
       "<table border=\"1\" class=\"dataframe\">\n",
       "  <thead>\n",
       "    <tr style=\"text-align: right;\">\n",
       "      <th></th>\n",
       "      <th>bigr</th>\n",
       "      <th>n</th>\n",
       "    </tr>\n",
       "  </thead>\n",
       "  <tbody>\n",
       "    <tr>\n",
       "      <th>0</th>\n",
       "      <td>дебетовый карта</td>\n",
       "      <td>12365</td>\n",
       "    </tr>\n",
       "    <tr>\n",
       "      <th>1</th>\n",
       "      <td>тинькофф банк</td>\n",
       "      <td>10739</td>\n",
       "    </tr>\n",
       "    <tr>\n",
       "      <th>2</th>\n",
       "      <td>кредитный карта</td>\n",
       "      <td>8234</td>\n",
       "    </tr>\n",
       "    <tr>\n",
       "      <th>3</th>\n",
       "      <td>другой банк</td>\n",
       "      <td>7809</td>\n",
       "    </tr>\n",
       "    <tr>\n",
       "      <th>4</th>\n",
       "      <td>карта тинькофф</td>\n",
       "      <td>6849</td>\n",
       "    </tr>\n",
       "    <tr>\n",
       "      <th>5</th>\n",
       "      <td>мобильный приложение</td>\n",
       "      <td>6014</td>\n",
       "    </tr>\n",
       "    <tr>\n",
       "      <th>6</th>\n",
       "      <td>хороший банк</td>\n",
       "      <td>5981</td>\n",
       "    </tr>\n",
       "    <tr>\n",
       "      <th>7</th>\n",
       "      <td>банк тинькофф</td>\n",
       "      <td>5587</td>\n",
       "    </tr>\n",
       "    <tr>\n",
       "      <th>8</th>\n",
       "      <td>сотрудник банк</td>\n",
       "      <td>5174</td>\n",
       "    </tr>\n",
       "    <tr>\n",
       "      <th>9</th>\n",
       "      <td>очень удобный</td>\n",
       "      <td>4655</td>\n",
       "    </tr>\n",
       "    <tr>\n",
       "      <th>10</th>\n",
       "      <td>данный банк</td>\n",
       "      <td>4561</td>\n",
       "    </tr>\n",
       "    <tr>\n",
       "      <th>11</th>\n",
       "      <td>очень удобно</td>\n",
       "      <td>4510</td>\n",
       "    </tr>\n",
       "    <tr>\n",
       "      <th>12</th>\n",
       "      <td>бесплатный обслуживание</td>\n",
       "      <td>4414</td>\n",
       "    </tr>\n",
       "    <tr>\n",
       "      <th>13</th>\n",
       "      <td>банк очень</td>\n",
       "      <td>4276</td>\n",
       "    </tr>\n",
       "    <tr>\n",
       "      <th>14</th>\n",
       "      <td>тот поддержка</td>\n",
       "      <td>4186</td>\n",
       "    </tr>\n",
       "    <tr>\n",
       "      <th>15</th>\n",
       "      <td>дебетовый карта тинькофф</td>\n",
       "      <td>2394</td>\n",
       "    </tr>\n",
       "    <tr>\n",
       "      <th>16</th>\n",
       "      <td>хотеть выразить благодарность</td>\n",
       "      <td>1905</td>\n",
       "    </tr>\n",
       "    <tr>\n",
       "      <th>17</th>\n",
       "      <td>пользоваться услуга банк</td>\n",
       "      <td>1463</td>\n",
       "    </tr>\n",
       "    <tr>\n",
       "      <th>18</th>\n",
       "      <td>пользоваться дебетовый карта</td>\n",
       "      <td>1359</td>\n",
       "    </tr>\n",
       "    <tr>\n",
       "      <th>19</th>\n",
       "      <td>являться клиент банк</td>\n",
       "      <td>1347</td>\n",
       "    </tr>\n",
       "    <tr>\n",
       "      <th>20</th>\n",
       "      <td>банк хоум кредит</td>\n",
       "      <td>1345</td>\n",
       "    </tr>\n",
       "    <tr>\n",
       "      <th>21</th>\n",
       "      <td>карта tinkoff black</td>\n",
       "      <td>1306</td>\n",
       "    </tr>\n",
       "    <tr>\n",
       "      <th>22</th>\n",
       "      <td>самый хороший банк</td>\n",
       "      <td>1152</td>\n",
       "    </tr>\n",
       "    <tr>\n",
       "      <th>23</th>\n",
       "      <td>карта тинькофф банк</td>\n",
       "      <td>1057</td>\n",
       "    </tr>\n",
       "    <tr>\n",
       "      <th>24</th>\n",
       "      <td>карта другой банк</td>\n",
       "      <td>1049</td>\n",
       "    </tr>\n",
       "    <tr>\n",
       "      <th>25</th>\n",
       "      <td>добрый день хотеть</td>\n",
       "      <td>1001</td>\n",
       "    </tr>\n",
       "    <tr>\n",
       "      <th>26</th>\n",
       "      <td>оформить дебетовый карта</td>\n",
       "      <td>967</td>\n",
       "    </tr>\n",
       "    <tr>\n",
       "      <th>27</th>\n",
       "      <td>хоум кредит банк</td>\n",
       "      <td>913</td>\n",
       "    </tr>\n",
       "    <tr>\n",
       "      <th>28</th>\n",
       "      <td>карта тинькофф блэк</td>\n",
       "      <td>888</td>\n",
       "    </tr>\n",
       "    <tr>\n",
       "      <th>29</th>\n",
       "      <td>удобный мобильный приложение</td>\n",
       "      <td>828</td>\n",
       "    </tr>\n",
       "  </tbody>\n",
       "</table>\n",
       "</div>"
      ],
      "text/plain": [
       "                             bigr      n\n",
       "0                 дебетовый карта  12365\n",
       "1                   тинькофф банк  10739\n",
       "2                 кредитный карта   8234\n",
       "3                     другой банк   7809\n",
       "4                  карта тинькофф   6849\n",
       "5            мобильный приложение   6014\n",
       "6                    хороший банк   5981\n",
       "7                   банк тинькофф   5587\n",
       "8                  сотрудник банк   5174\n",
       "9                   очень удобный   4655\n",
       "10                    данный банк   4561\n",
       "11                   очень удобно   4510\n",
       "12        бесплатный обслуживание   4414\n",
       "13                     банк очень   4276\n",
       "14                  тот поддержка   4186\n",
       "15       дебетовый карта тинькофф   2394\n",
       "16  хотеть выразить благодарность   1905\n",
       "17       пользоваться услуга банк   1463\n",
       "18   пользоваться дебетовый карта   1359\n",
       "19           являться клиент банк   1347\n",
       "20               банк хоум кредит   1345\n",
       "21            карта tinkoff black   1306\n",
       "22             самый хороший банк   1152\n",
       "23            карта тинькофф банк   1057\n",
       "24              карта другой банк   1049\n",
       "25             добрый день хотеть   1001\n",
       "26       оформить дебетовый карта    967\n",
       "27               хоум кредит банк    913\n",
       "28            карта тинькофф блэк    888\n",
       "29   удобный мобильный приложение    828"
      ]
     },
     "execution_count": 174,
     "metadata": {},
     "output_type": "execute_result"
    }
   ],
   "source": [
    "rating1_bigr, rating1_trigr = get_bigr_and_trigr(nlp_data_pos)\n",
    "pd.merge(rating1_bigr, rating1_trigr, how=\"outer\")"
   ]
  },
  {
   "cell_type": "markdown",
   "id": "25289095",
   "metadata": {},
   "source": [
    "Теперь посчитаем tf-idf для каждого слова в отзыве и оставим только самые выажные слова - чтобы избавиться от слов типо \"доброе утро\""
   ]
  },
  {
   "cell_type": "code",
   "execution_count": null,
   "id": "c4d4102a",
   "metadata": {},
   "outputs": [],
   "source": []
  },
  {
   "cell_type": "code",
   "execution_count": null,
   "id": "34253067",
   "metadata": {},
   "outputs": [],
   "source": []
  },
  {
   "cell_type": "code",
   "execution_count": null,
   "id": "ed766f3a",
   "metadata": {},
   "outputs": [],
   "source": []
  },
  {
   "cell_type": "code",
   "execution_count": null,
   "id": "69461d6a",
   "metadata": {},
   "outputs": [],
   "source": [
    "def top_tfidf_words(row, n=20):\n",
    "    return row.sort_values(ascending=False).index[:n].tolist()\n",
    "top_words_rating1 = tfidf_rating1.apply(top_tfidf_words, axis=1)"
   ]
  },
  {
   "cell_type": "code",
   "execution_count": null,
   "id": "b95330ff",
   "metadata": {},
   "outputs": [],
   "source": [
    "rating1_bigr, rating1_trigr = get_bigr_and_trigr(nlp_data_rating1)\n"
   ]
  },
  {
   "cell_type": "code",
   "execution_count": null,
   "id": "dfd60804",
   "metadata": {},
   "outputs": [
    {
     "data": {
      "text/html": [
       "<div>\n",
       "<style scoped>\n",
       "    .dataframe tbody tr th:only-of-type {\n",
       "        vertical-align: middle;\n",
       "    }\n",
       "\n",
       "    .dataframe tbody tr th {\n",
       "        vertical-align: top;\n",
       "    }\n",
       "\n",
       "    .dataframe thead th {\n",
       "        text-align: right;\n",
       "    }\n",
       "</style>\n",
       "<table border=\"1\" class=\"dataframe\">\n",
       "  <thead>\n",
       "    <tr style=\"text-align: right;\">\n",
       "      <th></th>\n",
       "      <th>bigr</th>\n",
       "      <th>n</th>\n",
       "    </tr>\n",
       "  </thead>\n",
       "  <tbody>\n",
       "    <tr>\n",
       "      <th>0</th>\n",
       "      <td>кредитный карта</td>\n",
       "      <td>3863</td>\n",
       "    </tr>\n",
       "    <tr>\n",
       "      <th>1</th>\n",
       "      <td>горячий линия</td>\n",
       "      <td>3686</td>\n",
       "    </tr>\n",
       "    <tr>\n",
       "      <th>2</th>\n",
       "      <td>сотрудник банк</td>\n",
       "      <td>3006</td>\n",
       "    </tr>\n",
       "    <tr>\n",
       "      <th>3</th>\n",
       "      <td>денежный средство</td>\n",
       "      <td>2927</td>\n",
       "    </tr>\n",
       "    <tr>\n",
       "      <th>4</th>\n",
       "      <td>альфа банк</td>\n",
       "      <td>2618</td>\n",
       "    </tr>\n",
       "    <tr>\n",
       "      <th>5</th>\n",
       "      <td>дебетовый карта</td>\n",
       "      <td>2191</td>\n",
       "    </tr>\n",
       "    <tr>\n",
       "      <th>6</th>\n",
       "      <td>отделение банк</td>\n",
       "      <td>2087</td>\n",
       "    </tr>\n",
       "    <tr>\n",
       "      <th>7</th>\n",
       "      <td>личный кабинет</td>\n",
       "      <td>1761</td>\n",
       "    </tr>\n",
       "    <tr>\n",
       "      <th>8</th>\n",
       "      <td>добрый день</td>\n",
       "      <td>1719</td>\n",
       "    </tr>\n",
       "    <tr>\n",
       "      <th>9</th>\n",
       "      <td>мобильный приложение</td>\n",
       "      <td>1465</td>\n",
       "    </tr>\n",
       "    <tr>\n",
       "      <th>10</th>\n",
       "      <td>клиент банк</td>\n",
       "      <td>1392</td>\n",
       "    </tr>\n",
       "    <tr>\n",
       "      <th>11</th>\n",
       "      <td>другой банк</td>\n",
       "      <td>1392</td>\n",
       "    </tr>\n",
       "    <tr>\n",
       "      <th>12</th>\n",
       "      <td>сей пора</td>\n",
       "      <td>1349</td>\n",
       "    </tr>\n",
       "    <tr>\n",
       "      <th>13</th>\n",
       "      <td>данный банк</td>\n",
       "      <td>1293</td>\n",
       "    </tr>\n",
       "    <tr>\n",
       "      <th>14</th>\n",
       "      <td>рабочий день</td>\n",
       "      <td>1228</td>\n",
       "    </tr>\n",
       "  </tbody>\n",
       "</table>\n",
       "</div>"
      ],
      "text/plain": [
       "                    bigr     n\n",
       "0        кредитный карта  3863\n",
       "1          горячий линия  3686\n",
       "2         сотрудник банк  3006\n",
       "3      денежный средство  2927\n",
       "4             альфа банк  2618\n",
       "5        дебетовый карта  2191\n",
       "6         отделение банк  2087\n",
       "7         личный кабинет  1761\n",
       "8            добрый день  1719\n",
       "9   мобильный приложение  1465\n",
       "10           клиент банк  1392\n",
       "11           другой банк  1392\n",
       "12              сей пора  1349\n",
       "13           данный банк  1293\n",
       "14          рабочий день  1228"
      ]
     },
     "execution_count": 106,
     "metadata": {},
     "output_type": "execute_result"
    }
   ],
   "source": [
    "rating1_bigr"
   ]
  },
  {
   "cell_type": "code",
   "execution_count": null,
   "id": "156f769a",
   "metadata": {},
   "outputs": [
    {
     "data": {
      "text/html": [
       "<div>\n",
       "<style scoped>\n",
       "    .dataframe tbody tr th:only-of-type {\n",
       "        vertical-align: middle;\n",
       "    }\n",
       "\n",
       "    .dataframe tbody tr th {\n",
       "        vertical-align: top;\n",
       "    }\n",
       "\n",
       "    .dataframe thead th {\n",
       "        text-align: right;\n",
       "    }\n",
       "</style>\n",
       "<table border=\"1\" class=\"dataframe\">\n",
       "  <thead>\n",
       "    <tr style=\"text-align: right;\">\n",
       "      <th></th>\n",
       "      <th>bigr</th>\n",
       "      <th>n</th>\n",
       "    </tr>\n",
       "  </thead>\n",
       "  <tbody>\n",
       "    <tr>\n",
       "      <th>0</th>\n",
       "      <td>позвонить горячий линия</td>\n",
       "      <td>710</td>\n",
       "    </tr>\n",
       "    <tr>\n",
       "      <th>1</th>\n",
       "      <td>звонить горячий линия</td>\n",
       "      <td>495</td>\n",
       "    </tr>\n",
       "    <tr>\n",
       "      <th>2</th>\n",
       "      <td>на следующий день</td>\n",
       "      <td>386</td>\n",
       "    </tr>\n",
       "    <tr>\n",
       "      <th>3</th>\n",
       "      <td>являться клиент банк</td>\n",
       "      <td>371</td>\n",
       "    </tr>\n",
       "    <tr>\n",
       "      <th>4</th>\n",
       "      <td>оформить кредитный карта</td>\n",
       "      <td>308</td>\n",
       "    </tr>\n",
       "    <tr>\n",
       "      <th>5</th>\n",
       "      <td>горячий линия банк</td>\n",
       "      <td>308</td>\n",
       "    </tr>\n",
       "    <tr>\n",
       "      <th>6</th>\n",
       "      <td>обратиться отделение банк</td>\n",
       "      <td>301</td>\n",
       "    </tr>\n",
       "    <tr>\n",
       "      <th>7</th>\n",
       "      <td>на горячий линия</td>\n",
       "      <td>271</td>\n",
       "    </tr>\n",
       "    <tr>\n",
       "      <th>8</th>\n",
       "      <td>карта другой банк</td>\n",
       "      <td>271</td>\n",
       "    </tr>\n",
       "    <tr>\n",
       "      <th>9</th>\n",
       "      <td>льготный период день</td>\n",
       "      <td>257</td>\n",
       "    </tr>\n",
       "    <tr>\n",
       "      <th>10</th>\n",
       "      <td>карта альфа банк</td>\n",
       "      <td>249</td>\n",
       "    </tr>\n",
       "    <tr>\n",
       "      <th>11</th>\n",
       "      <td>течение рабочий день</td>\n",
       "      <td>248</td>\n",
       "    </tr>\n",
       "    <tr>\n",
       "      <th>12</th>\n",
       "      <td>обратиться горячий линия</td>\n",
       "      <td>209</td>\n",
       "    </tr>\n",
       "    <tr>\n",
       "      <th>13</th>\n",
       "      <td>горячий линия сказать</td>\n",
       "      <td>208</td>\n",
       "    </tr>\n",
       "    <tr>\n",
       "      <th>14</th>\n",
       "      <td>звонок горячий линия</td>\n",
       "      <td>206</td>\n",
       "    </tr>\n",
       "  </tbody>\n",
       "</table>\n",
       "</div>"
      ],
      "text/plain": [
       "                         bigr    n\n",
       "0     позвонить горячий линия  710\n",
       "1       звонить горячий линия  495\n",
       "2           на следующий день  386\n",
       "3        являться клиент банк  371\n",
       "4    оформить кредитный карта  308\n",
       "5          горячий линия банк  308\n",
       "6   обратиться отделение банк  301\n",
       "7            на горячий линия  271\n",
       "8           карта другой банк  271\n",
       "9        льготный период день  257\n",
       "10           карта альфа банк  249\n",
       "11       течение рабочий день  248\n",
       "12   обратиться горячий линия  209\n",
       "13      горячий линия сказать  208\n",
       "14       звонок горячий линия  206"
      ]
     },
     "execution_count": 107,
     "metadata": {},
     "output_type": "execute_result"
    }
   ],
   "source": [
    "rating1_trigr"
   ]
  },
  {
   "cell_type": "code",
   "execution_count": null,
   "id": "9179668e",
   "metadata": {},
   "outputs": [],
   "source": [
    "def draw_net(data_for_net, edge_color = '#71a5e3', node_color = '#1e589e'):\n",
    "    G = nx.Graph()\n",
    "    for _, row in data_for_net.iterrows():\n",
    "        words = row['bigr'].split()\n",
    "        connections = [(words[i], words[i+1]) for i in range(len(words)-1)]\n",
    "        G.add_edges_from(connections)\n",
    "\n",
    "    layout = nx.spring_layout(G)\n",
    "    edge_1 = []\n",
    "    edge_2 = []\n",
    "\n",
    "    for edge in G.edges():\n",
    "        x0, y0 = layout[edge[0]]\n",
    "        x1, y1 = layout[edge[1]]\n",
    "        edge_1.append(x0)\n",
    "        edge_1.append(x1)\n",
    "        edge_1.append(None)\n",
    "        edge_2.append(y0)\n",
    "        edge_2.append(y1)\n",
    "        edge_2.append(None)\n",
    "\n",
    "    edges = go.Scatter(\n",
    "        x=edge_1, y=edge_2,\n",
    "        line=dict(width=0.5, color=edge_color),\n",
    "        hoverinfo='none',\n",
    "        mode='lines')\n",
    "\n",
    "    node_x = []\n",
    "    node_y = []\n",
    "    node_labels = []\n",
    "    for node in G.nodes():\n",
    "        x, y = layout[node]\n",
    "        node_x.append(x)\n",
    "        node_y.append(y)\n",
    "        node_labels.append(node)\n",
    "\n",
    "    nodes = go.Scatter(\n",
    "        x=node_x, y=node_y,\n",
    "        mode='markers+text',\n",
    "        hoverinfo='text',\n",
    "        text=node_labels,\n",
    "        textposition='bottom center',\n",
    "        marker={\"color\":node_color, \"size\":10}\n",
    "    )\n",
    "\n",
    "    fig = go.Figure(data=[edges, nodes],\n",
    "                layout=go.Layout(\n",
    "                    width=800,\n",
    "                    height=600,\n",
    "                    showlegend=False,\n",
    "                    hovermode='closest',\n",
    "                    margin = {'b': 0, 'l': 0, 'r': 0, 't': 0},\n",
    "                    xaxis = {'showgrid': False, 'zeroline': False, 'showticklabels': False},\n",
    "                    yaxis = {'showgrid': False, 'zeroline': False, 'showticklabels': False}))\n",
    "\n",
    "    fig.show()\n"
   ]
  },
  {
   "cell_type": "code",
   "execution_count": null,
   "id": "74eb21f1",
   "metadata": {},
   "outputs": [
    {
     "data": {
      "application/vnd.plotly.v1+json": {
       "config": {
        "plotlyServerURL": "https://plot.ly"
       },
       "data": [
        {
         "hoverinfo": "none",
         "line": {
          "color": "#71a5e3",
          "width": 0.5
         },
         "mode": "lines",
         "type": "scatter",
         "x": [
          0.3792413968360023,
          0.265136545486609,
          null,
          0.3792413968360023,
          0.47117697642418416,
          null,
          0.265136545486609,
          0.3713849760322663,
          null,
          0.265136545486609,
          0.13360882040709507,
          null,
          0.265136545486609,
          0.1557612154784792,
          null,
          -0.3623371199501238,
          -0.18819337057556415,
          null,
          -0.3623371199501238,
          -0.46785529840680035,
          null,
          -0.3623371199501238,
          -0.4117481651620299,
          null,
          -0.3623371199501238,
          -0.3663409348119518,
          null,
          -0.3623371199501238,
          -0.2564578086089565,
          null,
          -0.3623371199501238,
          -0.4848985680119241,
          null,
          -0.18819337057556415,
          0.0023065431270237967,
          null,
          -0.18819337057556415,
          -0.2689233125911956,
          null,
          0.020443607798814125,
          0.0023065431270237967,
          null,
          0.0023065431270237967,
          0.1557612154784792,
          null,
          0.0023065431270237967,
          -0.11948806309065806,
          null,
          0.0023065431270237967,
          -0.03499477545495211,
          null,
          0.0023065431270237967,
          0.13360882040709507,
          null,
          0.0023065431270237967,
          0.08487895269708143,
          null,
          -0.4411051006011064,
          -0.4393784385971498,
          null,
          -0.11948806309065806,
          -0.2564578086089565,
          null,
          0.7601235768608192,
          0.8095717661937863,
          null,
          -0.28667108709617134,
          -0.2914033334013667,
          null,
          -0.2914033334013667,
          -0.4042473184759216,
          null,
          -0.2914033334013667,
          -0.33396457364314563,
          null,
          -0.2914033334013667,
          -0.19184286442872114,
          null,
          0.36595243815768724,
          0.32136075386654966,
          null,
          -0.03499477545495211,
          -0.08310789279597629,
          null,
          0.9999999999999999,
          0.9209693168329196,
          null,
          -0.4042473184759216,
          -0.49568956870786285,
          null,
          -0.3663409348119518,
          -0.33396457364314563,
          null,
          -0.1332692917877383,
          -0.19184286442872114,
          null
         ],
         "y": [
          0.05701969834599041,
          -0.04072430507060135,
          null,
          0.05701969834599041,
          0.12077181366290642,
          null,
          -0.04072430507060135,
          -0.05744062096213133,
          null,
          -0.04072430507060135,
          -0.08811389151578584,
          null,
          -0.04072430507060135,
          -0.12962286469585932,
          null,
          -0.19476495563299523,
          -0.192159328775315,
          null,
          -0.19476495563299523,
          -0.27315186361411936,
          null,
          -0.19476495563299523,
          -0.31396451483787174,
          null,
          -0.19476495563299523,
          0.005165915607032417,
          null,
          -0.19476495563299523,
          -0.2803886629905842,
          null,
          -0.19476495563299523,
          -0.19854257634242492,
          null,
          -0.192159328775315,
          -0.18290393913336722,
          null,
          -0.192159328775315,
          -0.19829092425267758,
          null,
          -0.2986565373063228,
          -0.18290393913336722,
          null,
          -0.18290393913336722,
          -0.12962286469585932,
          null,
          -0.18290393913336722,
          -0.26617685907833655,
          null,
          -0.18290393913336722,
          -0.07312356163527998,
          null,
          -0.18290393913336722,
          -0.08811389151578584,
          null,
          -0.18290393913336722,
          -0.2591025358043635,
          null,
          0.7747641764692614,
          0.7072308208858334,
          null,
          -0.26617685907833655,
          -0.2803886629905842,
          null,
          -0.5077370306974957,
          -0.5545338841545524,
          null,
          0.4722171338975791,
          0.3834056204571174,
          null,
          0.3834056204571174,
          0.46058106572160873,
          null,
          0.3834056204571174,
          0.19703576181812021,
          null,
          0.3834056204571174,
          0.5020239358487022,
          null,
          -0.8798807725900578,
          -0.8312123265586049,
          null,
          -0.07312356163527998,
          0.01518768657110007,
          null,
          0.5253217764181405,
          0.4805119968009336,
          null,
          0.46058106572160873,
          0.5185385507608692,
          null,
          0.005165915607032417,
          0.19703576181812021,
          null,
          0.6007160023835509,
          0.5020239358487022,
          null
         ]
        },
        {
         "hoverinfo": "text",
         "marker": {
          "color": "#1e589e",
          "size": 10
         },
         "mode": "markers+text",
         "text": [
          "кредитный",
          "карта",
          "горячий",
          "линия",
          "сотрудник",
          "банк",
          "денежный",
          "средство",
          "альфа",
          "дебетовый",
          "отделение",
          "личный",
          "кабинет",
          "добрый",
          "день",
          "мобильный",
          "приложение",
          "клиент",
          "другой",
          "сей",
          "пора",
          "данный",
          "рабочий",
          "позвонить",
          "звонить",
          "на",
          "следующий",
          "являться",
          "оформить",
          "обратиться",
          "льготный",
          "период",
          "течение",
          "сказать",
          "звонок"
         ],
         "textposition": "bottom center",
         "type": "scatter",
         "x": [
          0.3792413968360023,
          0.265136545486609,
          -0.3623371199501238,
          -0.18819337057556415,
          0.020443607798814125,
          0.0023065431270237967,
          -0.4411051006011064,
          -0.4393784385971498,
          0.1557612154784792,
          0.3713849760322663,
          -0.11948806309065806,
          0.7601235768608192,
          0.8095717661937863,
          -0.28667108709617134,
          -0.2914033334013667,
          0.36595243815768724,
          0.32136075386654966,
          -0.03499477545495211,
          0.13360882040709507,
          0.9999999999999999,
          0.9209693168329196,
          0.08487895269708143,
          -0.4042473184759216,
          -0.46785529840680035,
          -0.4117481651620299,
          -0.3663409348119518,
          -0.33396457364314563,
          -0.08310789279597629,
          0.47117697642418416,
          -0.2564578086089565,
          -0.1332692917877383,
          -0.19184286442872114,
          -0.49568956870786285,
          -0.2689233125911956,
          -0.4848985680119241
         ],
         "y": [
          0.05701969834599041,
          -0.04072430507060135,
          -0.19476495563299523,
          -0.192159328775315,
          -0.2986565373063228,
          -0.18290393913336722,
          0.7747641764692614,
          0.7072308208858334,
          -0.12962286469585932,
          -0.05744062096213133,
          -0.26617685907833655,
          -0.5077370306974957,
          -0.5545338841545524,
          0.4722171338975791,
          0.3834056204571174,
          -0.8798807725900578,
          -0.8312123265586049,
          -0.07312356163527998,
          -0.08811389151578584,
          0.5253217764181405,
          0.4805119968009336,
          -0.2591025358043635,
          0.46058106572160873,
          -0.27315186361411936,
          -0.31396451483787174,
          0.005165915607032417,
          0.19703576181812021,
          0.01518768657110007,
          0.12077181366290642,
          -0.2803886629905842,
          0.6007160023835509,
          0.5020239358487022,
          0.5185385507608692,
          -0.19829092425267758,
          -0.19854257634242492
         ]
        }
       ],
       "layout": {
        "height": 600,
        "hovermode": "closest",
        "margin": {
         "b": 0,
         "l": 0,
         "r": 0,
         "t": 0
        },
        "showlegend": false,
        "template": {
         "data": {
          "bar": [
           {
            "error_x": {
             "color": "#2a3f5f"
            },
            "error_y": {
             "color": "#2a3f5f"
            },
            "marker": {
             "line": {
              "color": "#E5ECF6",
              "width": 0.5
             },
             "pattern": {
              "fillmode": "overlay",
              "size": 10,
              "solidity": 0.2
             }
            },
            "type": "bar"
           }
          ],
          "barpolar": [
           {
            "marker": {
             "line": {
              "color": "#E5ECF6",
              "width": 0.5
             },
             "pattern": {
              "fillmode": "overlay",
              "size": 10,
              "solidity": 0.2
             }
            },
            "type": "barpolar"
           }
          ],
          "carpet": [
           {
            "aaxis": {
             "endlinecolor": "#2a3f5f",
             "gridcolor": "white",
             "linecolor": "white",
             "minorgridcolor": "white",
             "startlinecolor": "#2a3f5f"
            },
            "baxis": {
             "endlinecolor": "#2a3f5f",
             "gridcolor": "white",
             "linecolor": "white",
             "minorgridcolor": "white",
             "startlinecolor": "#2a3f5f"
            },
            "type": "carpet"
           }
          ],
          "choropleth": [
           {
            "colorbar": {
             "outlinewidth": 0,
             "ticks": ""
            },
            "type": "choropleth"
           }
          ],
          "contour": [
           {
            "colorbar": {
             "outlinewidth": 0,
             "ticks": ""
            },
            "colorscale": [
             [
              0,
              "#0d0887"
             ],
             [
              0.1111111111111111,
              "#46039f"
             ],
             [
              0.2222222222222222,
              "#7201a8"
             ],
             [
              0.3333333333333333,
              "#9c179e"
             ],
             [
              0.4444444444444444,
              "#bd3786"
             ],
             [
              0.5555555555555556,
              "#d8576b"
             ],
             [
              0.6666666666666666,
              "#ed7953"
             ],
             [
              0.7777777777777778,
              "#fb9f3a"
             ],
             [
              0.8888888888888888,
              "#fdca26"
             ],
             [
              1,
              "#f0f921"
             ]
            ],
            "type": "contour"
           }
          ],
          "contourcarpet": [
           {
            "colorbar": {
             "outlinewidth": 0,
             "ticks": ""
            },
            "type": "contourcarpet"
           }
          ],
          "heatmap": [
           {
            "colorbar": {
             "outlinewidth": 0,
             "ticks": ""
            },
            "colorscale": [
             [
              0,
              "#0d0887"
             ],
             [
              0.1111111111111111,
              "#46039f"
             ],
             [
              0.2222222222222222,
              "#7201a8"
             ],
             [
              0.3333333333333333,
              "#9c179e"
             ],
             [
              0.4444444444444444,
              "#bd3786"
             ],
             [
              0.5555555555555556,
              "#d8576b"
             ],
             [
              0.6666666666666666,
              "#ed7953"
             ],
             [
              0.7777777777777778,
              "#fb9f3a"
             ],
             [
              0.8888888888888888,
              "#fdca26"
             ],
             [
              1,
              "#f0f921"
             ]
            ],
            "type": "heatmap"
           }
          ],
          "heatmapgl": [
           {
            "colorbar": {
             "outlinewidth": 0,
             "ticks": ""
            },
            "colorscale": [
             [
              0,
              "#0d0887"
             ],
             [
              0.1111111111111111,
              "#46039f"
             ],
             [
              0.2222222222222222,
              "#7201a8"
             ],
             [
              0.3333333333333333,
              "#9c179e"
             ],
             [
              0.4444444444444444,
              "#bd3786"
             ],
             [
              0.5555555555555556,
              "#d8576b"
             ],
             [
              0.6666666666666666,
              "#ed7953"
             ],
             [
              0.7777777777777778,
              "#fb9f3a"
             ],
             [
              0.8888888888888888,
              "#fdca26"
             ],
             [
              1,
              "#f0f921"
             ]
            ],
            "type": "heatmapgl"
           }
          ],
          "histogram": [
           {
            "marker": {
             "pattern": {
              "fillmode": "overlay",
              "size": 10,
              "solidity": 0.2
             }
            },
            "type": "histogram"
           }
          ],
          "histogram2d": [
           {
            "colorbar": {
             "outlinewidth": 0,
             "ticks": ""
            },
            "colorscale": [
             [
              0,
              "#0d0887"
             ],
             [
              0.1111111111111111,
              "#46039f"
             ],
             [
              0.2222222222222222,
              "#7201a8"
             ],
             [
              0.3333333333333333,
              "#9c179e"
             ],
             [
              0.4444444444444444,
              "#bd3786"
             ],
             [
              0.5555555555555556,
              "#d8576b"
             ],
             [
              0.6666666666666666,
              "#ed7953"
             ],
             [
              0.7777777777777778,
              "#fb9f3a"
             ],
             [
              0.8888888888888888,
              "#fdca26"
             ],
             [
              1,
              "#f0f921"
             ]
            ],
            "type": "histogram2d"
           }
          ],
          "histogram2dcontour": [
           {
            "colorbar": {
             "outlinewidth": 0,
             "ticks": ""
            },
            "colorscale": [
             [
              0,
              "#0d0887"
             ],
             [
              0.1111111111111111,
              "#46039f"
             ],
             [
              0.2222222222222222,
              "#7201a8"
             ],
             [
              0.3333333333333333,
              "#9c179e"
             ],
             [
              0.4444444444444444,
              "#bd3786"
             ],
             [
              0.5555555555555556,
              "#d8576b"
             ],
             [
              0.6666666666666666,
              "#ed7953"
             ],
             [
              0.7777777777777778,
              "#fb9f3a"
             ],
             [
              0.8888888888888888,
              "#fdca26"
             ],
             [
              1,
              "#f0f921"
             ]
            ],
            "type": "histogram2dcontour"
           }
          ],
          "mesh3d": [
           {
            "colorbar": {
             "outlinewidth": 0,
             "ticks": ""
            },
            "type": "mesh3d"
           }
          ],
          "parcoords": [
           {
            "line": {
             "colorbar": {
              "outlinewidth": 0,
              "ticks": ""
             }
            },
            "type": "parcoords"
           }
          ],
          "pie": [
           {
            "automargin": true,
            "type": "pie"
           }
          ],
          "scatter": [
           {
            "fillpattern": {
             "fillmode": "overlay",
             "size": 10,
             "solidity": 0.2
            },
            "type": "scatter"
           }
          ],
          "scatter3d": [
           {
            "line": {
             "colorbar": {
              "outlinewidth": 0,
              "ticks": ""
             }
            },
            "marker": {
             "colorbar": {
              "outlinewidth": 0,
              "ticks": ""
             }
            },
            "type": "scatter3d"
           }
          ],
          "scattercarpet": [
           {
            "marker": {
             "colorbar": {
              "outlinewidth": 0,
              "ticks": ""
             }
            },
            "type": "scattercarpet"
           }
          ],
          "scattergeo": [
           {
            "marker": {
             "colorbar": {
              "outlinewidth": 0,
              "ticks": ""
             }
            },
            "type": "scattergeo"
           }
          ],
          "scattergl": [
           {
            "marker": {
             "colorbar": {
              "outlinewidth": 0,
              "ticks": ""
             }
            },
            "type": "scattergl"
           }
          ],
          "scattermapbox": [
           {
            "marker": {
             "colorbar": {
              "outlinewidth": 0,
              "ticks": ""
             }
            },
            "type": "scattermapbox"
           }
          ],
          "scatterpolar": [
           {
            "marker": {
             "colorbar": {
              "outlinewidth": 0,
              "ticks": ""
             }
            },
            "type": "scatterpolar"
           }
          ],
          "scatterpolargl": [
           {
            "marker": {
             "colorbar": {
              "outlinewidth": 0,
              "ticks": ""
             }
            },
            "type": "scatterpolargl"
           }
          ],
          "scatterternary": [
           {
            "marker": {
             "colorbar": {
              "outlinewidth": 0,
              "ticks": ""
             }
            },
            "type": "scatterternary"
           }
          ],
          "surface": [
           {
            "colorbar": {
             "outlinewidth": 0,
             "ticks": ""
            },
            "colorscale": [
             [
              0,
              "#0d0887"
             ],
             [
              0.1111111111111111,
              "#46039f"
             ],
             [
              0.2222222222222222,
              "#7201a8"
             ],
             [
              0.3333333333333333,
              "#9c179e"
             ],
             [
              0.4444444444444444,
              "#bd3786"
             ],
             [
              0.5555555555555556,
              "#d8576b"
             ],
             [
              0.6666666666666666,
              "#ed7953"
             ],
             [
              0.7777777777777778,
              "#fb9f3a"
             ],
             [
              0.8888888888888888,
              "#fdca26"
             ],
             [
              1,
              "#f0f921"
             ]
            ],
            "type": "surface"
           }
          ],
          "table": [
           {
            "cells": {
             "fill": {
              "color": "#EBF0F8"
             },
             "line": {
              "color": "white"
             }
            },
            "header": {
             "fill": {
              "color": "#C8D4E3"
             },
             "line": {
              "color": "white"
             }
            },
            "type": "table"
           }
          ]
         },
         "layout": {
          "annotationdefaults": {
           "arrowcolor": "#2a3f5f",
           "arrowhead": 0,
           "arrowwidth": 1
          },
          "autotypenumbers": "strict",
          "coloraxis": {
           "colorbar": {
            "outlinewidth": 0,
            "ticks": ""
           }
          },
          "colorscale": {
           "diverging": [
            [
             0,
             "#8e0152"
            ],
            [
             0.1,
             "#c51b7d"
            ],
            [
             0.2,
             "#de77ae"
            ],
            [
             0.3,
             "#f1b6da"
            ],
            [
             0.4,
             "#fde0ef"
            ],
            [
             0.5,
             "#f7f7f7"
            ],
            [
             0.6,
             "#e6f5d0"
            ],
            [
             0.7,
             "#b8e186"
            ],
            [
             0.8,
             "#7fbc41"
            ],
            [
             0.9,
             "#4d9221"
            ],
            [
             1,
             "#276419"
            ]
           ],
           "sequential": [
            [
             0,
             "#0d0887"
            ],
            [
             0.1111111111111111,
             "#46039f"
            ],
            [
             0.2222222222222222,
             "#7201a8"
            ],
            [
             0.3333333333333333,
             "#9c179e"
            ],
            [
             0.4444444444444444,
             "#bd3786"
            ],
            [
             0.5555555555555556,
             "#d8576b"
            ],
            [
             0.6666666666666666,
             "#ed7953"
            ],
            [
             0.7777777777777778,
             "#fb9f3a"
            ],
            [
             0.8888888888888888,
             "#fdca26"
            ],
            [
             1,
             "#f0f921"
            ]
           ],
           "sequentialminus": [
            [
             0,
             "#0d0887"
            ],
            [
             0.1111111111111111,
             "#46039f"
            ],
            [
             0.2222222222222222,
             "#7201a8"
            ],
            [
             0.3333333333333333,
             "#9c179e"
            ],
            [
             0.4444444444444444,
             "#bd3786"
            ],
            [
             0.5555555555555556,
             "#d8576b"
            ],
            [
             0.6666666666666666,
             "#ed7953"
            ],
            [
             0.7777777777777778,
             "#fb9f3a"
            ],
            [
             0.8888888888888888,
             "#fdca26"
            ],
            [
             1,
             "#f0f921"
            ]
           ]
          },
          "colorway": [
           "#636efa",
           "#EF553B",
           "#00cc96",
           "#ab63fa",
           "#FFA15A",
           "#19d3f3",
           "#FF6692",
           "#B6E880",
           "#FF97FF",
           "#FECB52"
          ],
          "font": {
           "color": "#2a3f5f"
          },
          "geo": {
           "bgcolor": "white",
           "lakecolor": "white",
           "landcolor": "#E5ECF6",
           "showlakes": true,
           "showland": true,
           "subunitcolor": "white"
          },
          "hoverlabel": {
           "align": "left"
          },
          "hovermode": "closest",
          "mapbox": {
           "style": "light"
          },
          "paper_bgcolor": "white",
          "plot_bgcolor": "#E5ECF6",
          "polar": {
           "angularaxis": {
            "gridcolor": "white",
            "linecolor": "white",
            "ticks": ""
           },
           "bgcolor": "#E5ECF6",
           "radialaxis": {
            "gridcolor": "white",
            "linecolor": "white",
            "ticks": ""
           }
          },
          "scene": {
           "xaxis": {
            "backgroundcolor": "#E5ECF6",
            "gridcolor": "white",
            "gridwidth": 2,
            "linecolor": "white",
            "showbackground": true,
            "ticks": "",
            "zerolinecolor": "white"
           },
           "yaxis": {
            "backgroundcolor": "#E5ECF6",
            "gridcolor": "white",
            "gridwidth": 2,
            "linecolor": "white",
            "showbackground": true,
            "ticks": "",
            "zerolinecolor": "white"
           },
           "zaxis": {
            "backgroundcolor": "#E5ECF6",
            "gridcolor": "white",
            "gridwidth": 2,
            "linecolor": "white",
            "showbackground": true,
            "ticks": "",
            "zerolinecolor": "white"
           }
          },
          "shapedefaults": {
           "line": {
            "color": "#2a3f5f"
           }
          },
          "ternary": {
           "aaxis": {
            "gridcolor": "white",
            "linecolor": "white",
            "ticks": ""
           },
           "baxis": {
            "gridcolor": "white",
            "linecolor": "white",
            "ticks": ""
           },
           "bgcolor": "#E5ECF6",
           "caxis": {
            "gridcolor": "white",
            "linecolor": "white",
            "ticks": ""
           }
          },
          "title": {
           "x": 0.05
          },
          "xaxis": {
           "automargin": true,
           "gridcolor": "white",
           "linecolor": "white",
           "ticks": "",
           "title": {
            "standoff": 15
           },
           "zerolinecolor": "white",
           "zerolinewidth": 2
          },
          "yaxis": {
           "automargin": true,
           "gridcolor": "white",
           "linecolor": "white",
           "ticks": "",
           "title": {
            "standoff": 15
           },
           "zerolinecolor": "white",
           "zerolinewidth": 2
          }
         }
        },
        "width": 800,
        "xaxis": {
         "showgrid": false,
         "showticklabels": false,
         "zeroline": false
        },
        "yaxis": {
         "showgrid": false,
         "showticklabels": false,
         "zeroline": false
        }
       }
      }
     },
     "metadata": {},
     "output_type": "display_data"
    }
   ],
   "source": [
    "data_for_net = pd.merge(rating1_bigr, rating1_trigr, how=\"outer\")\n",
    "draw_net(data_for_net)"
   ]
  },
  {
   "cell_type": "code",
   "execution_count": null,
   "id": "2e3e4567",
   "metadata": {},
   "outputs": [],
   "source": [
    "rating5_bigr, rating5_trigr = get_bigr_and_trigr(nlp_data_rating5)"
   ]
  },
  {
   "cell_type": "code",
   "execution_count": null,
   "id": "ebe81913",
   "metadata": {},
   "outputs": [
    {
     "data": {
      "text/html": [
       "<div>\n",
       "<style scoped>\n",
       "    .dataframe tbody tr th:only-of-type {\n",
       "        vertical-align: middle;\n",
       "    }\n",
       "\n",
       "    .dataframe tbody tr th {\n",
       "        vertical-align: top;\n",
       "    }\n",
       "\n",
       "    .dataframe thead th {\n",
       "        text-align: right;\n",
       "    }\n",
       "</style>\n",
       "<table border=\"1\" class=\"dataframe\">\n",
       "  <thead>\n",
       "    <tr style=\"text-align: right;\">\n",
       "      <th></th>\n",
       "      <th>bigr</th>\n",
       "      <th>n</th>\n",
       "    </tr>\n",
       "  </thead>\n",
       "  <tbody>\n",
       "    <tr>\n",
       "      <th>0</th>\n",
       "      <td>дебетовый карта</td>\n",
       "      <td>11569</td>\n",
       "    </tr>\n",
       "    <tr>\n",
       "      <th>1</th>\n",
       "      <td>тинькофф банк</td>\n",
       "      <td>10515</td>\n",
       "    </tr>\n",
       "    <tr>\n",
       "      <th>2</th>\n",
       "      <td>другой банк</td>\n",
       "      <td>7195</td>\n",
       "    </tr>\n",
       "    <tr>\n",
       "      <th>3</th>\n",
       "      <td>кредитный карта</td>\n",
       "      <td>7177</td>\n",
       "    </tr>\n",
       "    <tr>\n",
       "      <th>4</th>\n",
       "      <td>карта тинькофф</td>\n",
       "      <td>6641</td>\n",
       "    </tr>\n",
       "    <tr>\n",
       "      <th>5</th>\n",
       "      <td>хороший банк</td>\n",
       "      <td>5776</td>\n",
       "    </tr>\n",
       "    <tr>\n",
       "      <th>6</th>\n",
       "      <td>мобильный приложение</td>\n",
       "      <td>5476</td>\n",
       "    </tr>\n",
       "    <tr>\n",
       "      <th>7</th>\n",
       "      <td>банк тинькофф</td>\n",
       "      <td>5448</td>\n",
       "    </tr>\n",
       "    <tr>\n",
       "      <th>8</th>\n",
       "      <td>сотрудник банк</td>\n",
       "      <td>4879</td>\n",
       "    </tr>\n",
       "    <tr>\n",
       "      <th>9</th>\n",
       "      <td>очень удобный</td>\n",
       "      <td>4513</td>\n",
       "    </tr>\n",
       "    <tr>\n",
       "      <th>10</th>\n",
       "      <td>данный банк</td>\n",
       "      <td>4322</td>\n",
       "    </tr>\n",
       "    <tr>\n",
       "      <th>11</th>\n",
       "      <td>очень удобно</td>\n",
       "      <td>4265</td>\n",
       "    </tr>\n",
       "    <tr>\n",
       "      <th>12</th>\n",
       "      <td>бесплатный обслуживание</td>\n",
       "      <td>4222</td>\n",
       "    </tr>\n",
       "    <tr>\n",
       "      <th>13</th>\n",
       "      <td>банк очень</td>\n",
       "      <td>4128</td>\n",
       "    </tr>\n",
       "    <tr>\n",
       "      <th>14</th>\n",
       "      <td>очень быстро</td>\n",
       "      <td>4026</td>\n",
       "    </tr>\n",
       "  </tbody>\n",
       "</table>\n",
       "</div>"
      ],
      "text/plain": [
       "                       bigr      n\n",
       "0           дебетовый карта  11569\n",
       "1             тинькофф банк  10515\n",
       "2               другой банк   7195\n",
       "3           кредитный карта   7177\n",
       "4            карта тинькофф   6641\n",
       "5              хороший банк   5776\n",
       "6      мобильный приложение   5476\n",
       "7             банк тинькофф   5448\n",
       "8            сотрудник банк   4879\n",
       "9             очень удобный   4513\n",
       "10              данный банк   4322\n",
       "11             очень удобно   4265\n",
       "12  бесплатный обслуживание   4222\n",
       "13               банк очень   4128\n",
       "14             очень быстро   4026"
      ]
     },
     "execution_count": 110,
     "metadata": {},
     "output_type": "execute_result"
    }
   ],
   "source": [
    "rating5_bigr"
   ]
  },
  {
   "cell_type": "code",
   "execution_count": null,
   "id": "6fe17af5",
   "metadata": {},
   "outputs": [
    {
     "data": {
      "text/html": [
       "<div>\n",
       "<style scoped>\n",
       "    .dataframe tbody tr th:only-of-type {\n",
       "        vertical-align: middle;\n",
       "    }\n",
       "\n",
       "    .dataframe tbody tr th {\n",
       "        vertical-align: top;\n",
       "    }\n",
       "\n",
       "    .dataframe thead th {\n",
       "        text-align: right;\n",
       "    }\n",
       "</style>\n",
       "<table border=\"1\" class=\"dataframe\">\n",
       "  <thead>\n",
       "    <tr style=\"text-align: right;\">\n",
       "      <th></th>\n",
       "      <th>bigr</th>\n",
       "      <th>n</th>\n",
       "    </tr>\n",
       "  </thead>\n",
       "  <tbody>\n",
       "    <tr>\n",
       "      <th>0</th>\n",
       "      <td>дебетовый карта тинькофф</td>\n",
       "      <td>2344</td>\n",
       "    </tr>\n",
       "    <tr>\n",
       "      <th>1</th>\n",
       "      <td>хотеть выразить благодарность</td>\n",
       "      <td>1868</td>\n",
       "    </tr>\n",
       "    <tr>\n",
       "      <th>2</th>\n",
       "      <td>пользоваться услуга банк</td>\n",
       "      <td>1321</td>\n",
       "    </tr>\n",
       "    <tr>\n",
       "      <th>3</th>\n",
       "      <td>пользоваться дебетовый карта</td>\n",
       "      <td>1279</td>\n",
       "    </tr>\n",
       "    <tr>\n",
       "      <th>4</th>\n",
       "      <td>карта tinkoff black</td>\n",
       "      <td>1275</td>\n",
       "    </tr>\n",
       "    <tr>\n",
       "      <th>5</th>\n",
       "      <td>являться клиент банк</td>\n",
       "      <td>1223</td>\n",
       "    </tr>\n",
       "    <tr>\n",
       "      <th>6</th>\n",
       "      <td>банк хоум кредит</td>\n",
       "      <td>1165</td>\n",
       "    </tr>\n",
       "    <tr>\n",
       "      <th>7</th>\n",
       "      <td>самый хороший банк</td>\n",
       "      <td>1128</td>\n",
       "    </tr>\n",
       "    <tr>\n",
       "      <th>8</th>\n",
       "      <td>карта тинькофф банк</td>\n",
       "      <td>1024</td>\n",
       "    </tr>\n",
       "    <tr>\n",
       "      <th>9</th>\n",
       "      <td>добрый день хотеть</td>\n",
       "      <td>965</td>\n",
       "    </tr>\n",
       "    <tr>\n",
       "      <th>10</th>\n",
       "      <td>карта другой банк</td>\n",
       "      <td>946</td>\n",
       "    </tr>\n",
       "    <tr>\n",
       "      <th>11</th>\n",
       "      <td>оформить дебетовый карта</td>\n",
       "      <td>913</td>\n",
       "    </tr>\n",
       "    <tr>\n",
       "      <th>12</th>\n",
       "      <td>карта тинькофф блэк</td>\n",
       "      <td>866</td>\n",
       "    </tr>\n",
       "    <tr>\n",
       "      <th>13</th>\n",
       "      <td>выразить огромный благодарность</td>\n",
       "      <td>798</td>\n",
       "    </tr>\n",
       "    <tr>\n",
       "      <th>14</th>\n",
       "      <td>хоум кредит банк</td>\n",
       "      <td>792</td>\n",
       "    </tr>\n",
       "  </tbody>\n",
       "</table>\n",
       "</div>"
      ],
      "text/plain": [
       "                               bigr     n\n",
       "0          дебетовый карта тинькофф  2344\n",
       "1     хотеть выразить благодарность  1868\n",
       "2          пользоваться услуга банк  1321\n",
       "3      пользоваться дебетовый карта  1279\n",
       "4               карта tinkoff black  1275\n",
       "5              являться клиент банк  1223\n",
       "6                  банк хоум кредит  1165\n",
       "7                самый хороший банк  1128\n",
       "8               карта тинькофф банк  1024\n",
       "9                добрый день хотеть   965\n",
       "10                карта другой банк   946\n",
       "11         оформить дебетовый карта   913\n",
       "12              карта тинькофф блэк   866\n",
       "13  выразить огромный благодарность   798\n",
       "14                 хоум кредит банк   792"
      ]
     },
     "execution_count": 111,
     "metadata": {},
     "output_type": "execute_result"
    }
   ],
   "source": [
    "rating5_trigr"
   ]
  },
  {
   "cell_type": "code",
   "execution_count": null,
   "id": "1e0c8a36",
   "metadata": {},
   "outputs": [
    {
     "data": {
      "application/vnd.plotly.v1+json": {
       "config": {
        "plotlyServerURL": "https://plot.ly"
       },
       "data": [
        {
         "hoverinfo": "none",
         "line": {
          "color": "#cf9db4",
          "width": 0.5
         },
         "mode": "lines",
         "type": "scatter",
         "x": [
          0.23672012879179705,
          0.16403416761130504,
          null,
          0.23672012879179705,
          0.10952349928466087,
          null,
          0.23672012879179705,
          0.3674564729048303,
          null,
          0.16403416761130504,
          0.2544227701435115,
          null,
          0.16403416761130504,
          0.007484027585955387,
          null,
          0.16403416761130504,
          0.3267032000910249,
          null,
          0.16403416761130504,
          -0.0018453502501409923,
          null,
          0.007484027585955387,
          -0.17858940504823773,
          null,
          0.007484027585955387,
          0.05400188864056322,
          null,
          -0.17858940504823773,
          -0.0018453502501409923,
          null,
          -0.17858940504823773,
          -0.29243040425128985,
          null,
          -0.17858940504823773,
          -0.17840117134414335,
          null,
          -0.17858940504823773,
          -0.2584727254531002,
          null,
          -0.17858940504823773,
          -0.31067046940708337,
          null,
          -0.17858940504823773,
          -0.03589581683775266,
          null,
          -0.17858940504823773,
          -0.35250905411200484,
          null,
          -0.17858940504823773,
          -0.18669635590296188,
          null,
          -0.17858940504823773,
          -0.23881415297021105,
          null,
          -0.29243040425128985,
          -0.3803427234409208,
          null,
          -0.387825670752536,
          -0.32808482738009703,
          null,
          -0.31067046940708337,
          -0.42917700461686253,
          null,
          -0.31067046940708337,
          -0.3175363166517413,
          null,
          -0.31067046940708337,
          -0.3882790524652085,
          null,
          0.40615155712360296,
          0.44996421304734185,
          null,
          0.2883595647255778,
          0.3969197985399509,
          null,
          0.2883595647255778,
          0.18317608450549502,
          null,
          0.3969197985399509,
          0.46830369962664775,
          null,
          0.3969197985399509,
          0.48438475418176635,
          null,
          0.46830369962664775,
          0.48438475418176635,
          null,
          0.10952349928466087,
          -0.03589581683775266,
          null,
          0.3267032000910249,
          0.4550633017793609,
          null,
          -0.4808402481516691,
          -0.35250905411200484,
          null,
          -0.18669635590296188,
          -0.23881415297021105,
          null,
          0.09374162045257049,
          0.18317608450549502,
          null
         ],
         "y": [
          0.10094107002334536,
          0.19710445648855987,
          null,
          0.10094107002334536,
          0.07205014705423175,
          null,
          0.10094107002334536,
          0.09012965198001577,
          null,
          0.19710445648855987,
          0.2745764381689604,
          null,
          0.19710445648855987,
          0.2576233077791037,
          null,
          0.19710445648855987,
          0.1485686821566794,
          null,
          0.19710445648855987,
          0.19445377183514212,
          null,
          0.2576233077791037,
          0.20368937892936848,
          null,
          0.2576233077791037,
          0.36492049381508057,
          null,
          0.20368937892936848,
          0.19445377183514212,
          null,
          0.20368937892936848,
          0.06853974410572111,
          null,
          0.20368937892936848,
          0.0976205698119531,
          null,
          0.20368937892936848,
          0.15238479442050704,
          null,
          0.20368937892936848,
          0.3831205980402592,
          null,
          0.20368937892936848,
          0.11139962898000932,
          null,
          0.20368937892936848,
          0.1873557580142521,
          null,
          0.20368937892936848,
          0.30213564551358985,
          null,
          0.20368937892936848,
          0.2727688474444919,
          null,
          0.06853974410572111,
          -0.021931056108083928,
          null,
          -0.6720078846510106,
          -0.7015392671147715,
          null,
          0.3831205980402592,
          0.4269517997954316,
          null,
          0.3831205980402592,
          0.5079682608900518,
          null,
          0.3831205980402592,
          0.4879310318318716,
          null,
          0.9744655376910853,
          0.9230379266227251,
          null,
          -0.9464535351105475,
          -0.9258278840053039,
          null,
          -0.9464535351105475,
          -0.9551663257020356,
          null,
          -0.9258278840053039,
          -1,
          null,
          -0.9258278840053039,
          -0.9380016321415594,
          null,
          -1,
          -0.9380016321415594,
          null,
          0.07205014705423175,
          0.11139962898000932,
          null,
          0.1485686821566794,
          0.11297405705927878,
          null,
          0.17565104793984712,
          0.1873557580142521,
          null,
          0.30213564551358985,
          0.2727688474444919,
          null,
          -0.9274350615582507,
          -0.9551663257020356,
          null
         ]
        },
        {
         "hoverinfo": "text",
         "marker": {
          "color": "#915f6d",
          "size": 10
         },
         "mode": "markers+text",
         "text": [
          "дебетовый",
          "карта",
          "тинькофф",
          "банк",
          "другой",
          "кредитный",
          "хороший",
          "мобильный",
          "приложение",
          "сотрудник",
          "очень",
          "удобный",
          "данный",
          "удобно",
          "бесплатный",
          "обслуживание",
          "быстро",
          "хотеть",
          "выразить",
          "благодарность",
          "пользоваться",
          "услуга",
          "tinkoff",
          "black",
          "являться",
          "клиент",
          "хоум",
          "кредит",
          "самый",
          "добрый",
          "день",
          "оформить",
          "блэк",
          "огромный"
         ],
         "textposition": "bottom center",
         "type": "scatter",
         "x": [
          0.23672012879179705,
          0.16403416761130504,
          0.007484027585955387,
          -0.17858940504823773,
          -0.0018453502501409923,
          0.2544227701435115,
          -0.29243040425128985,
          -0.387825670752536,
          -0.32808482738009703,
          -0.17840117134414335,
          -0.31067046940708337,
          -0.42917700461686253,
          -0.2584727254531002,
          -0.3175363166517413,
          0.40615155712360296,
          0.44996421304734185,
          -0.3882790524652085,
          0.2883595647255778,
          0.3969197985399509,
          0.46830369962664775,
          0.10952349928466087,
          -0.03589581683775266,
          0.3267032000910249,
          0.4550633017793609,
          -0.4808402481516691,
          -0.35250905411200484,
          -0.18669635590296188,
          -0.23881415297021105,
          -0.3803427234409208,
          0.09374162045257049,
          0.18317608450549502,
          0.3674564729048303,
          0.05400188864056322,
          0.48438475418176635
         ],
         "y": [
          0.10094107002334536,
          0.19710445648855987,
          0.2576233077791037,
          0.20368937892936848,
          0.19445377183514212,
          0.2745764381689604,
          0.06853974410572111,
          -0.6720078846510106,
          -0.7015392671147715,
          0.0976205698119531,
          0.3831205980402592,
          0.4269517997954316,
          0.15238479442050704,
          0.5079682608900518,
          0.9744655376910853,
          0.9230379266227251,
          0.4879310318318716,
          -0.9464535351105475,
          -0.9258278840053039,
          -1,
          0.07205014705423175,
          0.11139962898000932,
          0.1485686821566794,
          0.11297405705927878,
          0.17565104793984712,
          0.1873557580142521,
          0.30213564551358985,
          0.2727688474444919,
          -0.021931056108083928,
          -0.9274350615582507,
          -0.9551663257020356,
          0.09012965198001577,
          0.36492049381508057,
          -0.9380016321415594
         ]
        }
       ],
       "layout": {
        "height": 600,
        "hovermode": "closest",
        "margin": {
         "b": 0,
         "l": 0,
         "r": 0,
         "t": 0
        },
        "showlegend": false,
        "template": {
         "data": {
          "bar": [
           {
            "error_x": {
             "color": "#2a3f5f"
            },
            "error_y": {
             "color": "#2a3f5f"
            },
            "marker": {
             "line": {
              "color": "#E5ECF6",
              "width": 0.5
             },
             "pattern": {
              "fillmode": "overlay",
              "size": 10,
              "solidity": 0.2
             }
            },
            "type": "bar"
           }
          ],
          "barpolar": [
           {
            "marker": {
             "line": {
              "color": "#E5ECF6",
              "width": 0.5
             },
             "pattern": {
              "fillmode": "overlay",
              "size": 10,
              "solidity": 0.2
             }
            },
            "type": "barpolar"
           }
          ],
          "carpet": [
           {
            "aaxis": {
             "endlinecolor": "#2a3f5f",
             "gridcolor": "white",
             "linecolor": "white",
             "minorgridcolor": "white",
             "startlinecolor": "#2a3f5f"
            },
            "baxis": {
             "endlinecolor": "#2a3f5f",
             "gridcolor": "white",
             "linecolor": "white",
             "minorgridcolor": "white",
             "startlinecolor": "#2a3f5f"
            },
            "type": "carpet"
           }
          ],
          "choropleth": [
           {
            "colorbar": {
             "outlinewidth": 0,
             "ticks": ""
            },
            "type": "choropleth"
           }
          ],
          "contour": [
           {
            "colorbar": {
             "outlinewidth": 0,
             "ticks": ""
            },
            "colorscale": [
             [
              0,
              "#0d0887"
             ],
             [
              0.1111111111111111,
              "#46039f"
             ],
             [
              0.2222222222222222,
              "#7201a8"
             ],
             [
              0.3333333333333333,
              "#9c179e"
             ],
             [
              0.4444444444444444,
              "#bd3786"
             ],
             [
              0.5555555555555556,
              "#d8576b"
             ],
             [
              0.6666666666666666,
              "#ed7953"
             ],
             [
              0.7777777777777778,
              "#fb9f3a"
             ],
             [
              0.8888888888888888,
              "#fdca26"
             ],
             [
              1,
              "#f0f921"
             ]
            ],
            "type": "contour"
           }
          ],
          "contourcarpet": [
           {
            "colorbar": {
             "outlinewidth": 0,
             "ticks": ""
            },
            "type": "contourcarpet"
           }
          ],
          "heatmap": [
           {
            "colorbar": {
             "outlinewidth": 0,
             "ticks": ""
            },
            "colorscale": [
             [
              0,
              "#0d0887"
             ],
             [
              0.1111111111111111,
              "#46039f"
             ],
             [
              0.2222222222222222,
              "#7201a8"
             ],
             [
              0.3333333333333333,
              "#9c179e"
             ],
             [
              0.4444444444444444,
              "#bd3786"
             ],
             [
              0.5555555555555556,
              "#d8576b"
             ],
             [
              0.6666666666666666,
              "#ed7953"
             ],
             [
              0.7777777777777778,
              "#fb9f3a"
             ],
             [
              0.8888888888888888,
              "#fdca26"
             ],
             [
              1,
              "#f0f921"
             ]
            ],
            "type": "heatmap"
           }
          ],
          "heatmapgl": [
           {
            "colorbar": {
             "outlinewidth": 0,
             "ticks": ""
            },
            "colorscale": [
             [
              0,
              "#0d0887"
             ],
             [
              0.1111111111111111,
              "#46039f"
             ],
             [
              0.2222222222222222,
              "#7201a8"
             ],
             [
              0.3333333333333333,
              "#9c179e"
             ],
             [
              0.4444444444444444,
              "#bd3786"
             ],
             [
              0.5555555555555556,
              "#d8576b"
             ],
             [
              0.6666666666666666,
              "#ed7953"
             ],
             [
              0.7777777777777778,
              "#fb9f3a"
             ],
             [
              0.8888888888888888,
              "#fdca26"
             ],
             [
              1,
              "#f0f921"
             ]
            ],
            "type": "heatmapgl"
           }
          ],
          "histogram": [
           {
            "marker": {
             "pattern": {
              "fillmode": "overlay",
              "size": 10,
              "solidity": 0.2
             }
            },
            "type": "histogram"
           }
          ],
          "histogram2d": [
           {
            "colorbar": {
             "outlinewidth": 0,
             "ticks": ""
            },
            "colorscale": [
             [
              0,
              "#0d0887"
             ],
             [
              0.1111111111111111,
              "#46039f"
             ],
             [
              0.2222222222222222,
              "#7201a8"
             ],
             [
              0.3333333333333333,
              "#9c179e"
             ],
             [
              0.4444444444444444,
              "#bd3786"
             ],
             [
              0.5555555555555556,
              "#d8576b"
             ],
             [
              0.6666666666666666,
              "#ed7953"
             ],
             [
              0.7777777777777778,
              "#fb9f3a"
             ],
             [
              0.8888888888888888,
              "#fdca26"
             ],
             [
              1,
              "#f0f921"
             ]
            ],
            "type": "histogram2d"
           }
          ],
          "histogram2dcontour": [
           {
            "colorbar": {
             "outlinewidth": 0,
             "ticks": ""
            },
            "colorscale": [
             [
              0,
              "#0d0887"
             ],
             [
              0.1111111111111111,
              "#46039f"
             ],
             [
              0.2222222222222222,
              "#7201a8"
             ],
             [
              0.3333333333333333,
              "#9c179e"
             ],
             [
              0.4444444444444444,
              "#bd3786"
             ],
             [
              0.5555555555555556,
              "#d8576b"
             ],
             [
              0.6666666666666666,
              "#ed7953"
             ],
             [
              0.7777777777777778,
              "#fb9f3a"
             ],
             [
              0.8888888888888888,
              "#fdca26"
             ],
             [
              1,
              "#f0f921"
             ]
            ],
            "type": "histogram2dcontour"
           }
          ],
          "mesh3d": [
           {
            "colorbar": {
             "outlinewidth": 0,
             "ticks": ""
            },
            "type": "mesh3d"
           }
          ],
          "parcoords": [
           {
            "line": {
             "colorbar": {
              "outlinewidth": 0,
              "ticks": ""
             }
            },
            "type": "parcoords"
           }
          ],
          "pie": [
           {
            "automargin": true,
            "type": "pie"
           }
          ],
          "scatter": [
           {
            "fillpattern": {
             "fillmode": "overlay",
             "size": 10,
             "solidity": 0.2
            },
            "type": "scatter"
           }
          ],
          "scatter3d": [
           {
            "line": {
             "colorbar": {
              "outlinewidth": 0,
              "ticks": ""
             }
            },
            "marker": {
             "colorbar": {
              "outlinewidth": 0,
              "ticks": ""
             }
            },
            "type": "scatter3d"
           }
          ],
          "scattercarpet": [
           {
            "marker": {
             "colorbar": {
              "outlinewidth": 0,
              "ticks": ""
             }
            },
            "type": "scattercarpet"
           }
          ],
          "scattergeo": [
           {
            "marker": {
             "colorbar": {
              "outlinewidth": 0,
              "ticks": ""
             }
            },
            "type": "scattergeo"
           }
          ],
          "scattergl": [
           {
            "marker": {
             "colorbar": {
              "outlinewidth": 0,
              "ticks": ""
             }
            },
            "type": "scattergl"
           }
          ],
          "scattermapbox": [
           {
            "marker": {
             "colorbar": {
              "outlinewidth": 0,
              "ticks": ""
             }
            },
            "type": "scattermapbox"
           }
          ],
          "scatterpolar": [
           {
            "marker": {
             "colorbar": {
              "outlinewidth": 0,
              "ticks": ""
             }
            },
            "type": "scatterpolar"
           }
          ],
          "scatterpolargl": [
           {
            "marker": {
             "colorbar": {
              "outlinewidth": 0,
              "ticks": ""
             }
            },
            "type": "scatterpolargl"
           }
          ],
          "scatterternary": [
           {
            "marker": {
             "colorbar": {
              "outlinewidth": 0,
              "ticks": ""
             }
            },
            "type": "scatterternary"
           }
          ],
          "surface": [
           {
            "colorbar": {
             "outlinewidth": 0,
             "ticks": ""
            },
            "colorscale": [
             [
              0,
              "#0d0887"
             ],
             [
              0.1111111111111111,
              "#46039f"
             ],
             [
              0.2222222222222222,
              "#7201a8"
             ],
             [
              0.3333333333333333,
              "#9c179e"
             ],
             [
              0.4444444444444444,
              "#bd3786"
             ],
             [
              0.5555555555555556,
              "#d8576b"
             ],
             [
              0.6666666666666666,
              "#ed7953"
             ],
             [
              0.7777777777777778,
              "#fb9f3a"
             ],
             [
              0.8888888888888888,
              "#fdca26"
             ],
             [
              1,
              "#f0f921"
             ]
            ],
            "type": "surface"
           }
          ],
          "table": [
           {
            "cells": {
             "fill": {
              "color": "#EBF0F8"
             },
             "line": {
              "color": "white"
             }
            },
            "header": {
             "fill": {
              "color": "#C8D4E3"
             },
             "line": {
              "color": "white"
             }
            },
            "type": "table"
           }
          ]
         },
         "layout": {
          "annotationdefaults": {
           "arrowcolor": "#2a3f5f",
           "arrowhead": 0,
           "arrowwidth": 1
          },
          "autotypenumbers": "strict",
          "coloraxis": {
           "colorbar": {
            "outlinewidth": 0,
            "ticks": ""
           }
          },
          "colorscale": {
           "diverging": [
            [
             0,
             "#8e0152"
            ],
            [
             0.1,
             "#c51b7d"
            ],
            [
             0.2,
             "#de77ae"
            ],
            [
             0.3,
             "#f1b6da"
            ],
            [
             0.4,
             "#fde0ef"
            ],
            [
             0.5,
             "#f7f7f7"
            ],
            [
             0.6,
             "#e6f5d0"
            ],
            [
             0.7,
             "#b8e186"
            ],
            [
             0.8,
             "#7fbc41"
            ],
            [
             0.9,
             "#4d9221"
            ],
            [
             1,
             "#276419"
            ]
           ],
           "sequential": [
            [
             0,
             "#0d0887"
            ],
            [
             0.1111111111111111,
             "#46039f"
            ],
            [
             0.2222222222222222,
             "#7201a8"
            ],
            [
             0.3333333333333333,
             "#9c179e"
            ],
            [
             0.4444444444444444,
             "#bd3786"
            ],
            [
             0.5555555555555556,
             "#d8576b"
            ],
            [
             0.6666666666666666,
             "#ed7953"
            ],
            [
             0.7777777777777778,
             "#fb9f3a"
            ],
            [
             0.8888888888888888,
             "#fdca26"
            ],
            [
             1,
             "#f0f921"
            ]
           ],
           "sequentialminus": [
            [
             0,
             "#0d0887"
            ],
            [
             0.1111111111111111,
             "#46039f"
            ],
            [
             0.2222222222222222,
             "#7201a8"
            ],
            [
             0.3333333333333333,
             "#9c179e"
            ],
            [
             0.4444444444444444,
             "#bd3786"
            ],
            [
             0.5555555555555556,
             "#d8576b"
            ],
            [
             0.6666666666666666,
             "#ed7953"
            ],
            [
             0.7777777777777778,
             "#fb9f3a"
            ],
            [
             0.8888888888888888,
             "#fdca26"
            ],
            [
             1,
             "#f0f921"
            ]
           ]
          },
          "colorway": [
           "#636efa",
           "#EF553B",
           "#00cc96",
           "#ab63fa",
           "#FFA15A",
           "#19d3f3",
           "#FF6692",
           "#B6E880",
           "#FF97FF",
           "#FECB52"
          ],
          "font": {
           "color": "#2a3f5f"
          },
          "geo": {
           "bgcolor": "white",
           "lakecolor": "white",
           "landcolor": "#E5ECF6",
           "showlakes": true,
           "showland": true,
           "subunitcolor": "white"
          },
          "hoverlabel": {
           "align": "left"
          },
          "hovermode": "closest",
          "mapbox": {
           "style": "light"
          },
          "paper_bgcolor": "white",
          "plot_bgcolor": "#E5ECF6",
          "polar": {
           "angularaxis": {
            "gridcolor": "white",
            "linecolor": "white",
            "ticks": ""
           },
           "bgcolor": "#E5ECF6",
           "radialaxis": {
            "gridcolor": "white",
            "linecolor": "white",
            "ticks": ""
           }
          },
          "scene": {
           "xaxis": {
            "backgroundcolor": "#E5ECF6",
            "gridcolor": "white",
            "gridwidth": 2,
            "linecolor": "white",
            "showbackground": true,
            "ticks": "",
            "zerolinecolor": "white"
           },
           "yaxis": {
            "backgroundcolor": "#E5ECF6",
            "gridcolor": "white",
            "gridwidth": 2,
            "linecolor": "white",
            "showbackground": true,
            "ticks": "",
            "zerolinecolor": "white"
           },
           "zaxis": {
            "backgroundcolor": "#E5ECF6",
            "gridcolor": "white",
            "gridwidth": 2,
            "linecolor": "white",
            "showbackground": true,
            "ticks": "",
            "zerolinecolor": "white"
           }
          },
          "shapedefaults": {
           "line": {
            "color": "#2a3f5f"
           }
          },
          "ternary": {
           "aaxis": {
            "gridcolor": "white",
            "linecolor": "white",
            "ticks": ""
           },
           "baxis": {
            "gridcolor": "white",
            "linecolor": "white",
            "ticks": ""
           },
           "bgcolor": "#E5ECF6",
           "caxis": {
            "gridcolor": "white",
            "linecolor": "white",
            "ticks": ""
           }
          },
          "title": {
           "x": 0.05
          },
          "xaxis": {
           "automargin": true,
           "gridcolor": "white",
           "linecolor": "white",
           "ticks": "",
           "title": {
            "standoff": 15
           },
           "zerolinecolor": "white",
           "zerolinewidth": 2
          },
          "yaxis": {
           "automargin": true,
           "gridcolor": "white",
           "linecolor": "white",
           "ticks": "",
           "title": {
            "standoff": 15
           },
           "zerolinecolor": "white",
           "zerolinewidth": 2
          }
         }
        },
        "width": 800,
        "xaxis": {
         "showgrid": false,
         "showticklabels": false,
         "zeroline": false
        },
        "yaxis": {
         "showgrid": false,
         "showticklabels": false,
         "zeroline": false
        }
       }
      }
     },
     "metadata": {},
     "output_type": "display_data"
    }
   ],
   "source": [
    "draw_net(pd.merge(rating5_bigr, rating5_trigr, how=\"outer\"), edge_color=\"#cf9db4\", node_color=\"#915f6d\")"
   ]
  }
 ],
 "metadata": {
  "kernelspec": {
   "display_name": "Python 3 (ipykernel)",
   "language": "python",
   "name": "python3"
  },
  "language_info": {
   "codemirror_mode": {
    "name": "ipython",
    "version": 3
   },
   "file_extension": ".py",
   "mimetype": "text/x-python",
   "name": "python",
   "nbconvert_exporter": "python",
   "pygments_lexer": "ipython3",
   "version": "3.11.4"
  }
 },
 "nbformat": 4,
 "nbformat_minor": 5
}
