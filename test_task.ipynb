{
 "cells": [
  {
   "cell_type": "markdown",
   "id": "f99a5a58",
   "metadata": {},
   "source": [
    "# Анализ отзывов на банки\n",
    "\n",
    "В данных представлены отзывы на банки с сайта [banki.ru](https://www.banki.ru/)\n",
    "- body - сам отзыв\n",
    "- title - название отзыва\n",
    "- rating - оценка по отзыву, варьируется от 1 до 5\n",
    "- bank_name - название банка\n",
    "- date - дата публикации отзыва\n",
    "\n",
    "Необходимо EDA (Exploratory Data Analysis) по этим данным и сделать несколько выводов (приветствуются визуализации):\n",
    "ё- назвать топ-15 банков по числу отзывов\n",
    "- какой банк из числа топ-15 по отзывов имеет самый высокий средний рейтинг?\n",
    "- сделать выводы об изменении среднего рейтинга банков по месяцам из топ-5 банков по числу отзывов\n",
    "- нет ли в данных в целом каких-то странностей на ваш взгляд?\n",
    "- дополнительный EDA на ваше усмотрение, возможные интересные наблюдения\n",
    "\n",
    "Необходимо выбрать метрику и построить бинарный классификатор отзывов, добившись при этом лучшей метрики на валидационной выборке (отзывы >=3 считать положительными, <3 - отрицательными)\n",
    "\n",
    "Будет плюсом визуализация результатов работы модели (ответ на вопрос: почему построенная модель считает этот отзыв положительным или отрицательным?)"
   ]
  },
  {
   "cell_type": "code",
   "execution_count": 176,
   "id": "0136426f",
   "metadata": {},
   "outputs": [],
   "source": [
    "import pandas as pd\n",
    "import matplotlib.pyplot as plt\n",
    "import plotly.express as px\n",
    "import pandas as pd\n",
    "import networkx as nx\n",
    "import plotly.graph_objects as go\n",
    "from nltk import bigrams, trigrams\n",
    "from nltk.tokenize import word_tokenize\n",
    "from nltk.corpus import stopwords\n",
    "from collections import Counter\n",
    "from scipy.sparse import csr_matrix\n",
    "from gensim import corpora\n",
    "from gensim.models import TfidfModel\n",
    "from gensim.parsing.preprocessing import preprocess_string\n",
    "from sklearn.model_selection import train_test_split\n",
    "\n"
   ]
  },
  {
   "cell_type": "code",
   "execution_count": 2,
   "id": "9c74fc38",
   "metadata": {},
   "outputs": [
    {
     "name": "stdout",
     "output_type": "stream",
     "text": [
      "В исходном датафрейма 92735 строк и 5 столбцов\n"
     ]
    },
    {
     "data": {
      "text/html": [
       "<div>\n",
       "<style scoped>\n",
       "    .dataframe tbody tr th:only-of-type {\n",
       "        vertical-align: middle;\n",
       "    }\n",
       "\n",
       "    .dataframe tbody tr th {\n",
       "        vertical-align: top;\n",
       "    }\n",
       "\n",
       "    .dataframe thead th {\n",
       "        text-align: right;\n",
       "    }\n",
       "</style>\n",
       "<table border=\"1\" class=\"dataframe\">\n",
       "  <thead>\n",
       "    <tr style=\"text-align: right;\">\n",
       "      <th></th>\n",
       "      <th>body</th>\n",
       "      <th>title</th>\n",
       "      <th>rating</th>\n",
       "      <th>bank_name</th>\n",
       "      <th>date</th>\n",
       "    </tr>\n",
       "  </thead>\n",
       "  <tbody>\n",
       "    <tr>\n",
       "      <th>0</th>\n",
       "      <td>&amp;lt;p&amp;gt;Добрый день&amp;lt;/p&amp;gt;\\r\\n&amp;lt;p&amp;gt;пиш...</td>\n",
       "      <td>Заблокировали средства</td>\n",
       "      <td>1</td>\n",
       "      <td>Еком Банк</td>\n",
       "      <td>2023-01-03 12:46:11</td>\n",
       "    </tr>\n",
       "    <tr>\n",
       "      <th>1</th>\n",
       "      <td>&amp;lt;p&amp;gt;При возврате просроченной задолженнос...</td>\n",
       "      <td>Возврат просроченной задолженномти</td>\n",
       "      <td>1</td>\n",
       "      <td>Тинькофф Банк</td>\n",
       "      <td>2023-01-03 12:31:46</td>\n",
       "    </tr>\n",
       "    <tr>\n",
       "      <th>2</th>\n",
       "      <td>&amp;lt;p&amp;gt;07.09.22 ю была оформлена кредитная к...</td>\n",
       "      <td>Ошибочное начисление комиссии, затягивание про...</td>\n",
       "      <td>1</td>\n",
       "      <td>Банк Открытие</td>\n",
       "      <td>2023-01-03 12:23:11</td>\n",
       "    </tr>\n",
       "    <tr>\n",
       "      <th>3</th>\n",
       "      <td>&amp;lt;p&amp;gt;Новый год начинается с приятностей)&amp;l...</td>\n",
       "      <td>Клиентоориентиванность 10 из 10</td>\n",
       "      <td>5</td>\n",
       "      <td>Тинькофф Банк</td>\n",
       "      <td>2023-01-03 12:16:07</td>\n",
       "    </tr>\n",
       "    <tr>\n",
       "      <th>4</th>\n",
       "      <td>&amp;lt;p&amp;gt;Увидела на сайте Газпромбанка акцию с...</td>\n",
       "      <td>Как Газпромбанк обманывает клиентов с акционны...</td>\n",
       "      <td>1</td>\n",
       "      <td>Газпромбанк</td>\n",
       "      <td>2023-01-03 12:12:36</td>\n",
       "    </tr>\n",
       "  </tbody>\n",
       "</table>\n",
       "</div>"
      ],
      "text/plain": [
       "                                                body  \\\n",
       "0  &lt;p&gt;Добрый день&lt;/p&gt;\\r\\n&lt;p&gt;пиш...   \n",
       "1  &lt;p&gt;При возврате просроченной задолженнос...   \n",
       "2  &lt;p&gt;07.09.22 ю была оформлена кредитная к...   \n",
       "3  &lt;p&gt;Новый год начинается с приятностей)&l...   \n",
       "4  &lt;p&gt;Увидела на сайте Газпромбанка акцию с...   \n",
       "\n",
       "                                               title  rating      bank_name  \\\n",
       "0                             Заблокировали средства       1      Еком Банк   \n",
       "1                 Возврат просроченной задолженномти       1  Тинькофф Банк   \n",
       "2  Ошибочное начисление комиссии, затягивание про...       1  Банк Открытие   \n",
       "3                    Клиентоориентиванность 10 из 10       5  Тинькофф Банк   \n",
       "4  Как Газпромбанк обманывает клиентов с акционны...       1    Газпромбанк   \n",
       "\n",
       "                 date  \n",
       "0 2023-01-03 12:46:11  \n",
       "1 2023-01-03 12:31:46  \n",
       "2 2023-01-03 12:23:11  \n",
       "3 2023-01-03 12:16:07  \n",
       "4 2023-01-03 12:12:36  "
      ]
     },
     "execution_count": 2,
     "metadata": {},
     "output_type": "execute_result"
    }
   ],
   "source": [
    "data = pd.read_csv('parsed_reviews3.csv', sep = ',', encoding='utf-8')\n",
    "data['rating'] = data['rating'].astype(int)\n",
    "data['date'] = pd.to_datetime(data['date'])\n",
    "print(f'В исходном датафрейма {data.shape[0]} строк и {data.shape[1]} столбцов')\n",
    "data.head(5)"
   ]
  },
  {
   "cell_type": "markdown",
   "id": "bfdddbc4",
   "metadata": {},
   "source": [
    "### Часть 1 - EDA"
   ]
  },
  {
   "cell_type": "markdown",
   "id": "53ab2317",
   "metadata": {},
   "source": [
    "Для начала поищем странности в исходных данных"
   ]
  },
  {
   "cell_type": "code",
   "execution_count": 3,
   "id": "06193b5a",
   "metadata": {},
   "outputs": [
    {
     "data": {
      "text/plain": [
       "body         False\n",
       "title        False\n",
       "rating       False\n",
       "bank_name    False\n",
       "date         False\n",
       "dtype: bool"
      ]
     },
     "execution_count": 3,
     "metadata": {},
     "output_type": "execute_result"
    }
   ],
   "source": [
    "# нет ни одного NaN - это хорошо\n",
    "data.isnull().any()"
   ]
  },
  {
   "cell_type": "code",
   "execution_count": 4,
   "id": "e23dc972",
   "metadata": {},
   "outputs": [
    {
     "data": {
      "text/plain": [
       "body                 object\n",
       "title                object\n",
       "rating                int32\n",
       "bank_name            object\n",
       "date         datetime64[ns]\n",
       "dtype: object"
      ]
     },
     "execution_count": 4,
     "metadata": {},
     "output_type": "execute_result"
    }
   ],
   "source": [
    "# с типами данных тоже все в порядке\n",
    "data.dtypes"
   ]
  },
  {
   "cell_type": "code",
   "execution_count": 5,
   "id": "75e80866",
   "metadata": {},
   "outputs": [
    {
     "data": {
      "text/plain": [
       "True"
      ]
     },
     "execution_count": 5,
     "metadata": {},
     "output_type": "execute_result"
    }
   ],
   "source": [
    "# но есть дубликаты\n",
    "data.duplicated().any()"
   ]
  },
  {
   "cell_type": "code",
   "execution_count": 6,
   "id": "4593db41",
   "metadata": {},
   "outputs": [
    {
     "name": "stdout",
     "output_type": "stream",
     "text": [
      "В датафрейме 62 дубликатов\n"
     ]
    },
    {
     "data": {
      "text/html": [
       "<div>\n",
       "<style scoped>\n",
       "    .dataframe tbody tr th:only-of-type {\n",
       "        vertical-align: middle;\n",
       "    }\n",
       "\n",
       "    .dataframe tbody tr th {\n",
       "        vertical-align: top;\n",
       "    }\n",
       "\n",
       "    .dataframe thead th {\n",
       "        text-align: right;\n",
       "    }\n",
       "</style>\n",
       "<table border=\"1\" class=\"dataframe\">\n",
       "  <thead>\n",
       "    <tr style=\"text-align: right;\">\n",
       "      <th></th>\n",
       "      <th>body</th>\n",
       "      <th>title</th>\n",
       "      <th>rating</th>\n",
       "      <th>bank_name</th>\n",
       "      <th>date</th>\n",
       "    </tr>\n",
       "  </thead>\n",
       "  <tbody>\n",
       "    <tr>\n",
       "      <th>899</th>\n",
       "      <td>&amp;lt;p&amp;gt;Обратился 3 декабря в районе 19 часов...</td>\n",
       "      <td>открытие счёта и  получение банковской карты</td>\n",
       "      <td>5</td>\n",
       "      <td>Хоум Кредит Банк</td>\n",
       "      <td>2022-12-30 16:16:13</td>\n",
       "    </tr>\n",
       "    <tr>\n",
       "      <th>997</th>\n",
       "      <td>&amp;lt;p&amp;gt;С самого открытия являемся клиентами ...</td>\n",
       "      <td>Сняли деньги за перевод физ.лицу, а услугу не ...</td>\n",
       "      <td>1</td>\n",
       "      <td>Норвик Банк</td>\n",
       "      <td>2022-12-30 14:06:33</td>\n",
       "    </tr>\n",
       "    <tr>\n",
       "      <th>1611</th>\n",
       "      <td>&amp;lt;p&amp;gt;22.12.2022 в чате своего ЛК мобильног...</td>\n",
       "      <td>Отсутствие информации о порядке конвертации ва...</td>\n",
       "      <td>2</td>\n",
       "      <td>Росбанк</td>\n",
       "      <td>2022-12-29 15:03:06</td>\n",
       "    </tr>\n",
       "    <tr>\n",
       "      <th>2502</th>\n",
       "      <td>&amp;lt;p&amp;gt;Оформлял рассрочку на телефон, в мага...</td>\n",
       "      <td>Лучший кредитный банк</td>\n",
       "      <td>5</td>\n",
       "      <td>Хоум Кредит Банк</td>\n",
       "      <td>2022-12-28 13:44:16</td>\n",
       "    </tr>\n",
       "    <tr>\n",
       "      <th>2504</th>\n",
       "      <td>&amp;lt;p&amp;gt;28 декабря я посетил банк МКБ по адре...</td>\n",
       "      <td>Отличное обслуживание</td>\n",
       "      <td>5</td>\n",
       "      <td>Московский Кредитный Банк</td>\n",
       "      <td>2022-12-28 13:42:41</td>\n",
       "    </tr>\n",
       "  </tbody>\n",
       "</table>\n",
       "</div>"
      ],
      "text/plain": [
       "                                                   body  \\\n",
       "899   &lt;p&gt;Обратился 3 декабря в районе 19 часов...   \n",
       "997   &lt;p&gt;С самого открытия являемся клиентами ...   \n",
       "1611  &lt;p&gt;22.12.2022 в чате своего ЛК мобильног...   \n",
       "2502  &lt;p&gt;Оформлял рассрочку на телефон, в мага...   \n",
       "2504  &lt;p&gt;28 декабря я посетил банк МКБ по адре...   \n",
       "\n",
       "                                                  title  rating  \\\n",
       "899        открытие счёта и  получение банковской карты       5   \n",
       "997   Сняли деньги за перевод физ.лицу, а услугу не ...       1   \n",
       "1611  Отсутствие информации о порядке конвертации ва...       2   \n",
       "2502                              Лучший кредитный банк       5   \n",
       "2504                              Отличное обслуживание       5   \n",
       "\n",
       "                      bank_name                date  \n",
       "899            Хоум Кредит Банк 2022-12-30 16:16:13  \n",
       "997                 Норвик Банк 2022-12-30 14:06:33  \n",
       "1611                    Росбанк 2022-12-29 15:03:06  \n",
       "2502           Хоум Кредит Банк 2022-12-28 13:44:16  \n",
       "2504  Московский Кредитный Банк 2022-12-28 13:42:41  "
      ]
     },
     "execution_count": 6,
     "metadata": {},
     "output_type": "execute_result"
    }
   ],
   "source": [
    "# посмотрим на них\n",
    "print(f'В датафрейме {data[data.duplicated()].shape[0]} дубликатов')\n",
    "data[data.duplicated()].head(5)"
   ]
  },
  {
   "cell_type": "code",
   "execution_count": 7,
   "id": "2423a9dd",
   "metadata": {},
   "outputs": [],
   "source": [
    "# удалим дубликаты\n",
    "data = data.drop_duplicates()"
   ]
  },
  {
   "cell_type": "markdown",
   "id": "c8e6c6f9",
   "metadata": {},
   "source": [
    "На первый взгляд в датасете нет каких-то явно выраженных аномалий, так что можно перейти к ответам на поставленные вопросы:\n",
    "\n",
    "1. Назвать топ-15 банков по числу отзывов"
   ]
  },
  {
   "cell_type": "code",
   "execution_count": 8,
   "id": "dc21557b",
   "metadata": {},
   "outputs": [
    {
     "data": {
      "text/html": [
       "<div>\n",
       "<style scoped>\n",
       "    .dataframe tbody tr th:only-of-type {\n",
       "        vertical-align: middle;\n",
       "    }\n",
       "\n",
       "    .dataframe tbody tr th {\n",
       "        vertical-align: top;\n",
       "    }\n",
       "\n",
       "    .dataframe thead th {\n",
       "        text-align: right;\n",
       "    }\n",
       "</style>\n",
       "<table border=\"1\" class=\"dataframe\">\n",
       "  <thead>\n",
       "    <tr style=\"text-align: right;\">\n",
       "      <th></th>\n",
       "      <th>bank_name</th>\n",
       "      <th>count</th>\n",
       "      <th>rating</th>\n",
       "    </tr>\n",
       "  </thead>\n",
       "  <tbody>\n",
       "    <tr>\n",
       "      <th>0</th>\n",
       "      <td>Тинькофф Банк</td>\n",
       "      <td>44852</td>\n",
       "      <td>4.78</td>\n",
       "    </tr>\n",
       "    <tr>\n",
       "      <th>1</th>\n",
       "      <td>Хоум Кредит Банк</td>\n",
       "      <td>9301</td>\n",
       "      <td>4.51</td>\n",
       "    </tr>\n",
       "    <tr>\n",
       "      <th>2</th>\n",
       "      <td>Совкомбанк</td>\n",
       "      <td>6100</td>\n",
       "      <td>4.26</td>\n",
       "    </tr>\n",
       "    <tr>\n",
       "      <th>3</th>\n",
       "      <td>ВТБ</td>\n",
       "      <td>3814</td>\n",
       "      <td>1.95</td>\n",
       "    </tr>\n",
       "    <tr>\n",
       "      <th>4</th>\n",
       "      <td>СберБанк</td>\n",
       "      <td>3487</td>\n",
       "      <td>2.30</td>\n",
       "    </tr>\n",
       "    <tr>\n",
       "      <th>5</th>\n",
       "      <td>Альфа-Банк</td>\n",
       "      <td>3368</td>\n",
       "      <td>1.71</td>\n",
       "    </tr>\n",
       "    <tr>\n",
       "      <th>6</th>\n",
       "      <td>Россельхозбанк</td>\n",
       "      <td>3062</td>\n",
       "      <td>4.46</td>\n",
       "    </tr>\n",
       "    <tr>\n",
       "      <th>7</th>\n",
       "      <td>Банк Открытие</td>\n",
       "      <td>1894</td>\n",
       "      <td>3.54</td>\n",
       "    </tr>\n",
       "    <tr>\n",
       "      <th>8</th>\n",
       "      <td>МТС Банк</td>\n",
       "      <td>1542</td>\n",
       "      <td>2.90</td>\n",
       "    </tr>\n",
       "    <tr>\n",
       "      <th>9</th>\n",
       "      <td>Модульбанк</td>\n",
       "      <td>1452</td>\n",
       "      <td>4.78</td>\n",
       "    </tr>\n",
       "    <tr>\n",
       "      <th>10</th>\n",
       "      <td>Газпромбанк</td>\n",
       "      <td>1314</td>\n",
       "      <td>2.15</td>\n",
       "    </tr>\n",
       "    <tr>\n",
       "      <th>11</th>\n",
       "      <td>Московский Кредитный Банк</td>\n",
       "      <td>1249</td>\n",
       "      <td>4.24</td>\n",
       "    </tr>\n",
       "    <tr>\n",
       "      <th>12</th>\n",
       "      <td>Азиатско-Тихоокеанский Банк</td>\n",
       "      <td>1000</td>\n",
       "      <td>4.72</td>\n",
       "    </tr>\n",
       "    <tr>\n",
       "      <th>13</th>\n",
       "      <td>Уральский Банк Реконструкции и Развития</td>\n",
       "      <td>746</td>\n",
       "      <td>3.30</td>\n",
       "    </tr>\n",
       "    <tr>\n",
       "      <th>14</th>\n",
       "      <td>Русский Стандарт</td>\n",
       "      <td>689</td>\n",
       "      <td>4.16</td>\n",
       "    </tr>\n",
       "  </tbody>\n",
       "</table>\n",
       "</div>"
      ],
      "text/plain": [
       "                                  bank_name  count  rating\n",
       "0                             Тинькофф Банк  44852    4.78\n",
       "1                          Хоум Кредит Банк   9301    4.51\n",
       "2                                Совкомбанк   6100    4.26\n",
       "3                                       ВТБ   3814    1.95\n",
       "4                                  СберБанк   3487    2.30\n",
       "5                                Альфа-Банк   3368    1.71\n",
       "6                            Россельхозбанк   3062    4.46\n",
       "7                             Банк Открытие   1894    3.54\n",
       "8                                  МТС Банк   1542    2.90\n",
       "9                                Модульбанк   1452    4.78\n",
       "10                              Газпромбанк   1314    2.15\n",
       "11                Московский Кредитный Банк   1249    4.24\n",
       "12              Азиатско-Тихоокеанский Банк   1000    4.72\n",
       "13  Уральский Банк Реконструкции и Развития    746    3.30\n",
       "14                         Русский Стандарт    689    4.16"
      ]
     },
     "execution_count": 8,
     "metadata": {},
     "output_type": "execute_result"
    }
   ],
   "source": [
    "# топ-15 банков по числу отзывов\n",
    "banks_reviews_and_rating = data.groupby(['bank_name']).agg({'body':'count', 'rating': 'mean'}).reset_index()\n",
    "banks_reviews_and_rating.columns = ['bank_name', 'count', 'rating']\n",
    "banks_reviews_and_rating['rating'] = banks_reviews_and_rating['rating'].round(2)\n",
    "banks_reviews_and_rating.sort_values(by='count', ascending=False, inplace=True)\n",
    "top15_banks_by_count = banks_reviews_and_rating.head(15).reset_index(drop=True)\n",
    "top15_banks_by_count"
   ]
  },
  {
   "cell_type": "markdown",
   "id": "c24f29a0",
   "metadata": {},
   "source": [
    "2. Назвать банк с самым высоким рейтингом из числа топ-15 банков по отзывам"
   ]
  },
  {
   "cell_type": "code",
   "execution_count": 9,
   "id": "a047d6ca",
   "metadata": {},
   "outputs": [
    {
     "data": {
      "text/html": [
       "<div>\n",
       "<style scoped>\n",
       "    .dataframe tbody tr th:only-of-type {\n",
       "        vertical-align: middle;\n",
       "    }\n",
       "\n",
       "    .dataframe tbody tr th {\n",
       "        vertical-align: top;\n",
       "    }\n",
       "\n",
       "    .dataframe thead th {\n",
       "        text-align: right;\n",
       "    }\n",
       "</style>\n",
       "<table border=\"1\" class=\"dataframe\">\n",
       "  <thead>\n",
       "    <tr style=\"text-align: right;\">\n",
       "      <th></th>\n",
       "      <th>bank_name</th>\n",
       "      <th>count</th>\n",
       "      <th>rating</th>\n",
       "    </tr>\n",
       "  </thead>\n",
       "  <tbody>\n",
       "    <tr>\n",
       "      <th>0</th>\n",
       "      <td>Тинькофф Банк</td>\n",
       "      <td>44852</td>\n",
       "      <td>4.78</td>\n",
       "    </tr>\n",
       "  </tbody>\n",
       "</table>\n",
       "</div>"
      ],
      "text/plain": [
       "       bank_name  count  rating\n",
       "0  Тинькофф Банк  44852    4.78"
      ]
     },
     "execution_count": 9,
     "metadata": {},
     "output_type": "execute_result"
    }
   ],
   "source": [
    "top15_banks_by_count.sort_values(by='rating', ascending=False).head(1)"
   ]
  },
  {
   "cell_type": "markdown",
   "id": "7aa87d1d",
   "metadata": {},
   "source": [
    "3. Сделать выводы об изменении среднего рейтинга банков по месяцам из топ-5 банков по числу отзывов "
   ]
  },
  {
   "cell_type": "code",
   "execution_count": 10,
   "id": "06d19900",
   "metadata": {},
   "outputs": [],
   "source": [
    "# сначала распарсим колонку date - пригодится для дальнейшего анализа\n",
    "data['year'] = data['date'].dt.year\n",
    "data['month'] = data['date'].dt.month\n",
    "data['day'] = data['date'].dt.day\n",
    "data['hour'] = data['date'].dt.hour\n",
    "data['minute'] = data['date'].dt.minute\n",
    "data['second'] = data['date'].dt.second"
   ]
  },
  {
   "cell_type": "markdown",
   "id": "b21256b6",
   "metadata": {},
   "source": [
    "Построим график изменения среднего рейтинга по месяцам у топ-5 банков по числу отзывов"
   ]
  },
  {
   "cell_type": "code",
   "execution_count": 111,
   "id": "1130f062",
   "metadata": {},
   "outputs": [
    {
     "data": {
      "text/html": [
       "<div>\n",
       "<style scoped>\n",
       "    .dataframe tbody tr th:only-of-type {\n",
       "        vertical-align: middle;\n",
       "    }\n",
       "\n",
       "    .dataframe tbody tr th {\n",
       "        vertical-align: top;\n",
       "    }\n",
       "\n",
       "    .dataframe thead th {\n",
       "        text-align: right;\n",
       "    }\n",
       "</style>\n",
       "<table border=\"1\" class=\"dataframe\">\n",
       "  <thead>\n",
       "    <tr style=\"text-align: right;\">\n",
       "      <th></th>\n",
       "      <th>bank_name</th>\n",
       "      <th>year_month</th>\n",
       "      <th>rating</th>\n",
       "    </tr>\n",
       "  </thead>\n",
       "  <tbody>\n",
       "    <tr>\n",
       "      <th>0</th>\n",
       "      <td>ВТБ</td>\n",
       "      <td>2022-9</td>\n",
       "      <td>2.07</td>\n",
       "    </tr>\n",
       "    <tr>\n",
       "      <th>1</th>\n",
       "      <td>ВТБ</td>\n",
       "      <td>2022-10</td>\n",
       "      <td>1.91</td>\n",
       "    </tr>\n",
       "    <tr>\n",
       "      <th>2</th>\n",
       "      <td>ВТБ</td>\n",
       "      <td>2022-11</td>\n",
       "      <td>1.99</td>\n",
       "    </tr>\n",
       "    <tr>\n",
       "      <th>3</th>\n",
       "      <td>ВТБ</td>\n",
       "      <td>2022-12</td>\n",
       "      <td>1.90</td>\n",
       "    </tr>\n",
       "    <tr>\n",
       "      <th>4</th>\n",
       "      <td>ВТБ</td>\n",
       "      <td>2023-1</td>\n",
       "      <td>1.15</td>\n",
       "    </tr>\n",
       "    <tr>\n",
       "      <th>5</th>\n",
       "      <td>СберБанк</td>\n",
       "      <td>2022-9</td>\n",
       "      <td>1.92</td>\n",
       "    </tr>\n",
       "    <tr>\n",
       "      <th>6</th>\n",
       "      <td>СберБанк</td>\n",
       "      <td>2022-10</td>\n",
       "      <td>2.78</td>\n",
       "    </tr>\n",
       "    <tr>\n",
       "      <th>7</th>\n",
       "      <td>СберБанк</td>\n",
       "      <td>2022-11</td>\n",
       "      <td>2.56</td>\n",
       "    </tr>\n",
       "    <tr>\n",
       "      <th>8</th>\n",
       "      <td>СберБанк</td>\n",
       "      <td>2022-12</td>\n",
       "      <td>1.87</td>\n",
       "    </tr>\n",
       "    <tr>\n",
       "      <th>9</th>\n",
       "      <td>СберБанк</td>\n",
       "      <td>2023-1</td>\n",
       "      <td>1.40</td>\n",
       "    </tr>\n",
       "  </tbody>\n",
       "</table>\n",
       "</div>"
      ],
      "text/plain": [
       "  bank_name year_month  rating\n",
       "0       ВТБ     2022-9    2.07\n",
       "1       ВТБ    2022-10    1.91\n",
       "2       ВТБ    2022-11    1.99\n",
       "3       ВТБ    2022-12    1.90\n",
       "4       ВТБ     2023-1    1.15\n",
       "5  СберБанк     2022-9    1.92\n",
       "6  СберБанк    2022-10    2.78\n",
       "7  СберБанк    2022-11    2.56\n",
       "8  СберБанк    2022-12    1.87\n",
       "9  СберБанк     2023-1    1.40"
      ]
     },
     "execution_count": 111,
     "metadata": {},
     "output_type": "execute_result"
    }
   ],
   "source": [
    "data['year_month'] = data['year'].astype(str) + '-' + data['month'].astype(str)\n",
    "data_to_graph = data[['bank_name','year_month','rating']]\n",
    "data_to_graph = data_to_graph[data_to_graph['bank_name'].isin(top15_banks_by_count.head(5)['bank_name'])].groupby(['bank_name', 'year_month']).agg({'rating': 'mean'}).reset_index()\n",
    "data_to_graph['rating'] = data_to_graph['rating'].round(2)\n",
    "order = ['2022-9', '2022-10', '2022-11', '2022-12', '2023-1']\n",
    "data_to_graph['year_month'] = pd.Categorical(data_to_graph['year_month'], categories=order, ordered=True)\n",
    "data_to_graph = data_to_graph.sort_values(by=['bank_name', 'year_month']).reset_index(drop=True)\n",
    "data_to_graph.head(10)"
   ]
  },
  {
   "cell_type": "markdown",
   "id": "d4d09a9b",
   "metadata": {},
   "source": [
    "Я сразу обратила внимание на то, что в январе рейтинг сильно ниже, чем в другие месяцы."
   ]
  },
  {
   "cell_type": "code",
   "execution_count": 119,
   "id": "d8777d45",
   "metadata": {},
   "outputs": [
    {
     "name": "stdout",
     "output_type": "stream",
     "text": [
      "Дни в январе, в который оставили отзывы: 3 2 1\n"
     ]
    },
    {
     "data": {
      "text/html": [
       "<div>\n",
       "<style scoped>\n",
       "    .dataframe tbody tr th:only-of-type {\n",
       "        vertical-align: middle;\n",
       "    }\n",
       "\n",
       "    .dataframe tbody tr th {\n",
       "        vertical-align: top;\n",
       "    }\n",
       "\n",
       "    .dataframe thead th {\n",
       "        text-align: right;\n",
       "    }\n",
       "</style>\n",
       "<table border=\"1\" class=\"dataframe\">\n",
       "  <thead>\n",
       "    <tr style=\"text-align: right;\">\n",
       "      <th></th>\n",
       "      <th>bank_name</th>\n",
       "      <th>year_month</th>\n",
       "      <th>body</th>\n",
       "    </tr>\n",
       "  </thead>\n",
       "  <tbody>\n",
       "    <tr>\n",
       "      <th>0</th>\n",
       "      <td>Альфа-Банк</td>\n",
       "      <td>2022-10</td>\n",
       "      <td>826</td>\n",
       "    </tr>\n",
       "    <tr>\n",
       "      <th>1</th>\n",
       "      <td>Альфа-Банк</td>\n",
       "      <td>2022-11</td>\n",
       "      <td>1076</td>\n",
       "    </tr>\n",
       "    <tr>\n",
       "      <th>2</th>\n",
       "      <td>Альфа-Банк</td>\n",
       "      <td>2022-12</td>\n",
       "      <td>803</td>\n",
       "    </tr>\n",
       "    <tr>\n",
       "      <th>3</th>\n",
       "      <td>Альфа-Банк</td>\n",
       "      <td>2022-9</td>\n",
       "      <td>634</td>\n",
       "    </tr>\n",
       "    <tr>\n",
       "      <th>4</th>\n",
       "      <td>Альфа-Банк</td>\n",
       "      <td>2023-1</td>\n",
       "      <td>29</td>\n",
       "    </tr>\n",
       "    <tr>\n",
       "      <th>5</th>\n",
       "      <td>Банк Открытие</td>\n",
       "      <td>2022-10</td>\n",
       "      <td>437</td>\n",
       "    </tr>\n",
       "    <tr>\n",
       "      <th>6</th>\n",
       "      <td>Банк Открытие</td>\n",
       "      <td>2022-11</td>\n",
       "      <td>639</td>\n",
       "    </tr>\n",
       "    <tr>\n",
       "      <th>7</th>\n",
       "      <td>Банк Открытие</td>\n",
       "      <td>2022-12</td>\n",
       "      <td>525</td>\n",
       "    </tr>\n",
       "    <tr>\n",
       "      <th>8</th>\n",
       "      <td>Банк Открытие</td>\n",
       "      <td>2022-9</td>\n",
       "      <td>283</td>\n",
       "    </tr>\n",
       "    <tr>\n",
       "      <th>9</th>\n",
       "      <td>Банк Открытие</td>\n",
       "      <td>2023-1</td>\n",
       "      <td>10</td>\n",
       "    </tr>\n",
       "    <tr>\n",
       "      <th>10</th>\n",
       "      <td>ВТБ</td>\n",
       "      <td>2022-10</td>\n",
       "      <td>855</td>\n",
       "    </tr>\n",
       "    <tr>\n",
       "      <th>11</th>\n",
       "      <td>ВТБ</td>\n",
       "      <td>2022-11</td>\n",
       "      <td>1125</td>\n",
       "    </tr>\n",
       "    <tr>\n",
       "      <th>12</th>\n",
       "      <td>ВТБ</td>\n",
       "      <td>2022-12</td>\n",
       "      <td>1238</td>\n",
       "    </tr>\n",
       "    <tr>\n",
       "      <th>13</th>\n",
       "      <td>ВТБ</td>\n",
       "      <td>2022-9</td>\n",
       "      <td>569</td>\n",
       "    </tr>\n",
       "    <tr>\n",
       "      <th>14</th>\n",
       "      <td>ВТБ</td>\n",
       "      <td>2023-1</td>\n",
       "      <td>27</td>\n",
       "    </tr>\n",
       "  </tbody>\n",
       "</table>\n",
       "</div>"
      ],
      "text/plain": [
       "        bank_name year_month  body\n",
       "0      Альфа-Банк    2022-10   826\n",
       "1      Альфа-Банк    2022-11  1076\n",
       "2      Альфа-Банк    2022-12   803\n",
       "3      Альфа-Банк     2022-9   634\n",
       "4      Альфа-Банк     2023-1    29\n",
       "5   Банк Открытие    2022-10   437\n",
       "6   Банк Открытие    2022-11   639\n",
       "7   Банк Открытие    2022-12   525\n",
       "8   Банк Открытие     2022-9   283\n",
       "9   Банк Открытие     2023-1    10\n",
       "10            ВТБ    2022-10   855\n",
       "11            ВТБ    2022-11  1125\n",
       "12            ВТБ    2022-12  1238\n",
       "13            ВТБ     2022-9   569\n",
       "14            ВТБ     2023-1    27"
      ]
     },
     "execution_count": 119,
     "metadata": {},
     "output_type": "execute_result"
    }
   ],
   "source": [
    "print(\"Дни в январе, в который оставили отзывы:\", *data[(data['month'] == 1)]['day'].unique(), sep = \" \")\n",
    "data[data['bank_name'].isin(top15_banks_by_count.head(10)['bank_name'])].groupby(['bank_name', 'year_month']).agg({\"body\":\"count\"}).reset_index().head(15)"
   ]
  },
  {
   "cell_type": "markdown",
   "id": "2ed6c29c",
   "metadata": {},
   "source": [
    "Если посмотреть на распределение отзывов по месяцам, то увидим, что оно очень неравномерное.\n",
    "Это потому, что у нас есть отзывы только на первые три дня января.\n",
    "\n",
    "Поэтому, когда я буду писать выводы, я не буду ничего говорить про январь, и на графике я тоже его показывать не буду"
   ]
  },
  {
   "cell_type": "code",
   "execution_count": 122,
   "id": "cd69f64f",
   "metadata": {},
   "outputs": [
    {
     "data": {
      "image/png": "[encoded data removed]",
      "text/plain": [
       "<Figure size 640x480 with 1 Axes>"
      ]
     },
     "metadata": {},
     "output_type": "display_data"
    }
   ],
   "source": [
    "# data_to_graph['month'] = data_to_graph['month'].astype(str)\n",
    "data_to_graph = data_to_graph[data_to_graph['year_month'] != '2023-1']\n",
    "banks = data_to_graph['bank_name'].unique()\n",
    "\n",
    "# plt.figure(figsize=(8, 5))\n",
    "for b in banks:\n",
    "    bank_data = data_to_graph[data_to_graph['bank_name'] == b]\n",
    "    plt.plot(bank_data['year_month'], bank_data['rating'], label=b)\n",
    "plt.title('График изменения среднего рейтинга\\nтоп-5 банков по числу отзывов', fontsize=10)\n",
    "plt.xlabel('Месяц')\n",
    "plt.ylabel('Средний рейтинг')\n",
    "plt.box(True)\n",
    "plt.legend(fontsize='xx-small', loc='lower left')\n",
    "plt.grid(True, linestyle='-', linewidth=0.5, color='lightgrey')\n",
    "plt.xticks(fontsize=8)\n",
    "plt.yticks(fontsize=8)\n",
    "ax = plt.gca()\n",
    "ax.spines['top'].set_visible(False)\n",
    "ax.spines['right'].set_visible(False)\n",
    "ax.spines['bottom'].set_linewidth(0.5)\n",
    "ax.spines['left'].set_linewidth(0.5)\n",
    "plt.show()\n"
   ]
  },
  {
   "cell_type": "markdown",
   "id": "8d8e3130",
   "metadata": {},
   "source": [
    "##### Выводы\n",
    "\n",
    "переписать\n"
   ]
  },
  {
   "cell_type": "markdown",
   "id": "34f07cfe",
   "metadata": {},
   "source": [
    "4. **Нет ли в данных в целом каких-то странностей на ваш взгляд?**\n",
    "\n",
    "Одну странность я уже описала ранее - январских отзывов очень мало.\n",
    "\n",
    "Самая большая странность, на мой взгляд, это то, что отзывов на Тинькофф банк в разы больше, чем отзывов на другие банки.\n",
    "Причин этому может быть несколько. Это мог быть баг на этапе сбора данных, или, может быть, клиенты Тинькофф банка в целом чаще оставляют отзывы в интернете (все таки, Тинькофф - это мобильный банк, и его пользователи в принципе пользуются интернетом чаще, чем клиенты других банков, но это скорее мое личное мнение)\n",
    "\n",
    "Так или иначе, дизбаланс есть, и это бесит, особенно когда доходит до текстового анализа, чуть позже покажу, почему."
   ]
  },
  {
   "cell_type": "markdown",
   "id": "ea467cb3",
   "metadata": {},
   "source": [
    "5. **Дополнительный EDA**"
   ]
  },
  {
   "cell_type": "markdown",
   "id": "867ba2f9",
   "metadata": {},
   "source": [
    "Сейчас я хочу проанализироать временные данные.\n",
    "\n",
    "Посмотрим, в какое время пишут отрицательные отзывы, а в какое - положительные\n",
    "\n",
    "Я буду считать положительными отзывы >= 3, а отрицательными - <3, как сказано в задании"
   ]
  },
  {
   "cell_type": "code",
   "execution_count": 13,
   "id": "fc7f4b9a",
   "metadata": {},
   "outputs": [],
   "source": [
    "# сразу добавлю колонку \"class\": 0 - отзыв отрицательный, 1 - положительный. Это пригодится сейчас и на этапе с метрикой\n",
    "data['class'] = data['rating'].apply(lambda x: 1 if x >= 3 else 0)"
   ]
  },
  {
   "cell_type": "code",
   "execution_count": 14,
   "id": "3179eb17",
   "metadata": {},
   "outputs": [
    {
     "name": "stderr",
     "output_type": "stream",
     "text": [
      "C:\\Users\\mayko\\AppData\\Local\\Temp\\ipykernel_16592\\1257091007.py:5: FutureWarning: Series.__getitem__ treating keys as positions is deprecated. In a future version, integer keys will always be treated as labels (consistent with DataFrame behavior). To access a value by position, use `ser.iloc[pos]`\n",
      "  pos_and_neg_hour['percentage'] = pos_and_neg_hour.apply(lambda row: row[2]/count_rating_pos * 100 if row[1] == 1 else row[2]/count_rating_neg * 100, axis=1).round(2)\n"
     ]
    },
    {
     "data": {
      "text/html": [
       "<div>\n",
       "<style scoped>\n",
       "    .dataframe tbody tr th:only-of-type {\n",
       "        vertical-align: middle;\n",
       "    }\n",
       "\n",
       "    .dataframe tbody tr th {\n",
       "        vertical-align: top;\n",
       "    }\n",
       "\n",
       "    .dataframe thead th {\n",
       "        text-align: right;\n",
       "    }\n",
       "</style>\n",
       "<table border=\"1\" class=\"dataframe\">\n",
       "  <thead>\n",
       "    <tr style=\"text-align: right;\">\n",
       "      <th></th>\n",
       "      <th>hour</th>\n",
       "      <th>class</th>\n",
       "      <th>count</th>\n",
       "      <th>percentage</th>\n",
       "    </tr>\n",
       "  </thead>\n",
       "  <tbody>\n",
       "    <tr>\n",
       "      <th>0</th>\n",
       "      <td>0</td>\n",
       "      <td>0</td>\n",
       "      <td>459</td>\n",
       "      <td>2.20</td>\n",
       "    </tr>\n",
       "    <tr>\n",
       "      <th>1</th>\n",
       "      <td>0</td>\n",
       "      <td>1</td>\n",
       "      <td>1664</td>\n",
       "      <td>2.32</td>\n",
       "    </tr>\n",
       "    <tr>\n",
       "      <th>2</th>\n",
       "      <td>1</td>\n",
       "      <td>0</td>\n",
       "      <td>277</td>\n",
       "      <td>1.33</td>\n",
       "    </tr>\n",
       "    <tr>\n",
       "      <th>3</th>\n",
       "      <td>1</td>\n",
       "      <td>1</td>\n",
       "      <td>1108</td>\n",
       "      <td>1.54</td>\n",
       "    </tr>\n",
       "    <tr>\n",
       "      <th>4</th>\n",
       "      <td>2</td>\n",
       "      <td>0</td>\n",
       "      <td>181</td>\n",
       "      <td>0.87</td>\n",
       "    </tr>\n",
       "    <tr>\n",
       "      <th>5</th>\n",
       "      <td>2</td>\n",
       "      <td>1</td>\n",
       "      <td>764</td>\n",
       "      <td>1.06</td>\n",
       "    </tr>\n",
       "  </tbody>\n",
       "</table>\n",
       "</div>"
      ],
      "text/plain": [
       "   hour  class  count  percentage\n",
       "0     0      0    459        2.20\n",
       "1     0      1   1664        2.32\n",
       "2     1      0    277        1.33\n",
       "3     1      1   1108        1.54\n",
       "4     2      0    181        0.87\n",
       "5     2      1    764        1.06"
      ]
     },
     "execution_count": 14,
     "metadata": {},
     "output_type": "execute_result"
    }
   ],
   "source": [
    "# делаю группировку по часу и рейтингу и считаю средний рейтинг\n",
    "pos_and_neg_hour = data.groupby(['hour', 'class']).size().reset_index(name='count')\n",
    "count_rating_pos = data[data['class'] == 1].shape[0]\n",
    "count_rating_neg = data[data['class'] == 0].shape[0]\n",
    "pos_and_neg_hour['percentage'] = pos_and_neg_hour.apply(lambda row: row[2]/count_rating_pos * 100 if row[1] == 1 else row[2]/count_rating_neg * 100, axis=1).round(2)\n",
    "pos_and_neg_hour.head(6)"
   ]
  },
  {
   "cell_type": "code",
   "execution_count": 15,
   "id": "2486be8a",
   "metadata": {},
   "outputs": [
    {
     "data": {
      "image/png": "[encoded data removed]",
      "text/plain": [
       "<Figure size 600x300 with 1 Axes>"
      ]
     },
     "metadata": {},
     "output_type": "display_data"
    }
   ],
   "source": [
    "fig, ax = plt.subplots(figsize=(6, 3))\n",
    "for c in [0, 1]:\n",
    "    rating_data = pos_and_neg_hour[pos_and_neg_hour['class'] == c]\n",
    "    ax.plot(rating_data['hour'], rating_data['percentage'], label='Положительный отзыв' if c == 1 else 'Отрицательный отзыв')\n",
    "\n",
    "ax.set_xlabel('Час')\n",
    "ax.set_ylabel('Процент')\n",
    "ax.set_title('Распределение процента\\nположительных и отрицательных отзывов по часам', fontsize=9)\n",
    "ax.legend(fontsize='x-small', loc='lower right')\n",
    "plt.grid(True, linestyle='-', linewidth=0.5, color='lightgrey')\n",
    "plt.xticks(fontsize=8)\n",
    "plt.yticks(fontsize=8)\n",
    "ax.spines['top'].set_visible(False)\n",
    "ax.spines['right'].set_visible(False)\n",
    "ax.spines['bottom'].set_linewidth(0.5)\n",
    "ax.spines['left'].set_linewidth(0.5)\n",
    "plt.show()\n"
   ]
  },
  {
   "cell_type": "markdown",
   "id": "f3e2b8a1",
   "metadata": {},
   "source": [
    "В целом, нет большой разницей между тем, в какое время люди пишут отзыв. Можно увидеть, что самое большое количество положительных отзывов пишут в районе 15 часов, а самое большое количество отрицательных отзывов пользователи оставляют около полудня."
   ]
  },
  {
   "cell_type": "markdown",
   "id": "d253efec",
   "metadata": {},
   "source": [
    "**А сейчас минутка NLP**\n",
    "\n",
    "Перед тем, как перейти к части с предсказанием оценки, я бы хотела провести небольшой анализ текста и посмотреть, что пишут люди, когда им нравится банк, и когда он им не нравится"
   ]
  },
  {
   "cell_type": "code",
   "execution_count": 16,
   "id": "4c7cb20f",
   "metadata": {},
   "outputs": [],
   "source": [
    "import nltk\n",
    "from nltk.corpus import stopwords\n",
    "ru_stopwords = stopwords.words(\"russian\")\n",
    "from nltk.tokenize import sent_tokenize, word_tokenize\n",
    "import pymorphy3\n",
    "from nltk.stem import SnowballStemmer\n",
    "import time\n",
    "from sklearn.feature_extraction.text import TfidfTransformer\n",
    "from sklearn.feature_extraction.text import CountVectorizer\n"
   ]
  },
  {
   "cell_type": "markdown",
   "id": "7ad862d7",
   "metadata": {},
   "source": [
    "Сначала очистим текст, сделаем токенизацию и лемматизацию"
   ]
  },
  {
   "cell_type": "code",
   "execution_count": 159,
   "id": "70580e44",
   "metadata": {},
   "outputs": [],
   "source": [
    "from bs4 import BeautifulSoup\n",
    "import re\n",
    "def preprocess(data):\n",
    "    cleaned_body = []\n",
    "    morph = pymorphy3.MorphAnalyzer()\n",
    "    d = list(data['body'])\n",
    "    for b in d:\n",
    "        soup = BeautifulSoup(b, 'html.parser')\n",
    "        text = soup.get_text()\n",
    "        text = BeautifulSoup(text)\n",
    "        b = text.get_text()\n",
    "        words = re.findall(r'\\b[а-яА-Яa-zA-Z]+\\b', b)\n",
    "        processed_words = []\n",
    "        for w in words:\n",
    "            if w.isalpha() and len(w) > 1 and w not in ru_stopwords:\n",
    "                w = w.strip()\n",
    "                try:\n",
    "                    w = morph.parse(w)[0].normal_form\n",
    "                    processed_words.append(w)\n",
    "                except:\n",
    "                    processed_words.append(w)\n",
    "\n",
    "        cleaned_body.append(' '.join(processed_words))\n",
    "    data['cleaned_body'] = cleaned_body\n",
    "    return data"
   ]
  },
  {
   "cell_type": "code",
   "execution_count": 160,
   "id": "21b98d58",
   "metadata": {},
   "outputs": [
    {
     "name": "stderr",
     "output_type": "stream",
     "text": [
      "C:\\Users\\mayko\\AppData\\Local\\Temp\\ipykernel_16592\\292819202.py:8: MarkupResemblesLocatorWarning:\n",
      "\n",
      "The input looks more like a filename than markup. You may want to open this file and pass the filehandle into Beautiful Soup.\n",
      "\n"
     ]
    },
    {
     "data": {
      "text/html": [
       "<div>\n",
       "<style scoped>\n",
       "    .dataframe tbody tr th:only-of-type {\n",
       "        vertical-align: middle;\n",
       "    }\n",
       "\n",
       "    .dataframe tbody tr th {\n",
       "        vertical-align: top;\n",
       "    }\n",
       "\n",
       "    .dataframe thead th {\n",
       "        text-align: right;\n",
       "    }\n",
       "</style>\n",
       "<table border=\"1\" class=\"dataframe\">\n",
       "  <thead>\n",
       "    <tr style=\"text-align: right;\">\n",
       "      <th></th>\n",
       "      <th>body</th>\n",
       "      <th>cleaned_body</th>\n",
       "      <th>title</th>\n",
       "      <th>bank_name</th>\n",
       "      <th>rating</th>\n",
       "      <th>date</th>\n",
       "      <th>class</th>\n",
       "    </tr>\n",
       "  </thead>\n",
       "  <tbody>\n",
       "    <tr>\n",
       "      <th>0</th>\n",
       "      <td>&amp;lt;p&amp;gt;Добрый день&amp;lt;/p&amp;gt;\\r\\n&amp;lt;p&amp;gt;пиш...</td>\n",
       "      <td>добрый день писать сюда скорый разрешение вопр...</td>\n",
       "      <td>Заблокировали средства</td>\n",
       "      <td>Еком Банк</td>\n",
       "      <td>1</td>\n",
       "      <td>2023-01-03 12:46:11</td>\n",
       "      <td>0</td>\n",
       "    </tr>\n",
       "    <tr>\n",
       "      <th>1</th>\n",
       "      <td>&amp;lt;p&amp;gt;При возврате просроченной задолженнос...</td>\n",
       "      <td>при возврат просрочить задолженность банк звон...</td>\n",
       "      <td>Возврат просроченной задолженномти</td>\n",
       "      <td>Тинькофф Банк</td>\n",
       "      <td>1</td>\n",
       "      <td>2023-01-03 12:31:46</td>\n",
       "      <td>0</td>\n",
       "    </tr>\n",
       "    <tr>\n",
       "      <th>2</th>\n",
       "      <td>&amp;lt;p&amp;gt;07.09.22 ю была оформлена кредитная к...</td>\n",
       "      <td>оформить кредитный карта день банк открытие по...</td>\n",
       "      <td>Ошибочное начисление комиссии, затягивание про...</td>\n",
       "      <td>Банк Открытие</td>\n",
       "      <td>1</td>\n",
       "      <td>2023-01-03 12:23:11</td>\n",
       "      <td>0</td>\n",
       "    </tr>\n",
       "    <tr>\n",
       "      <th>3</th>\n",
       "      <td>&amp;lt;p&amp;gt;Новый год начинается с приятностей)&amp;l...</td>\n",
       "      <td>новый год начинаться приятность никогда понима...</td>\n",
       "      <td>Клиентоориентиванность 10 из 10</td>\n",
       "      <td>Тинькофф Банк</td>\n",
       "      <td>5</td>\n",
       "      <td>2023-01-03 12:16:07</td>\n",
       "      <td>1</td>\n",
       "    </tr>\n",
       "    <tr>\n",
       "      <th>4</th>\n",
       "      <td>&amp;lt;p&amp;gt;Увидела на сайте Газпромбанка акцию с...</td>\n",
       "      <td>увидеть сайт газпромбанк акция бонус кредитный...</td>\n",
       "      <td>Как Газпромбанк обманывает клиентов с акционны...</td>\n",
       "      <td>Газпромбанк</td>\n",
       "      <td>1</td>\n",
       "      <td>2023-01-03 12:12:36</td>\n",
       "      <td>0</td>\n",
       "    </tr>\n",
       "  </tbody>\n",
       "</table>\n",
       "</div>"
      ],
      "text/plain": [
       "                                                body  \\\n",
       "0  &lt;p&gt;Добрый день&lt;/p&gt;\\r\\n&lt;p&gt;пиш...   \n",
       "1  &lt;p&gt;При возврате просроченной задолженнос...   \n",
       "2  &lt;p&gt;07.09.22 ю была оформлена кредитная к...   \n",
       "3  &lt;p&gt;Новый год начинается с приятностей)&l...   \n",
       "4  &lt;p&gt;Увидела на сайте Газпромбанка акцию с...   \n",
       "\n",
       "                                        cleaned_body  \\\n",
       "0  добрый день писать сюда скорый разрешение вопр...   \n",
       "1  при возврат просрочить задолженность банк звон...   \n",
       "2  оформить кредитный карта день банк открытие по...   \n",
       "3  новый год начинаться приятность никогда понима...   \n",
       "4  увидеть сайт газпромбанк акция бонус кредитный...   \n",
       "\n",
       "                                               title      bank_name  rating  \\\n",
       "0                             Заблокировали средства      Еком Банк       1   \n",
       "1                 Возврат просроченной задолженномти  Тинькофф Банк       1   \n",
       "2  Ошибочное начисление комиссии, затягивание про...  Банк Открытие       1   \n",
       "3                    Клиентоориентиванность 10 из 10  Тинькофф Банк       5   \n",
       "4  Как Газпромбанк обманывает клиентов с акционны...    Газпромбанк       1   \n",
       "\n",
       "                 date  class  \n",
       "0 2023-01-03 12:46:11      0  \n",
       "1 2023-01-03 12:31:46      0  \n",
       "2 2023-01-03 12:23:11      0  \n",
       "3 2023-01-03 12:16:07      1  \n",
       "4 2023-01-03 12:12:36      0  "
      ]
     },
     "execution_count": 160,
     "metadata": {},
     "output_type": "execute_result"
    }
   ],
   "source": [
    "nlp_cols = 'body cleaned_body title bank_name rating date class'.split()\n",
    "nlp_data = preprocess(data)[nlp_cols]\n",
    "# nlp_data['title'] = nlp_data['title'].lower( )\n",
    "# nlp_data = nlp_data[nlp_cols]\n",
    "nlp_data.head()"
   ]
  },
  {
   "cell_type": "markdown",
   "id": "ee835757",
   "metadata": {},
   "source": [
    "Теперь посчитаем tf-idf и оставим только ключевые слова. Причем я сохраню порядок слов, чтобы потом выделить биграммы и триграммы и построить очень прикольный график.\n",
    "\n",
    "*Для подсчета tf-idf я использую библиотеку gensim, а не sklearn, потому что она лучше работает с большими корпусами данных*\n",
    "\n",
    "*А еще у меня от sklearn-a чуть комп не умер, но это уже совсем другая история*"
   ]
  },
  {
   "cell_type": "code",
   "execution_count": 161,
   "id": "dc27f6ce",
   "metadata": {},
   "outputs": [],
   "source": [
    "documents = list(nlp_data['cleaned_body'])\n",
    "processed_documents = [preprocess_string(doc) for doc in documents]\n",
    "dictionary = corpora.Dictionary(processed_documents)\n",
    "corpus = [dictionary.doc2bow(doc) for doc in processed_documents]\n",
    "tfidf_model = TfidfModel(corpus)\n",
    "tfidf_corpus = tfidf_model[corpus]"
   ]
  },
  {
   "cell_type": "code",
   "execution_count": 162,
   "id": "61f2ba5f",
   "metadata": {},
   "outputs": [
    {
     "name": "stderr",
     "output_type": "stream",
     "text": [
      "C:\\Users\\mayko\\AppData\\Local\\Temp\\ipykernel_16592\\59092637.py:6: SettingWithCopyWarning:\n",
      "\n",
      "\n",
      "A value is trying to be set on a copy of a slice from a DataFrame.\n",
      "Try using .loc[row_indexer,col_indexer] = value instead\n",
      "\n",
      "See the caveats in the documentation: https://pandas.pydata.org/pandas-docs/stable/user_guide/indexing.html#returning-a-view-versus-a-copy\n",
      "\n"
     ]
    }
   ],
   "source": [
    "new_documents = []\n",
    "for d in range(len(documents)):\n",
    "    tf_ifd_doc = sorted(tfidf_corpus[d], key=lambda x: x[1], reverse=True)\n",
    "    keywords = [dictionary[x[0]] for x in tf_ifd_doc if x[1] >= 0.1]\n",
    "    new_documents.append(' '.join([w for w in documents[d].split() if w in keywords]))\n",
    "nlp_data['keyworded_body'] = new_documents"
   ]
  },
  {
   "cell_type": "code",
   "execution_count": 163,
   "id": "6bc20a85",
   "metadata": {},
   "outputs": [
    {
     "data": {
      "text/html": [
       "<div>\n",
       "<style scoped>\n",
       "    .dataframe tbody tr th:only-of-type {\n",
       "        vertical-align: middle;\n",
       "    }\n",
       "\n",
       "    .dataframe tbody tr th {\n",
       "        vertical-align: top;\n",
       "    }\n",
       "\n",
       "    .dataframe thead th {\n",
       "        text-align: right;\n",
       "    }\n",
       "</style>\n",
       "<table border=\"1\" class=\"dataframe\">\n",
       "  <thead>\n",
       "    <tr style=\"text-align: right;\">\n",
       "      <th></th>\n",
       "      <th>body</th>\n",
       "      <th>cleaned_body</th>\n",
       "      <th>keyworded_body</th>\n",
       "      <th>title</th>\n",
       "      <th>bank_name</th>\n",
       "      <th>date</th>\n",
       "      <th>rating</th>\n",
       "      <th>class</th>\n",
       "    </tr>\n",
       "  </thead>\n",
       "  <tbody>\n",
       "    <tr>\n",
       "      <th>0</th>\n",
       "      <td>&amp;lt;p&amp;gt;Добрый день&amp;lt;/p&amp;gt;\\r\\n&amp;lt;p&amp;gt;пиш...</td>\n",
       "      <td>добрый день писать сюда скорый разрешение вопр...</td>\n",
       "      <td>сюда скорый разрешение пополнить юманя озон вы...</td>\n",
       "      <td>Заблокировали средства</td>\n",
       "      <td>Еком Банк</td>\n",
       "      <td>2023-01-03 12:46:11</td>\n",
       "      <td>1</td>\n",
       "      <td>0</td>\n",
       "    </tr>\n",
       "    <tr>\n",
       "      <th>1</th>\n",
       "      <td>&amp;lt;p&amp;gt;При возврате просроченной задолженнос...</td>\n",
       "      <td>при возврат просрочить задолженность банк звон...</td>\n",
       "      <td>возврат просрочить задолженность звонить трети...</td>\n",
       "      <td>Возврат просроченной задолженномти</td>\n",
       "      <td>Тинькофф Банк</td>\n",
       "      <td>2023-01-03 12:31:46</td>\n",
       "      <td>1</td>\n",
       "      <td>0</td>\n",
       "    </tr>\n",
       "    <tr>\n",
       "      <th>2</th>\n",
       "      <td>&amp;lt;p&amp;gt;07.09.22 ю была оформлена кредитная к...</td>\n",
       "      <td>оформить кредитный карта день банк открытие по...</td>\n",
       "      <td>день задолжность сторонний менеджер пояснить д...</td>\n",
       "      <td>Ошибочное начисление комиссии, затягивание про...</td>\n",
       "      <td>Банк Открытие</td>\n",
       "      <td>2023-01-03 12:23:11</td>\n",
       "      <td>1</td>\n",
       "      <td>0</td>\n",
       "    </tr>\n",
       "    <tr>\n",
       "      <th>3</th>\n",
       "      <td>&amp;lt;p&amp;gt;Новый год начинается с приятностей)&amp;l...</td>\n",
       "      <td>новый год начинаться приятность никогда понима...</td>\n",
       "      <td>новый начинаться приятность никогда критиковат...</td>\n",
       "      <td>Клиентоориентиванность 10 из 10</td>\n",
       "      <td>Тинькофф Банк</td>\n",
       "      <td>2023-01-03 12:16:07</td>\n",
       "      <td>5</td>\n",
       "      <td>1</td>\n",
       "    </tr>\n",
       "    <tr>\n",
       "      <th>4</th>\n",
       "      <td>&amp;lt;p&amp;gt;Увидела на сайте Газпромбанка акцию с...</td>\n",
       "      <td>увидеть сайт газпромбанк акция бонус кредитный...</td>\n",
       "      <td>увидеть сайт газпромбанк акция декабрь отправи...</td>\n",
       "      <td>Как Газпромбанк обманывает клиентов с акционны...</td>\n",
       "      <td>Газпромбанк</td>\n",
       "      <td>2023-01-03 12:12:36</td>\n",
       "      <td>1</td>\n",
       "      <td>0</td>\n",
       "    </tr>\n",
       "  </tbody>\n",
       "</table>\n",
       "</div>"
      ],
      "text/plain": [
       "                                                body  \\\n",
       "0  &lt;p&gt;Добрый день&lt;/p&gt;\\r\\n&lt;p&gt;пиш...   \n",
       "1  &lt;p&gt;При возврате просроченной задолженнос...   \n",
       "2  &lt;p&gt;07.09.22 ю была оформлена кредитная к...   \n",
       "3  &lt;p&gt;Новый год начинается с приятностей)&l...   \n",
       "4  &lt;p&gt;Увидела на сайте Газпромбанка акцию с...   \n",
       "\n",
       "                                        cleaned_body  \\\n",
       "0  добрый день писать сюда скорый разрешение вопр...   \n",
       "1  при возврат просрочить задолженность банк звон...   \n",
       "2  оформить кредитный карта день банк открытие по...   \n",
       "3  новый год начинаться приятность никогда понима...   \n",
       "4  увидеть сайт газпромбанк акция бонус кредитный...   \n",
       "\n",
       "                                      keyworded_body  \\\n",
       "0  сюда скорый разрешение пополнить юманя озон вы...   \n",
       "1  возврат просрочить задолженность звонить трети...   \n",
       "2  день задолжность сторонний менеджер пояснить д...   \n",
       "3  новый начинаться приятность никогда критиковат...   \n",
       "4  увидеть сайт газпромбанк акция декабрь отправи...   \n",
       "\n",
       "                                               title      bank_name  \\\n",
       "0                             Заблокировали средства      Еком Банк   \n",
       "1                 Возврат просроченной задолженномти  Тинькофф Банк   \n",
       "2  Ошибочное начисление комиссии, затягивание про...  Банк Открытие   \n",
       "3                    Клиентоориентиванность 10 из 10  Тинькофф Банк   \n",
       "4  Как Газпромбанк обманывает клиентов с акционны...    Газпромбанк   \n",
       "\n",
       "                 date  rating  class  \n",
       "0 2023-01-03 12:46:11       1      0  \n",
       "1 2023-01-03 12:31:46       1      0  \n",
       "2 2023-01-03 12:23:11       1      0  \n",
       "3 2023-01-03 12:16:07       5      1  \n",
       "4 2023-01-03 12:12:36       1      0  "
      ]
     },
     "execution_count": 163,
     "metadata": {},
     "output_type": "execute_result"
    }
   ],
   "source": [
    "nlp_cols = 'body\tcleaned_body keyworded_body\ttitle\tbank_name\tdate rating\tclass'.split()\n",
    "nlp_data = nlp_data[nlp_cols]\n",
    "nlp_data.head()"
   ]
  },
  {
   "cell_type": "code",
   "execution_count": 164,
   "id": "eb22a32e",
   "metadata": {},
   "outputs": [],
   "source": [
    "# Раздедим датасет на две части\n",
    "nlp_data_pos = nlp_data[nlp_data['class'] == 1]\n",
    "nlp_data_neg = nlp_data[nlp_data['class'] == 0]"
   ]
  },
  {
   "cell_type": "code",
   "execution_count": 165,
   "id": "8d701c87",
   "metadata": {},
   "outputs": [],
   "source": [
    "def get_bigr_and_trigr(nlp_data):\n",
    "    bigrams_list = []\n",
    "    trigrams_list = []\n",
    "\n",
    "    for r in nlp_data['keyworded_body']:\n",
    "        r = r.split()\n",
    "        b = list(bigrams(r))\n",
    "        t = list(trigrams(r))\n",
    "        bigrams_list += b\n",
    "        trigrams_list += t\n",
    "    bigr_freq = Counter(bigrams_list)\n",
    "    trigr_freq = Counter(trigrams_list)\n",
    "    rows1 = [[' '.join(x[0]), x[1]] for x in bigr_freq.most_common(15)]\n",
    "    bigr_freq = pd.DataFrame(rows1, columns=['bigr', 'n'])\n",
    "    rows2 = [[' '.join(x[0]), x[1]] for x in trigr_freq.most_common(15)]\n",
    "    trigr_freq = pd.DataFrame(rows2, columns=['bigr', 'n'])\n",
    "    return bigr_freq, trigr_freq\n",
    "\n",
    "def draw_net(data_for_net, edge_color = '#71a5e3', node_color = '#1e589e'):\n",
    "    G = nx.Graph()\n",
    "    for _, row in data_for_net.iterrows():\n",
    "        words = row['bigr'].split()\n",
    "        connections = [(words[i], words[i+1]) for i in range(len(words)-1)]\n",
    "        G.add_edges_from(connections)\n",
    "\n",
    "    layout = nx.spring_layout(G, k = 0.35)\n",
    "    edge_1 = []\n",
    "    edge_2 = []\n",
    "\n",
    "    for edge in G.edges():\n",
    "        x0, y0 = layout[edge[0]]\n",
    "        x1, y1 = layout[edge[1]]\n",
    "        edge_1.append(x0)\n",
    "        edge_1.append(x1)\n",
    "        edge_1.append(None)\n",
    "        edge_2.append(y0)\n",
    "        edge_2.append(y1)\n",
    "        edge_2.append(None)\n",
    "\n",
    "    edges = go.Scatter(\n",
    "        x=edge_1, y=edge_2,\n",
    "        line=dict(width=0.5, color=edge_color),\n",
    "        hoverinfo='none',\n",
    "        mode='lines')\n",
    "\n",
    "    node_x = []\n",
    "    node_y = []\n",
    "    node_labels = []\n",
    "    for node in G.nodes():\n",
    "        x, y = layout[node]\n",
    "        node_x.append(x)\n",
    "        node_y.append(y)\n",
    "        node_labels.append(node)\n",
    "\n",
    "    nodes = go.Scatter(\n",
    "        x=node_x, y=node_y,\n",
    "        mode='markers+text',\n",
    "        hoverinfo='text',\n",
    "        text=node_labels,\n",
    "        textposition='top center',\n",
    "        textfont = {'size': 10, 'color': 'black', 'family': 'Arial'},\n",
    "        marker={\"color\":node_color, \"size\":10}\n",
    "    )\n",
    "\n",
    "    fig = go.Figure(data=[edges, nodes],\n",
    "                layout=go.Layout(\n",
    "                    width=800,\n",
    "                    height=600,\n",
    "                    showlegend=False,\n",
    "                    hovermode='closest',\n",
    "                    margin = {'b': 0, 'l': 0, 'r': 0, 't': 0},\n",
    "                    xaxis = {'showgrid': False, 'zeroline': False, 'showticklabels': False},\n",
    "                    yaxis = {'showgrid': False, 'zeroline': False, 'showticklabels': False}))\n",
    "\n",
    "    fig.show()\n"
   ]
  },
  {
   "cell_type": "markdown",
   "id": "85d76263",
   "metadata": {},
   "source": [
    "Я выделила биграммы и триграммы, которые чаще всего встречаются в положительных отзывах.\n",
    "\n",
    "Как видим, тут всплывает проблема дизбаланса отзывов - слишком много хвалебных отзывов Тинькофф банку.\n",
    "\n",
    "Поэтому, как мне кажется, в данном случае надо смотреть биграммы и триграммы для каждого конкретного банка отдельно. "
   ]
  },
  {
   "cell_type": "code",
   "execution_count": 166,
   "id": "4e89f907",
   "metadata": {},
   "outputs": [
    {
     "data": {
      "text/html": [
       "<div>\n",
       "<style scoped>\n",
       "    .dataframe tbody tr th:only-of-type {\n",
       "        vertical-align: middle;\n",
       "    }\n",
       "\n",
       "    .dataframe tbody tr th {\n",
       "        vertical-align: top;\n",
       "    }\n",
       "\n",
       "    .dataframe thead th {\n",
       "        text-align: right;\n",
       "    }\n",
       "</style>\n",
       "<table border=\"1\" class=\"dataframe\">\n",
       "  <thead>\n",
       "    <tr style=\"text-align: right;\">\n",
       "      <th></th>\n",
       "      <th>bigr</th>\n",
       "      <th>n</th>\n",
       "    </tr>\n",
       "  </thead>\n",
       "  <tbody>\n",
       "    <tr>\n",
       "      <th>0</th>\n",
       "      <td>хоум кредит</td>\n",
       "      <td>1598</td>\n",
       "    </tr>\n",
       "    <tr>\n",
       "      <th>1</th>\n",
       "      <td>высокий уровень</td>\n",
       "      <td>1420</td>\n",
       "    </tr>\n",
       "    <tr>\n",
       "      <th>2</th>\n",
       "      <td>tinkoff black</td>\n",
       "      <td>1412</td>\n",
       "    </tr>\n",
       "    <tr>\n",
       "      <th>3</th>\n",
       "      <td>выразить благодарность</td>\n",
       "      <td>1256</td>\n",
       "    </tr>\n",
       "    <tr>\n",
       "      <th>4</th>\n",
       "      <td>тот поддержка</td>\n",
       "      <td>1098</td>\n",
       "    </tr>\n",
       "    <tr>\n",
       "      <th>5</th>\n",
       "      <td>бесплатный обслуживание</td>\n",
       "      <td>1064</td>\n",
       "    </tr>\n",
       "    <tr>\n",
       "      <th>6</th>\n",
       "      <td>горячий линия</td>\n",
       "      <td>1049</td>\n",
       "    </tr>\n",
       "    <tr>\n",
       "      <th>7</th>\n",
       "      <td>денежный средство</td>\n",
       "      <td>1019</td>\n",
       "    </tr>\n",
       "    <tr>\n",
       "      <th>8</th>\n",
       "      <td>дебетовый карта</td>\n",
       "      <td>964</td>\n",
       "    </tr>\n",
       "    <tr>\n",
       "      <th>9</th>\n",
       "      <td>личный кабинет</td>\n",
       "      <td>919</td>\n",
       "    </tr>\n",
       "    <tr>\n",
       "      <th>10</th>\n",
       "      <td>каждый месяц</td>\n",
       "      <td>904</td>\n",
       "    </tr>\n",
       "    <tr>\n",
       "      <th>11</th>\n",
       "      <td>мобильный приложение</td>\n",
       "      <td>867</td>\n",
       "    </tr>\n",
       "    <tr>\n",
       "      <th>12</th>\n",
       "      <td>льготный период</td>\n",
       "      <td>826</td>\n",
       "    </tr>\n",
       "    <tr>\n",
       "      <th>13</th>\n",
       "      <td>огромный благодарность</td>\n",
       "      <td>801</td>\n",
       "    </tr>\n",
       "    <tr>\n",
       "      <th>14</th>\n",
       "      <td>снятие наличный</td>\n",
       "      <td>791</td>\n",
       "    </tr>\n",
       "    <tr>\n",
       "      <th>15</th>\n",
       "      <td>выразить огромный благодарность</td>\n",
       "      <td>449</td>\n",
       "    </tr>\n",
       "    <tr>\n",
       "      <th>16</th>\n",
       "      <td>акция привести друг</td>\n",
       "      <td>386</td>\n",
       "    </tr>\n",
       "    <tr>\n",
       "      <th>17</th>\n",
       "      <td>карта tinkoff black</td>\n",
       "      <td>249</td>\n",
       "    </tr>\n",
       "    <tr>\n",
       "      <th>18</th>\n",
       "      <td>оставить положительный отзыв</td>\n",
       "      <td>246</td>\n",
       "    </tr>\n",
       "    <tr>\n",
       "      <th>19</th>\n",
       "      <td>категория повышенный кэшбэк</td>\n",
       "      <td>245</td>\n",
       "    </tr>\n",
       "    <tr>\n",
       "      <th>20</th>\n",
       "      <td>выразить благодарность сотрудник</td>\n",
       "      <td>198</td>\n",
       "    </tr>\n",
       "    <tr>\n",
       "      <th>21</th>\n",
       "      <td>система быстрый платёж</td>\n",
       "      <td>183</td>\n",
       "    </tr>\n",
       "    <tr>\n",
       "      <th>22</th>\n",
       "      <td>категория повышенный кэшбек</td>\n",
       "      <td>177</td>\n",
       "    </tr>\n",
       "    <tr>\n",
       "      <th>23</th>\n",
       "      <td>выбрать категория повышенный</td>\n",
       "      <td>176</td>\n",
       "    </tr>\n",
       "    <tr>\n",
       "      <th>24</th>\n",
       "      <td>акция пригласить друг</td>\n",
       "      <td>165</td>\n",
       "    </tr>\n",
       "    <tr>\n",
       "      <th>25</th>\n",
       "      <td>дебетовый карта тинькофф</td>\n",
       "      <td>163</td>\n",
       "    </tr>\n",
       "    <tr>\n",
       "      <th>26</th>\n",
       "      <td>выражать огромный благодарность</td>\n",
       "      <td>159</td>\n",
       "    </tr>\n",
       "    <tr>\n",
       "      <th>27</th>\n",
       "      <td>категория повышенный кешбек</td>\n",
       "      <td>138</td>\n",
       "    </tr>\n",
       "    <tr>\n",
       "      <th>28</th>\n",
       "      <td>позвонить горячий линия</td>\n",
       "      <td>137</td>\n",
       "    </tr>\n",
       "    <tr>\n",
       "      <th>29</th>\n",
       "      <td>дебетовый tinkoff black</td>\n",
       "      <td>130</td>\n",
       "    </tr>\n",
       "  </tbody>\n",
       "</table>\n",
       "</div>"
      ],
      "text/plain": [
       "                                bigr     n\n",
       "0                        хоум кредит  1598\n",
       "1                    высокий уровень  1420\n",
       "2                      tinkoff black  1412\n",
       "3             выразить благодарность  1256\n",
       "4                      тот поддержка  1098\n",
       "5            бесплатный обслуживание  1064\n",
       "6                      горячий линия  1049\n",
       "7                  денежный средство  1019\n",
       "8                    дебетовый карта   964\n",
       "9                     личный кабинет   919\n",
       "10                      каждый месяц   904\n",
       "11              мобильный приложение   867\n",
       "12                   льготный период   826\n",
       "13            огромный благодарность   801\n",
       "14                   снятие наличный   791\n",
       "15   выразить огромный благодарность   449\n",
       "16               акция привести друг   386\n",
       "17               карта tinkoff black   249\n",
       "18      оставить положительный отзыв   246\n",
       "19       категория повышенный кэшбэк   245\n",
       "20  выразить благодарность сотрудник   198\n",
       "21            система быстрый платёж   183\n",
       "22       категория повышенный кэшбек   177\n",
       "23      выбрать категория повышенный   176\n",
       "24             акция пригласить друг   165\n",
       "25          дебетовый карта тинькофф   163\n",
       "26   выражать огромный благодарность   159\n",
       "27       категория повышенный кешбек   138\n",
       "28           позвонить горячий линия   137\n",
       "29           дебетовый tinkoff black   130"
      ]
     },
     "execution_count": 166,
     "metadata": {},
     "output_type": "execute_result"
    }
   ],
   "source": [
    "pos_bigr, pos_trigr = get_bigr_and_trigr(nlp_data_pos)\n",
    "pd.merge(pos_bigr, pos_trigr, how=\"outer\")"
   ]
  },
  {
   "cell_type": "markdown",
   "id": "ff1c7778",
   "metadata": {},
   "source": [
    "Например, посмотрим, что больше всего нравится пользователям Сбера."
   ]
  },
  {
   "cell_type": "code",
   "execution_count": 167,
   "id": "c4ab30d4",
   "metadata": {},
   "outputs": [
    {
     "data": {
      "application/vnd.plotly.v1+json": {
       "config": {
        "plotlyServerURL": "https://plot.ly"
       },
       "data": [
        {
         "hoverinfo": "none",
         "line": {
          "color": "#71a5e3",
          "width": 0.5
         },
         "mode": "lines",
         "type": "scatter",
         "x": [
          -0.6211527777268723,
          -0.38964759667458393,
          null,
          -0.6211527777268723,
          -0.620941096485062,
          null,
          -0.6211527777268723,
          -0.7911496270415087,
          null,
          -0.38964759667458393,
          -0.620941096485062,
          null,
          -0.38964759667458393,
          -0.43488015836272204,
          null,
          -0.38964759667458393,
          -0.049336611723504516,
          null,
          -0.620941096485062,
          -0.796368189336438,
          null,
          0.29670422531690355,
          0.49568487149636015,
          null,
          0.29670422531690355,
          0.44505061107768124,
          null,
          0.29670422531690355,
          0.2638989262763568,
          null,
          0.29670422531690355,
          -0.049336611723504516,
          null,
          0.29670422531690355,
          0.3879648368160999,
          null,
          0.29670422531690355,
          0.49441690081317674,
          null,
          0.49568487149636015,
          0.49441690081317674,
          null,
          0.49568487149636015,
          0.3879648368160999,
          null,
          0.49568487149636015,
          0.6315419690961936,
          null,
          0.31468212500309656,
          0.1957039492720274,
          null,
          0.1957039492720274,
          -0.028491676173130084,
          null,
          0.1957039492720274,
          0.2638989262763568,
          null,
          -0.028491676173130084,
          -0.21348428795235846,
          null,
          -0.028491676173130084,
          -0.11511049349723039,
          null,
          -0.0036921836110238235,
          0.04879252932934084,
          null,
          -0.0036921836110238235,
          -0.131199689754967,
          null,
          -0.11511049349723039,
          -0.02690345776336019,
          null,
          0.6315419690961936,
          0.6479169016055268,
          null
         ],
         "y": [
          -0.18724487370632462,
          -0.1012027035668021,
          null,
          -0.18724487370632462,
          -0.05556219843359758,
          null,
          -0.18724487370632462,
          -0.2930089824128376,
          null,
          -0.1012027035668021,
          -0.05556219843359758,
          null,
          -0.1012027035668021,
          -0.2343642896277469,
          null,
          -0.1012027035668021,
          -0.03312301921952044,
          null,
          -0.05556219843359758,
          0.017745582680186098,
          null,
          0.04674516961041703,
          -0.1273893104310236,
          null,
          0.04674516961041703,
          0.16350303288152318,
          null,
          0.04674516961041703,
          0.327055479349143,
          null,
          0.04674516961041703,
          -0.03312301921952044,
          null,
          0.04674516961041703,
          -0.08506715974163737,
          null,
          0.04674516961041703,
          0.0041518745054734225,
          null,
          -0.1273893104310236,
          0.0041518745054734225,
          null,
          -0.1273893104310236,
          -0.08506715974163737,
          null,
          -0.1273893104310236,
          -0.31860476795699627,
          null,
          0.7355647074138266,
          0.5772127311213792,
          null,
          0.5772127311213792,
          0.6534491655311772,
          null,
          0.5772127311213792,
          0.327055479349143,
          null,
          0.6534491655311772,
          0.6102645819043053,
          null,
          0.6534491655311772,
          0.7901480977763276,
          null,
          -0.9954190854341501,
          -0.8650026372175855,
          null,
          -0.9954190854341501,
          -1,
          null,
          0.7901480977763276,
          0.8586950498497774,
          null,
          -0.31860476795699627,
          -0.488546444875314,
          null
         ]
        },
        {
         "hoverinfo": "text",
         "marker": {
          "color": "#1e589e",
          "size": 10
         },
         "mode": "markers+text",
         "text": [
          "выразить",
          "благодарность",
          "огромный",
          "ипотечный",
          "сделка",
          "отделение",
          "сбербанк",
          "кредитование",
          "проводить",
          "проведение",
          "адрес",
          "сотрудник",
          "высокий",
          "уровень",
          "отдел",
          "менеджер",
          "санкт",
          "петербург",
          "профессионализм",
          "купля",
          "продажа",
          "выражать",
          "москва",
          "хотеться"
         ],
         "textfont": {
          "color": "black",
          "family": "Arial",
          "size": 10
         },
         "textposition": "top center",
         "type": "scatter",
         "x": [
          -0.6211527777268723,
          -0.38964759667458393,
          -0.620941096485062,
          0.29670422531690355,
          0.49568487149636015,
          0.31468212500309656,
          0.1957039492720274,
          0.44505061107768124,
          0.49441690081317674,
          0.3879648368160999,
          -0.028491676173130084,
          -0.43488015836272204,
          -0.0036921836110238235,
          0.04879252932934084,
          0.2638989262763568,
          -0.049336611723504516,
          -0.11511049349723039,
          -0.02690345776336019,
          -0.131199689754967,
          0.6315419690961936,
          0.6479169016055268,
          -0.796368189336438,
          -0.21348428795235846,
          -0.7911496270415087
         ],
         "y": [
          -0.18724487370632462,
          -0.1012027035668021,
          -0.05556219843359758,
          0.04674516961041703,
          -0.1273893104310236,
          0.7355647074138266,
          0.5772127311213792,
          0.16350303288152318,
          0.0041518745054734225,
          -0.08506715974163737,
          0.6534491655311772,
          -0.2343642896277469,
          -0.9954190854341501,
          -0.8650026372175855,
          0.327055479349143,
          -0.03312301921952044,
          0.7901480977763276,
          0.8586950498497774,
          -1,
          -0.31860476795699627,
          -0.488546444875314,
          0.017745582680186098,
          0.6102645819043053,
          -0.2930089824128376
         ]
        }
       ],
       "layout": {
        "height": 600,
        "hovermode": "closest",
        "margin": {
         "b": 0,
         "l": 0,
         "r": 0,
         "t": 0
        },
        "showlegend": false,
        "template": {
         "data": {
          "bar": [
           {
            "error_x": {
             "color": "#2a3f5f"
            },
            "error_y": {
             "color": "#2a3f5f"
            },
            "marker": {
             "line": {
              "color": "#E5ECF6",
              "width": 0.5
             },
             "pattern": {
              "fillmode": "overlay",
              "size": 10,
              "solidity": 0.2
             }
            },
            "type": "bar"
           }
          ],
          "barpolar": [
           {
            "marker": {
             "line": {
              "color": "#E5ECF6",
              "width": 0.5
             },
             "pattern": {
              "fillmode": "overlay",
              "size": 10,
              "solidity": 0.2
             }
            },
            "type": "barpolar"
           }
          ],
          "carpet": [
           {
            "aaxis": {
             "endlinecolor": "#2a3f5f",
             "gridcolor": "white",
             "linecolor": "white",
             "minorgridcolor": "white",
             "startlinecolor": "#2a3f5f"
            },
            "baxis": {
             "endlinecolor": "#2a3f5f",
             "gridcolor": "white",
             "linecolor": "white",
             "minorgridcolor": "white",
             "startlinecolor": "#2a3f5f"
            },
            "type": "carpet"
           }
          ],
          "choropleth": [
           {
            "colorbar": {
             "outlinewidth": 0,
             "ticks": ""
            },
            "type": "choropleth"
           }
          ],
          "contour": [
           {
            "colorbar": {
             "outlinewidth": 0,
             "ticks": ""
            },
            "colorscale": [
             [
              0,
              "#0d0887"
             ],
             [
              0.1111111111111111,
              "#46039f"
             ],
             [
              0.2222222222222222,
              "#7201a8"
             ],
             [
              0.3333333333333333,
              "#9c179e"
             ],
             [
              0.4444444444444444,
              "#bd3786"
             ],
             [
              0.5555555555555556,
              "#d8576b"
             ],
             [
              0.6666666666666666,
              "#ed7953"
             ],
             [
              0.7777777777777778,
              "#fb9f3a"
             ],
             [
              0.8888888888888888,
              "#fdca26"
             ],
             [
              1,
              "#f0f921"
             ]
            ],
            "type": "contour"
           }
          ],
          "contourcarpet": [
           {
            "colorbar": {
             "outlinewidth": 0,
             "ticks": ""
            },
            "type": "contourcarpet"
           }
          ],
          "heatmap": [
           {
            "colorbar": {
             "outlinewidth": 0,
             "ticks": ""
            },
            "colorscale": [
             [
              0,
              "#0d0887"
             ],
             [
              0.1111111111111111,
              "#46039f"
             ],
             [
              0.2222222222222222,
              "#7201a8"
             ],
             [
              0.3333333333333333,
              "#9c179e"
             ],
             [
              0.4444444444444444,
              "#bd3786"
             ],
             [
              0.5555555555555556,
              "#d8576b"
             ],
             [
              0.6666666666666666,
              "#ed7953"
             ],
             [
              0.7777777777777778,
              "#fb9f3a"
             ],
             [
              0.8888888888888888,
              "#fdca26"
             ],
             [
              1,
              "#f0f921"
             ]
            ],
            "type": "heatmap"
           }
          ],
          "heatmapgl": [
           {
            "colorbar": {
             "outlinewidth": 0,
             "ticks": ""
            },
            "colorscale": [
             [
              0,
              "#0d0887"
             ],
             [
              0.1111111111111111,
              "#46039f"
             ],
             [
              0.2222222222222222,
              "#7201a8"
             ],
             [
              0.3333333333333333,
              "#9c179e"
             ],
             [
              0.4444444444444444,
              "#bd3786"
             ],
             [
              0.5555555555555556,
              "#d8576b"
             ],
             [
              0.6666666666666666,
              "#ed7953"
             ],
             [
              0.7777777777777778,
              "#fb9f3a"
             ],
             [
              0.8888888888888888,
              "#fdca26"
             ],
             [
              1,
              "#f0f921"
             ]
            ],
            "type": "heatmapgl"
           }
          ],
          "histogram": [
           {
            "marker": {
             "pattern": {
              "fillmode": "overlay",
              "size": 10,
              "solidity": 0.2
             }
            },
            "type": "histogram"
           }
          ],
          "histogram2d": [
           {
            "colorbar": {
             "outlinewidth": 0,
             "ticks": ""
            },
            "colorscale": [
             [
              0,
              "#0d0887"
             ],
             [
              0.1111111111111111,
              "#46039f"
             ],
             [
              0.2222222222222222,
              "#7201a8"
             ],
             [
              0.3333333333333333,
              "#9c179e"
             ],
             [
              0.4444444444444444,
              "#bd3786"
             ],
             [
              0.5555555555555556,
              "#d8576b"
             ],
             [
              0.6666666666666666,
              "#ed7953"
             ],
             [
              0.7777777777777778,
              "#fb9f3a"
             ],
             [
              0.8888888888888888,
              "#fdca26"
             ],
             [
              1,
              "#f0f921"
             ]
            ],
            "type": "histogram2d"
           }
          ],
          "histogram2dcontour": [
           {
            "colorbar": {
             "outlinewidth": 0,
             "ticks": ""
            },
            "colorscale": [
             [
              0,
              "#0d0887"
             ],
             [
              0.1111111111111111,
              "#46039f"
             ],
             [
              0.2222222222222222,
              "#7201a8"
             ],
             [
              0.3333333333333333,
              "#9c179e"
             ],
             [
              0.4444444444444444,
              "#bd3786"
             ],
             [
              0.5555555555555556,
              "#d8576b"
             ],
             [
              0.6666666666666666,
              "#ed7953"
             ],
             [
              0.7777777777777778,
              "#fb9f3a"
             ],
             [
              0.8888888888888888,
              "#fdca26"
             ],
             [
              1,
              "#f0f921"
             ]
            ],
            "type": "histogram2dcontour"
           }
          ],
          "mesh3d": [
           {
            "colorbar": {
             "outlinewidth": 0,
             "ticks": ""
            },
            "type": "mesh3d"
           }
          ],
          "parcoords": [
           {
            "line": {
             "colorbar": {
              "outlinewidth": 0,
              "ticks": ""
             }
            },
            "type": "parcoords"
           }
          ],
          "pie": [
           {
            "automargin": true,
            "type": "pie"
           }
          ],
          "scatter": [
           {
            "fillpattern": {
             "fillmode": "overlay",
             "size": 10,
             "solidity": 0.2
            },
            "type": "scatter"
           }
          ],
          "scatter3d": [
           {
            "line": {
             "colorbar": {
              "outlinewidth": 0,
              "ticks": ""
             }
            },
            "marker": {
             "colorbar": {
              "outlinewidth": 0,
              "ticks": ""
             }
            },
            "type": "scatter3d"
           }
          ],
          "scattercarpet": [
           {
            "marker": {
             "colorbar": {
              "outlinewidth": 0,
              "ticks": ""
             }
            },
            "type": "scattercarpet"
           }
          ],
          "scattergeo": [
           {
            "marker": {
             "colorbar": {
              "outlinewidth": 0,
              "ticks": ""
             }
            },
            "type": "scattergeo"
           }
          ],
          "scattergl": [
           {
            "marker": {
             "colorbar": {
              "outlinewidth": 0,
              "ticks": ""
             }
            },
            "type": "scattergl"
           }
          ],
          "scattermapbox": [
           {
            "marker": {
             "colorbar": {
              "outlinewidth": 0,
              "ticks": ""
             }
            },
            "type": "scattermapbox"
           }
          ],
          "scatterpolar": [
           {
            "marker": {
             "colorbar": {
              "outlinewidth": 0,
              "ticks": ""
             }
            },
            "type": "scatterpolar"
           }
          ],
          "scatterpolargl": [
           {
            "marker": {
             "colorbar": {
              "outlinewidth": 0,
              "ticks": ""
             }
            },
            "type": "scatterpolargl"
           }
          ],
          "scatterternary": [
           {
            "marker": {
             "colorbar": {
              "outlinewidth": 0,
              "ticks": ""
             }
            },
            "type": "scatterternary"
           }
          ],
          "surface": [
           {
            "colorbar": {
             "outlinewidth": 0,
             "ticks": ""
            },
            "colorscale": [
             [
              0,
              "#0d0887"
             ],
             [
              0.1111111111111111,
              "#46039f"
             ],
             [
              0.2222222222222222,
              "#7201a8"
             ],
             [
              0.3333333333333333,
              "#9c179e"
             ],
             [
              0.4444444444444444,
              "#bd3786"
             ],
             [
              0.5555555555555556,
              "#d8576b"
             ],
             [
              0.6666666666666666,
              "#ed7953"
             ],
             [
              0.7777777777777778,
              "#fb9f3a"
             ],
             [
              0.8888888888888888,
              "#fdca26"
             ],
             [
              1,
              "#f0f921"
             ]
            ],
            "type": "surface"
           }
          ],
          "table": [
           {
            "cells": {
             "fill": {
              "color": "#EBF0F8"
             },
             "line": {
              "color": "white"
             }
            },
            "header": {
             "fill": {
              "color": "#C8D4E3"
             },
             "line": {
              "color": "white"
             }
            },
            "type": "table"
           }
          ]
         },
         "layout": {
          "annotationdefaults": {
           "arrowcolor": "#2a3f5f",
           "arrowhead": 0,
           "arrowwidth": 1
          },
          "autotypenumbers": "strict",
          "coloraxis": {
           "colorbar": {
            "outlinewidth": 0,
            "ticks": ""
           }
          },
          "colorscale": {
           "diverging": [
            [
             0,
             "#8e0152"
            ],
            [
             0.1,
             "#c51b7d"
            ],
            [
             0.2,
             "#de77ae"
            ],
            [
             0.3,
             "#f1b6da"
            ],
            [
             0.4,
             "#fde0ef"
            ],
            [
             0.5,
             "#f7f7f7"
            ],
            [
             0.6,
             "#e6f5d0"
            ],
            [
             0.7,
             "#b8e186"
            ],
            [
             0.8,
             "#7fbc41"
            ],
            [
             0.9,
             "#4d9221"
            ],
            [
             1,
             "#276419"
            ]
           ],
           "sequential": [
            [
             0,
             "#0d0887"
            ],
            [
             0.1111111111111111,
             "#46039f"
            ],
            [
             0.2222222222222222,
             "#7201a8"
            ],
            [
             0.3333333333333333,
             "#9c179e"
            ],
            [
             0.4444444444444444,
             "#bd3786"
            ],
            [
             0.5555555555555556,
             "#d8576b"
            ],
            [
             0.6666666666666666,
             "#ed7953"
            ],
            [
             0.7777777777777778,
             "#fb9f3a"
            ],
            [
             0.8888888888888888,
             "#fdca26"
            ],
            [
             1,
             "#f0f921"
            ]
           ],
           "sequentialminus": [
            [
             0,
             "#0d0887"
            ],
            [
             0.1111111111111111,
             "#46039f"
            ],
            [
             0.2222222222222222,
             "#7201a8"
            ],
            [
             0.3333333333333333,
             "#9c179e"
            ],
            [
             0.4444444444444444,
             "#bd3786"
            ],
            [
             0.5555555555555556,
             "#d8576b"
            ],
            [
             0.6666666666666666,
             "#ed7953"
            ],
            [
             0.7777777777777778,
             "#fb9f3a"
            ],
            [
             0.8888888888888888,
             "#fdca26"
            ],
            [
             1,
             "#f0f921"
            ]
           ]
          },
          "colorway": [
           "#636efa",
           "#EF553B",
           "#00cc96",
           "#ab63fa",
           "#FFA15A",
           "#19d3f3",
           "#FF6692",
           "#B6E880",
           "#FF97FF",
           "#FECB52"
          ],
          "font": {
           "color": "#2a3f5f"
          },
          "geo": {
           "bgcolor": "white",
           "lakecolor": "white",
           "landcolor": "#E5ECF6",
           "showlakes": true,
           "showland": true,
           "subunitcolor": "white"
          },
          "hoverlabel": {
           "align": "left"
          },
          "hovermode": "closest",
          "mapbox": {
           "style": "light"
          },
          "paper_bgcolor": "white",
          "plot_bgcolor": "#E5ECF6",
          "polar": {
           "angularaxis": {
            "gridcolor": "white",
            "linecolor": "white",
            "ticks": ""
           },
           "bgcolor": "#E5ECF6",
           "radialaxis": {
            "gridcolor": "white",
            "linecolor": "white",
            "ticks": ""
           }
          },
          "scene": {
           "xaxis": {
            "backgroundcolor": "#E5ECF6",
            "gridcolor": "white",
            "gridwidth": 2,
            "linecolor": "white",
            "showbackground": true,
            "ticks": "",
            "zerolinecolor": "white"
           },
           "yaxis": {
            "backgroundcolor": "#E5ECF6",
            "gridcolor": "white",
            "gridwidth": 2,
            "linecolor": "white",
            "showbackground": true,
            "ticks": "",
            "zerolinecolor": "white"
           },
           "zaxis": {
            "backgroundcolor": "#E5ECF6",
            "gridcolor": "white",
            "gridwidth": 2,
            "linecolor": "white",
            "showbackground": true,
            "ticks": "",
            "zerolinecolor": "white"
           }
          },
          "shapedefaults": {
           "line": {
            "color": "#2a3f5f"
           }
          },
          "ternary": {
           "aaxis": {
            "gridcolor": "white",
            "linecolor": "white",
            "ticks": ""
           },
           "baxis": {
            "gridcolor": "white",
            "linecolor": "white",
            "ticks": ""
           },
           "bgcolor": "#E5ECF6",
           "caxis": {
            "gridcolor": "white",
            "linecolor": "white",
            "ticks": ""
           }
          },
          "title": {
           "x": 0.05
          },
          "xaxis": {
           "automargin": true,
           "gridcolor": "white",
           "linecolor": "white",
           "ticks": "",
           "title": {
            "standoff": 15
           },
           "zerolinecolor": "white",
           "zerolinewidth": 2
          },
          "yaxis": {
           "automargin": true,
           "gridcolor": "white",
           "linecolor": "white",
           "ticks": "",
           "title": {
            "standoff": 15
           },
           "zerolinecolor": "white",
           "zerolinewidth": 2
          }
         }
        },
        "width": 800,
        "xaxis": {
         "showgrid": false,
         "showticklabels": false,
         "zeroline": false
        },
        "yaxis": {
         "showgrid": false,
         "showticklabels": false,
         "zeroline": false
        }
       }
      }
     },
     "metadata": {},
     "output_type": "display_data"
    }
   ],
   "source": [
    "sber_bigr, sber_trigr = get_bigr_and_trigr(nlp_data_pos[nlp_data_pos['bank_name'] == \"СберБанк\"])\n",
    "draw_net(pd.merge(sber_bigr, sber_trigr, how=\"outer\"))"
   ]
  },
  {
   "cell_type": "markdown",
   "id": "f06b5fb0",
   "metadata": {},
   "source": [
    "В отзывах часто хвалят высокий профессионализм, отделения Сбера в Москве и в Питере, работу сотрудников и, видимо, условия ипотечного кредитования\n",
    "\n",
    "На графике со средним рейтингом банков было видно, что после октября рейтинг Сбера сильно упал. Можем посмотреть, что не нравилось клиентам банка в ноябре и декабре"
   ]
  },
  {
   "cell_type": "code",
   "execution_count": 169,
   "id": "c4d4102a",
   "metadata": {},
   "outputs": [
    {
     "data": {
      "application/vnd.plotly.v1+json": {
       "config": {
        "plotlyServerURL": "https://plot.ly"
       },
       "data": [
        {
         "hoverinfo": "none",
         "line": {
          "color": "#cf9db4",
          "width": 0.5
         },
         "mode": "lines",
         "type": "scatter",
         "x": [
          0.29126592841012294,
          0.14486014628792465,
          null,
          0.29126592841012294,
          0.3156666865495042,
          null,
          0.14486014628792465,
          0.027759988130903326,
          null,
          -0.6832828235442191,
          -0.6832828235442191,
          null,
          -0.007160357540665028,
          0.1432000170811799,
          null,
          -0.007160357540665028,
          -0.15487488328600973,
          null,
          0.3156666865495042,
          0.3156666865495042,
          null,
          0.3156666865495042,
          0.2090197153006447,
          null,
          0.3156666865495042,
          0.46382031806012625,
          null,
          0.5436949493767466,
          0.6658699845034017,
          null,
          0.2090197153006447,
          0.09275613142557042,
          null,
          0.8624790692518215,
          0.7667504529490271,
          null,
          0.8624790692518215,
          0.8443257913346397,
          null,
          -0.9524227029411513,
          -0.8667575658874156,
          null,
          -0.9524227029411513,
          -0.7894413008456272,
          null,
          0.027759988130903326,
          0.10674290384349232,
          null,
          0.10633835453851172,
          0.10633835453851172,
          null,
          -0.914577569859166,
          -1,
          null,
          -0.18362248497166142,
          -0.29155042815039917,
          null,
          0.8348730139339606,
          0.8818905245929115,
          null,
          0.8818905245929115,
          0.6877983454339771,
          null,
          0.4118230352991019,
          0.5347345684577544,
          null,
          -0.5415449196158051,
          -0.6767547695540941,
          null,
          -0.6767547695540941,
          -0.5901056318127715,
          null,
          -0.5413150491552352,
          -0.427745258558541,
          null,
          -0.427745258558541,
          -0.3145141790385606,
          null
         ],
         "y": [
          -0.8499218689310696,
          -0.9465165703505906,
          null,
          -0.8499218689310696,
          -0.6129014211569062,
          null,
          -0.9465165703505906,
          -0.7907778795452797,
          null,
          -0.7916939135318071,
          -0.7916939135318071,
          null,
          0.8716506694532022,
          0.8215876234724463,
          null,
          0.8716506694532022,
          0.9252038171346647,
          null,
          -0.6129014211569062,
          -0.6129014211569062,
          null,
          -0.6129014211569062,
          -0.309724914839766,
          null,
          -0.6129014211569062,
          -0.7760951710709405,
          null,
          -0.567020220606793,
          -0.5591409504971863,
          null,
          -0.309724914839766,
          -0.011922337557003976,
          null,
          0.2783682393881835,
          0.4247917522969133,
          null,
          0.2783682393881835,
          0.042638047728958815,
          null,
          -0.1934583247782455,
          -0.300175104978859,
          null,
          -0.1934583247782455,
          -0.09190074722098109,
          null,
          -0.7907778795452797,
          -0.8229576648656524,
          null,
          0.991551867525572,
          0.991551867525572,
          null,
          0.16403811022891995,
          0.24993945168002604,
          null,
          0.6803519391739583,
          0.6623099281101225,
          null,
          0.10486156099234852,
          0.19510455465752474,
          null,
          0.19510455465752474,
          0.23067666512669013,
          null,
          0.5897857815226405,
          0.7587644453618669,
          null,
          0.3417865537559915,
          0.4827960812966689,
          null,
          0.4827960812966689,
          0.5737817043683229,
          null,
          -0.6541529294851166,
          -0.5362345930956893,
          null,
          -0.5362345930956893,
          -0.5753941807631359,
          null
         ]
        },
        {
         "hoverinfo": "text",
         "marker": {
          "color": "#915f6d",
          "size": 10
         },
         "mode": "markers+text",
         "text": [
          "денежный",
          "средство",
          "карта",
          "горячий",
          "линия",
          "сбербанк",
          "личный",
          "кабинет",
          "пао",
          "рабочий",
          "день",
          "сей",
          "пора",
          "исполнительный",
          "лист",
          "сбер",
          "онлайн",
          "подписка",
          "сберпрайм",
          "земельный",
          "участок",
          "колл",
          "центр",
          "кредитный",
          "история",
          "течение",
          "сказать",
          "должник",
          "звонить",
          "деньга",
          "разрешение",
          "орган",
          "опека",
          "ооо",
          "юрист",
          "лизинг"
         ],
         "textfont": {
          "color": "black",
          "family": "Arial",
          "size": 10
         },
         "textposition": "top center",
         "type": "scatter",
         "x": [
          0.29126592841012294,
          0.14486014628792465,
          -0.6832828235442191,
          -0.007160357540665028,
          0.1432000170811799,
          0.3156666865495042,
          0.5436949493767466,
          0.6658699845034017,
          0.2090197153006447,
          0.8624790692518215,
          0.7667504529490271,
          -0.9524227029411513,
          -0.8667575658874156,
          0.027759988130903326,
          0.10674290384349232,
          0.10633835453851172,
          0.46382031806012625,
          -0.914577569859166,
          -1,
          -0.18362248497166142,
          -0.29155042815039917,
          0.8348730139339606,
          0.8818905245929115,
          0.4118230352991019,
          0.5347345684577544,
          0.8443257913346397,
          0.6877983454339771,
          0.09275613142557042,
          -0.15487488328600973,
          -0.7894413008456272,
          -0.5415449196158051,
          -0.6767547695540941,
          -0.5901056318127715,
          -0.5413150491552352,
          -0.427745258558541,
          -0.3145141790385606
         ],
         "y": [
          -0.8499218689310696,
          -0.9465165703505906,
          -0.7916939135318071,
          0.8716506694532022,
          0.8215876234724463,
          -0.6129014211569062,
          -0.567020220606793,
          -0.5591409504971863,
          -0.309724914839766,
          0.2783682393881835,
          0.4247917522969133,
          -0.1934583247782455,
          -0.300175104978859,
          -0.7907778795452797,
          -0.8229576648656524,
          0.991551867525572,
          -0.7760951710709405,
          0.16403811022891995,
          0.24993945168002604,
          0.6803519391739583,
          0.6623099281101225,
          0.10486156099234852,
          0.19510455465752474,
          0.5897857815226405,
          0.7587644453618669,
          0.042638047728958815,
          0.23067666512669013,
          -0.011922337557003976,
          0.9252038171346647,
          -0.09190074722098109,
          0.3417865537559915,
          0.4827960812966689,
          0.5737817043683229,
          -0.6541529294851166,
          -0.5362345930956893,
          -0.5753941807631359
         ]
        }
       ],
       "layout": {
        "height": 600,
        "hovermode": "closest",
        "margin": {
         "b": 0,
         "l": 0,
         "r": 0,
         "t": 0
        },
        "showlegend": false,
        "template": {
         "data": {
          "bar": [
           {
            "error_x": {
             "color": "#2a3f5f"
            },
            "error_y": {
             "color": "#2a3f5f"
            },
            "marker": {
             "line": {
              "color": "#E5ECF6",
              "width": 0.5
             },
             "pattern": {
              "fillmode": "overlay",
              "size": 10,
              "solidity": 0.2
             }
            },
            "type": "bar"
           }
          ],
          "barpolar": [
           {
            "marker": {
             "line": {
              "color": "#E5ECF6",
              "width": 0.5
             },
             "pattern": {
              "fillmode": "overlay",
              "size": 10,
              "solidity": 0.2
             }
            },
            "type": "barpolar"
           }
          ],
          "carpet": [
           {
            "aaxis": {
             "endlinecolor": "#2a3f5f",
             "gridcolor": "white",
             "linecolor": "white",
             "minorgridcolor": "white",
             "startlinecolor": "#2a3f5f"
            },
            "baxis": {
             "endlinecolor": "#2a3f5f",
             "gridcolor": "white",
             "linecolor": "white",
             "minorgridcolor": "white",
             "startlinecolor": "#2a3f5f"
            },
            "type": "carpet"
           }
          ],
          "choropleth": [
           {
            "colorbar": {
             "outlinewidth": 0,
             "ticks": ""
            },
            "type": "choropleth"
           }
          ],
          "contour": [
           {
            "colorbar": {
             "outlinewidth": 0,
             "ticks": ""
            },
            "colorscale": [
             [
              0,
              "#0d0887"
             ],
             [
              0.1111111111111111,
              "#46039f"
             ],
             [
              0.2222222222222222,
              "#7201a8"
             ],
             [
              0.3333333333333333,
              "#9c179e"
             ],
             [
              0.4444444444444444,
              "#bd3786"
             ],
             [
              0.5555555555555556,
              "#d8576b"
             ],
             [
              0.6666666666666666,
              "#ed7953"
             ],
             [
              0.7777777777777778,
              "#fb9f3a"
             ],
             [
              0.8888888888888888,
              "#fdca26"
             ],
             [
              1,
              "#f0f921"
             ]
            ],
            "type": "contour"
           }
          ],
          "contourcarpet": [
           {
            "colorbar": {
             "outlinewidth": 0,
             "ticks": ""
            },
            "type": "contourcarpet"
           }
          ],
          "heatmap": [
           {
            "colorbar": {
             "outlinewidth": 0,
             "ticks": ""
            },
            "colorscale": [
             [
              0,
              "#0d0887"
             ],
             [
              0.1111111111111111,
              "#46039f"
             ],
             [
              0.2222222222222222,
              "#7201a8"
             ],
             [
              0.3333333333333333,
              "#9c179e"
             ],
             [
              0.4444444444444444,
              "#bd3786"
             ],
             [
              0.5555555555555556,
              "#d8576b"
             ],
             [
              0.6666666666666666,
              "#ed7953"
             ],
             [
              0.7777777777777778,
              "#fb9f3a"
             ],
             [
              0.8888888888888888,
              "#fdca26"
             ],
             [
              1,
              "#f0f921"
             ]
            ],
            "type": "heatmap"
           }
          ],
          "heatmapgl": [
           {
            "colorbar": {
             "outlinewidth": 0,
             "ticks": ""
            },
            "colorscale": [
             [
              0,
              "#0d0887"
             ],
             [
              0.1111111111111111,
              "#46039f"
             ],
             [
              0.2222222222222222,
              "#7201a8"
             ],
             [
              0.3333333333333333,
              "#9c179e"
             ],
             [
              0.4444444444444444,
              "#bd3786"
             ],
             [
              0.5555555555555556,
              "#d8576b"
             ],
             [
              0.6666666666666666,
              "#ed7953"
             ],
             [
              0.7777777777777778,
              "#fb9f3a"
             ],
             [
              0.8888888888888888,
              "#fdca26"
             ],
             [
              1,
              "#f0f921"
             ]
            ],
            "type": "heatmapgl"
           }
          ],
          "histogram": [
           {
            "marker": {
             "pattern": {
              "fillmode": "overlay",
              "size": 10,
              "solidity": 0.2
             }
            },
            "type": "histogram"
           }
          ],
          "histogram2d": [
           {
            "colorbar": {
             "outlinewidth": 0,
             "ticks": ""
            },
            "colorscale": [
             [
              0,
              "#0d0887"
             ],
             [
              0.1111111111111111,
              "#46039f"
             ],
             [
              0.2222222222222222,
              "#7201a8"
             ],
             [
              0.3333333333333333,
              "#9c179e"
             ],
             [
              0.4444444444444444,
              "#bd3786"
             ],
             [
              0.5555555555555556,
              "#d8576b"
             ],
             [
              0.6666666666666666,
              "#ed7953"
             ],
             [
              0.7777777777777778,
              "#fb9f3a"
             ],
             [
              0.8888888888888888,
              "#fdca26"
             ],
             [
              1,
              "#f0f921"
             ]
            ],
            "type": "histogram2d"
           }
          ],
          "histogram2dcontour": [
           {
            "colorbar": {
             "outlinewidth": 0,
             "ticks": ""
            },
            "colorscale": [
             [
              0,
              "#0d0887"
             ],
             [
              0.1111111111111111,
              "#46039f"
             ],
             [
              0.2222222222222222,
              "#7201a8"
             ],
             [
              0.3333333333333333,
              "#9c179e"
             ],
             [
              0.4444444444444444,
              "#bd3786"
             ],
             [
              0.5555555555555556,
              "#d8576b"
             ],
             [
              0.6666666666666666,
              "#ed7953"
             ],
             [
              0.7777777777777778,
              "#fb9f3a"
             ],
             [
              0.8888888888888888,
              "#fdca26"
             ],
             [
              1,
              "#f0f921"
             ]
            ],
            "type": "histogram2dcontour"
           }
          ],
          "mesh3d": [
           {
            "colorbar": {
             "outlinewidth": 0,
             "ticks": ""
            },
            "type": "mesh3d"
           }
          ],
          "parcoords": [
           {
            "line": {
             "colorbar": {
              "outlinewidth": 0,
              "ticks": ""
             }
            },
            "type": "parcoords"
           }
          ],
          "pie": [
           {
            "automargin": true,
            "type": "pie"
           }
          ],
          "scatter": [
           {
            "fillpattern": {
             "fillmode": "overlay",
             "size": 10,
             "solidity": 0.2
            },
            "type": "scatter"
           }
          ],
          "scatter3d": [
           {
            "line": {
             "colorbar": {
              "outlinewidth": 0,
              "ticks": ""
             }
            },
            "marker": {
             "colorbar": {
              "outlinewidth": 0,
              "ticks": ""
             }
            },
            "type": "scatter3d"
           }
          ],
          "scattercarpet": [
           {
            "marker": {
             "colorbar": {
              "outlinewidth": 0,
              "ticks": ""
             }
            },
            "type": "scattercarpet"
           }
          ],
          "scattergeo": [
           {
            "marker": {
             "colorbar": {
              "outlinewidth": 0,
              "ticks": ""
             }
            },
            "type": "scattergeo"
           }
          ],
          "scattergl": [
           {
            "marker": {
             "colorbar": {
              "outlinewidth": 0,
              "ticks": ""
             }
            },
            "type": "scattergl"
           }
          ],
          "scattermapbox": [
           {
            "marker": {
             "colorbar": {
              "outlinewidth": 0,
              "ticks": ""
             }
            },
            "type": "scattermapbox"
           }
          ],
          "scatterpolar": [
           {
            "marker": {
             "colorbar": {
              "outlinewidth": 0,
              "ticks": ""
             }
            },
            "type": "scatterpolar"
           }
          ],
          "scatterpolargl": [
           {
            "marker": {
             "colorbar": {
              "outlinewidth": 0,
              "ticks": ""
             }
            },
            "type": "scatterpolargl"
           }
          ],
          "scatterternary": [
           {
            "marker": {
             "colorbar": {
              "outlinewidth": 0,
              "ticks": ""
             }
            },
            "type": "scatterternary"
           }
          ],
          "surface": [
           {
            "colorbar": {
             "outlinewidth": 0,
             "ticks": ""
            },
            "colorscale": [
             [
              0,
              "#0d0887"
             ],
             [
              0.1111111111111111,
              "#46039f"
             ],
             [
              0.2222222222222222,
              "#7201a8"
             ],
             [
              0.3333333333333333,
              "#9c179e"
             ],
             [
              0.4444444444444444,
              "#bd3786"
             ],
             [
              0.5555555555555556,
              "#d8576b"
             ],
             [
              0.6666666666666666,
              "#ed7953"
             ],
             [
              0.7777777777777778,
              "#fb9f3a"
             ],
             [
              0.8888888888888888,
              "#fdca26"
             ],
             [
              1,
              "#f0f921"
             ]
            ],
            "type": "surface"
           }
          ],
          "table": [
           {
            "cells": {
             "fill": {
              "color": "#EBF0F8"
             },
             "line": {
              "color": "white"
             }
            },
            "header": {
             "fill": {
              "color": "#C8D4E3"
             },
             "line": {
              "color": "white"
             }
            },
            "type": "table"
           }
          ]
         },
         "layout": {
          "annotationdefaults": {
           "arrowcolor": "#2a3f5f",
           "arrowhead": 0,
           "arrowwidth": 1
          },
          "autotypenumbers": "strict",
          "coloraxis": {
           "colorbar": {
            "outlinewidth": 0,
            "ticks": ""
           }
          },
          "colorscale": {
           "diverging": [
            [
             0,
             "#8e0152"
            ],
            [
             0.1,
             "#c51b7d"
            ],
            [
             0.2,
             "#de77ae"
            ],
            [
             0.3,
             "#f1b6da"
            ],
            [
             0.4,
             "#fde0ef"
            ],
            [
             0.5,
             "#f7f7f7"
            ],
            [
             0.6,
             "#e6f5d0"
            ],
            [
             0.7,
             "#b8e186"
            ],
            [
             0.8,
             "#7fbc41"
            ],
            [
             0.9,
             "#4d9221"
            ],
            [
             1,
             "#276419"
            ]
           ],
           "sequential": [
            [
             0,
             "#0d0887"
            ],
            [
             0.1111111111111111,
             "#46039f"
            ],
            [
             0.2222222222222222,
             "#7201a8"
            ],
            [
             0.3333333333333333,
             "#9c179e"
            ],
            [
             0.4444444444444444,
             "#bd3786"
            ],
            [
             0.5555555555555556,
             "#d8576b"
            ],
            [
             0.6666666666666666,
             "#ed7953"
            ],
            [
             0.7777777777777778,
             "#fb9f3a"
            ],
            [
             0.8888888888888888,
             "#fdca26"
            ],
            [
             1,
             "#f0f921"
            ]
           ],
           "sequentialminus": [
            [
             0,
             "#0d0887"
            ],
            [
             0.1111111111111111,
             "#46039f"
            ],
            [
             0.2222222222222222,
             "#7201a8"
            ],
            [
             0.3333333333333333,
             "#9c179e"
            ],
            [
             0.4444444444444444,
             "#bd3786"
            ],
            [
             0.5555555555555556,
             "#d8576b"
            ],
            [
             0.6666666666666666,
             "#ed7953"
            ],
            [
             0.7777777777777778,
             "#fb9f3a"
            ],
            [
             0.8888888888888888,
             "#fdca26"
            ],
            [
             1,
             "#f0f921"
            ]
           ]
          },
          "colorway": [
           "#636efa",
           "#EF553B",
           "#00cc96",
           "#ab63fa",
           "#FFA15A",
           "#19d3f3",
           "#FF6692",
           "#B6E880",
           "#FF97FF",
           "#FECB52"
          ],
          "font": {
           "color": "#2a3f5f"
          },
          "geo": {
           "bgcolor": "white",
           "lakecolor": "white",
           "landcolor": "#E5ECF6",
           "showlakes": true,
           "showland": true,
           "subunitcolor": "white"
          },
          "hoverlabel": {
           "align": "left"
          },
          "hovermode": "closest",
          "mapbox": {
           "style": "light"
          },
          "paper_bgcolor": "white",
          "plot_bgcolor": "#E5ECF6",
          "polar": {
           "angularaxis": {
            "gridcolor": "white",
            "linecolor": "white",
            "ticks": ""
           },
           "bgcolor": "#E5ECF6",
           "radialaxis": {
            "gridcolor": "white",
            "linecolor": "white",
            "ticks": ""
           }
          },
          "scene": {
           "xaxis": {
            "backgroundcolor": "#E5ECF6",
            "gridcolor": "white",
            "gridwidth": 2,
            "linecolor": "white",
            "showbackground": true,
            "ticks": "",
            "zerolinecolor": "white"
           },
           "yaxis": {
            "backgroundcolor": "#E5ECF6",
            "gridcolor": "white",
            "gridwidth": 2,
            "linecolor": "white",
            "showbackground": true,
            "ticks": "",
            "zerolinecolor": "white"
           },
           "zaxis": {
            "backgroundcolor": "#E5ECF6",
            "gridcolor": "white",
            "gridwidth": 2,
            "linecolor": "white",
            "showbackground": true,
            "ticks": "",
            "zerolinecolor": "white"
           }
          },
          "shapedefaults": {
           "line": {
            "color": "#2a3f5f"
           }
          },
          "ternary": {
           "aaxis": {
            "gridcolor": "white",
            "linecolor": "white",
            "ticks": ""
           },
           "baxis": {
            "gridcolor": "white",
            "linecolor": "white",
            "ticks": ""
           },
           "bgcolor": "#E5ECF6",
           "caxis": {
            "gridcolor": "white",
            "linecolor": "white",
            "ticks": ""
           }
          },
          "title": {
           "x": 0.05
          },
          "xaxis": {
           "automargin": true,
           "gridcolor": "white",
           "linecolor": "white",
           "ticks": "",
           "title": {
            "standoff": 15
           },
           "zerolinecolor": "white",
           "zerolinewidth": 2
          },
          "yaxis": {
           "automargin": true,
           "gridcolor": "white",
           "linecolor": "white",
           "ticks": "",
           "title": {
            "standoff": 15
           },
           "zerolinecolor": "white",
           "zerolinewidth": 2
          }
         }
        },
        "width": 800,
        "xaxis": {
         "showgrid": false,
         "showticklabels": false,
         "zeroline": false
        },
        "yaxis": {
         "showgrid": false,
         "showticklabels": false,
         "zeroline": false
        }
       }
      }
     },
     "metadata": {},
     "output_type": "display_data"
    }
   ],
   "source": [
    "neg_bigr, neg_trigr = get_bigr_and_trigr(nlp_data_neg[(nlp_data_neg[\"bank_name\"] == \"СберБанк\") & (nlp_data_neg['date'].dt.month.isin([11, 12]))])\n",
    "draw_net(pd.merge(neg_bigr, neg_trigr, how=\"outer\"), edge_color=\"#cf9db4\", node_color=\"#915f6d\")"
   ]
  },
  {
   "cell_type": "markdown",
   "id": "a9843c15",
   "metadata": {},
   "source": [
    "У пользователей были проблемы с подпиской сберпрайм, личным кабинетом и службой поддержки. Также, скорее всего, у клиентов возникали трудности с решением юридических вопросов и, внезапно, с органами опеки."
   ]
  },
  {
   "cell_type": "markdown",
   "id": "2ef82f9b",
   "metadata": {},
   "source": [
    "6. **Необходимо выбрать метрику и построить бинарный классификатор отзывов, добившись при этом лучшей метрики на валидационной выборке (отзывы >=3 считать положительными, <3 - отрицательными)**\n",
    "\n",
    "Мы уже провели необходимую предобработку текста, и даже выделили ключевые слова из отзывов.\n",
    "\n",
    "Попробуем делать предсказания на основе ключевых слов."
   ]
  },
  {
   "cell_type": "code",
   "execution_count": 182,
   "id": "e0ccea4f",
   "metadata": {},
   "outputs": [],
   "source": [
    "X = nlp_data['keyworded_body']\n",
    "Y = nlp_data['class']"
   ]
  },
  {
   "cell_type": "code",
   "execution_count": null,
   "id": "012b0ca7",
   "metadata": {},
   "outputs": [],
   "source": []
  },
  {
   "cell_type": "code",
   "execution_count": null,
   "id": "ed743f9a",
   "metadata": {},
   "outputs": [],
   "source": [
    "X_train, X_test, y_train, y_test = train_test_split(X, Y, \n",
    "                                                    train_size=0.8, \n",
    "                                                    random_state=1337)"
   ]
  }
 ],
 "metadata": {
  "kernelspec": {
   "display_name": "Python 3 (ipykernel)",
   "language": "python",
   "name": "python3"
  },
  "language_info": {
   "codemirror_mode": {
    "name": "ipython",
    "version": 3
   },
   "file_extension": ".py",
   "mimetype": "text/x-python",
   "name": "python",
   "nbconvert_exporter": "python",
   "pygments_lexer": "ipython3",
   "version": "3.11.4"
  }
 },
 "nbformat": 4,
 "nbformat_minor": 5
}
