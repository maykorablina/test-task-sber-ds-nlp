{
 "cells": [
  {
   "cell_type": "markdown",
   "id": "f99a5a58",
   "metadata": {},
   "source": [
    "# Анализ отзывов на банки\n",
    "\n",
    "В данных представлены отзывы на банки с сайта [banki.ru](https://www.banki.ru/)\n",
    "- body - сам отзыв\n",
    "- title - название отзыва\n",
    "- rating - оценка по отзыву, варьируется от 1 до 5\n",
    "- bank_name - название банка\n",
    "- date - дата публикации отзыва\n",
    "\n",
    "Необходимо EDA (Exploratory Data Analysis) по этим данным и сделать несколько выводов (приветствуются визуализации):\n",
    "ё- назвать топ-15 банков по числу отзывов\n",
    "- какой банк из числа топ-15 по отзывов имеет самый высокий средний рейтинг?\n",
    "- сделать выводы об изменении среднего рейтинга банков по месяцам из топ-5 банков по числу отзывов\n",
    "- нет ли в данных в целом каких-то странностей на ваш взгляд?\n",
    "- дополнительный EDA на ваше усмотрение, возможные интересные наблюдения\n",
    "\n",
    "Необходимо выбрать метрику и построить бинарный классификатор отзывов, добившись при этом лучшей метрики на валидационной выборке (отзывы >=3 считать положительными, <3 - отрицательными)\n",
    "\n",
    "Будет плюсом визуализация результатов работы модели (ответ на вопрос: почему построенная модель считает этот отзыв положительным или отрицательным?)"
   ]
  },
  {
   "cell_type": "code",
   "execution_count": 122,
   "id": "0136426f",
   "metadata": {},
   "outputs": [],
   "source": [
    "import pandas as pd\n",
    "import matplotlib.pyplot as plt\n",
    "import plotly.express as px"
   ]
  },
  {
   "cell_type": "code",
   "execution_count": 123,
   "id": "9c74fc38",
   "metadata": {},
   "outputs": [
    {
     "name": "stdout",
     "output_type": "stream",
     "text": [
      "В исходном датафрейма 92735 строк и 5 столбцов\n"
     ]
    },
    {
     "data": {
      "text/html": [
       "<div>\n",
       "<style scoped>\n",
       "    .dataframe tbody tr th:only-of-type {\n",
       "        vertical-align: middle;\n",
       "    }\n",
       "\n",
       "    .dataframe tbody tr th {\n",
       "        vertical-align: top;\n",
       "    }\n",
       "\n",
       "    .dataframe thead th {\n",
       "        text-align: right;\n",
       "    }\n",
       "</style>\n",
       "<table border=\"1\" class=\"dataframe\">\n",
       "  <thead>\n",
       "    <tr style=\"text-align: right;\">\n",
       "      <th></th>\n",
       "      <th>body</th>\n",
       "      <th>title</th>\n",
       "      <th>rating</th>\n",
       "      <th>bank_name</th>\n",
       "      <th>date</th>\n",
       "    </tr>\n",
       "  </thead>\n",
       "  <tbody>\n",
       "    <tr>\n",
       "      <th>0</th>\n",
       "      <td>&amp;lt;p&amp;gt;Добрый день&amp;lt;/p&amp;gt;\\r\\n&amp;lt;p&amp;gt;пиш...</td>\n",
       "      <td>Заблокировали средства</td>\n",
       "      <td>1</td>\n",
       "      <td>Еком Банк</td>\n",
       "      <td>2023-01-03 12:46:11</td>\n",
       "    </tr>\n",
       "    <tr>\n",
       "      <th>1</th>\n",
       "      <td>&amp;lt;p&amp;gt;При возврате просроченной задолженнос...</td>\n",
       "      <td>Возврат просроченной задолженномти</td>\n",
       "      <td>1</td>\n",
       "      <td>Тинькофф Банк</td>\n",
       "      <td>2023-01-03 12:31:46</td>\n",
       "    </tr>\n",
       "    <tr>\n",
       "      <th>2</th>\n",
       "      <td>&amp;lt;p&amp;gt;07.09.22 ю была оформлена кредитная к...</td>\n",
       "      <td>Ошибочное начисление комиссии, затягивание про...</td>\n",
       "      <td>1</td>\n",
       "      <td>Банк Открытие</td>\n",
       "      <td>2023-01-03 12:23:11</td>\n",
       "    </tr>\n",
       "    <tr>\n",
       "      <th>3</th>\n",
       "      <td>&amp;lt;p&amp;gt;Новый год начинается с приятностей)&amp;l...</td>\n",
       "      <td>Клиентоориентиванность 10 из 10</td>\n",
       "      <td>5</td>\n",
       "      <td>Тинькофф Банк</td>\n",
       "      <td>2023-01-03 12:16:07</td>\n",
       "    </tr>\n",
       "    <tr>\n",
       "      <th>4</th>\n",
       "      <td>&amp;lt;p&amp;gt;Увидела на сайте Газпромбанка акцию с...</td>\n",
       "      <td>Как Газпромбанк обманывает клиентов с акционны...</td>\n",
       "      <td>1</td>\n",
       "      <td>Газпромбанк</td>\n",
       "      <td>2023-01-03 12:12:36</td>\n",
       "    </tr>\n",
       "  </tbody>\n",
       "</table>\n",
       "</div>"
      ],
      "text/plain": [
       "                                                body  \\\n",
       "0  &lt;p&gt;Добрый день&lt;/p&gt;\\r\\n&lt;p&gt;пиш...   \n",
       "1  &lt;p&gt;При возврате просроченной задолженнос...   \n",
       "2  &lt;p&gt;07.09.22 ю была оформлена кредитная к...   \n",
       "3  &lt;p&gt;Новый год начинается с приятностей)&l...   \n",
       "4  &lt;p&gt;Увидела на сайте Газпромбанка акцию с...   \n",
       "\n",
       "                                               title  rating      bank_name  \\\n",
       "0                             Заблокировали средства       1      Еком Банк   \n",
       "1                 Возврат просроченной задолженномти       1  Тинькофф Банк   \n",
       "2  Ошибочное начисление комиссии, затягивание про...       1  Банк Открытие   \n",
       "3                    Клиентоориентиванность 10 из 10       5  Тинькофф Банк   \n",
       "4  Как Газпромбанк обманывает клиентов с акционны...       1    Газпромбанк   \n",
       "\n",
       "                 date  \n",
       "0 2023-01-03 12:46:11  \n",
       "1 2023-01-03 12:31:46  \n",
       "2 2023-01-03 12:23:11  \n",
       "3 2023-01-03 12:16:07  \n",
       "4 2023-01-03 12:12:36  "
      ]
     },
     "execution_count": 123,
     "metadata": {},
     "output_type": "execute_result"
    }
   ],
   "source": [
    "data = pd.read_csv('parsed_reviews3.csv', sep = ',', encoding='utf-8')\n",
    "data['rating'] = data['rating'].astype(int)\n",
    "data['date'] = pd.to_datetime(data['date'])\n",
    "print(f'В исходном датафрейма {data.shape[0]} строк и {data.shape[1]} столбцов')\n",
    "data.head(5)"
   ]
  },
  {
   "cell_type": "markdown",
   "id": "bfdddbc4",
   "metadata": {},
   "source": [
    "### Часть 1 - EDA"
   ]
  },
  {
   "cell_type": "markdown",
   "id": "53ab2317",
   "metadata": {},
   "source": [
    "Для начала поищем странности в исходных данных"
   ]
  },
  {
   "cell_type": "code",
   "execution_count": 124,
   "id": "06193b5a",
   "metadata": {},
   "outputs": [
    {
     "data": {
      "text/plain": [
       "body         False\n",
       "title        False\n",
       "rating       False\n",
       "bank_name    False\n",
       "date         False\n",
       "dtype: bool"
      ]
     },
     "execution_count": 124,
     "metadata": {},
     "output_type": "execute_result"
    }
   ],
   "source": [
    "# нет ни одного NaN - это хорошо\n",
    "data.isnull().any()"
   ]
  },
  {
   "cell_type": "code",
   "execution_count": 125,
   "id": "e23dc972",
   "metadata": {},
   "outputs": [
    {
     "data": {
      "text/plain": [
       "body                 object\n",
       "title                object\n",
       "rating                int32\n",
       "bank_name            object\n",
       "date         datetime64[ns]\n",
       "dtype: object"
      ]
     },
     "execution_count": 125,
     "metadata": {},
     "output_type": "execute_result"
    }
   ],
   "source": [
    "# с типами данных тоже все в порядке\n",
    "data.dtypes"
   ]
  },
  {
   "cell_type": "code",
   "execution_count": 126,
   "id": "75e80866",
   "metadata": {},
   "outputs": [
    {
     "data": {
      "text/plain": [
       "True"
      ]
     },
     "execution_count": 126,
     "metadata": {},
     "output_type": "execute_result"
    }
   ],
   "source": [
    "# но есть дубликаты\n",
    "data.duplicated().any()"
   ]
  },
  {
   "cell_type": "code",
   "execution_count": 127,
   "id": "4593db41",
   "metadata": {},
   "outputs": [
    {
     "name": "stdout",
     "output_type": "stream",
     "text": [
      "В датафрейме 62 дубликатов\n"
     ]
    },
    {
     "data": {
      "text/html": [
       "<div>\n",
       "<style scoped>\n",
       "    .dataframe tbody tr th:only-of-type {\n",
       "        vertical-align: middle;\n",
       "    }\n",
       "\n",
       "    .dataframe tbody tr th {\n",
       "        vertical-align: top;\n",
       "    }\n",
       "\n",
       "    .dataframe thead th {\n",
       "        text-align: right;\n",
       "    }\n",
       "</style>\n",
       "<table border=\"1\" class=\"dataframe\">\n",
       "  <thead>\n",
       "    <tr style=\"text-align: right;\">\n",
       "      <th></th>\n",
       "      <th>body</th>\n",
       "      <th>title</th>\n",
       "      <th>rating</th>\n",
       "      <th>bank_name</th>\n",
       "      <th>date</th>\n",
       "    </tr>\n",
       "  </thead>\n",
       "  <tbody>\n",
       "    <tr>\n",
       "      <th>899</th>\n",
       "      <td>&amp;lt;p&amp;gt;Обратился 3 декабря в районе 19 часов...</td>\n",
       "      <td>открытие счёта и  получение банковской карты</td>\n",
       "      <td>5</td>\n",
       "      <td>Хоум Кредит Банк</td>\n",
       "      <td>2022-12-30 16:16:13</td>\n",
       "    </tr>\n",
       "    <tr>\n",
       "      <th>997</th>\n",
       "      <td>&amp;lt;p&amp;gt;С самого открытия являемся клиентами ...</td>\n",
       "      <td>Сняли деньги за перевод физ.лицу, а услугу не ...</td>\n",
       "      <td>1</td>\n",
       "      <td>Норвик Банк</td>\n",
       "      <td>2022-12-30 14:06:33</td>\n",
       "    </tr>\n",
       "    <tr>\n",
       "      <th>1611</th>\n",
       "      <td>&amp;lt;p&amp;gt;22.12.2022 в чате своего ЛК мобильног...</td>\n",
       "      <td>Отсутствие информации о порядке конвертации ва...</td>\n",
       "      <td>2</td>\n",
       "      <td>Росбанк</td>\n",
       "      <td>2022-12-29 15:03:06</td>\n",
       "    </tr>\n",
       "    <tr>\n",
       "      <th>2502</th>\n",
       "      <td>&amp;lt;p&amp;gt;Оформлял рассрочку на телефон, в мага...</td>\n",
       "      <td>Лучший кредитный банк</td>\n",
       "      <td>5</td>\n",
       "      <td>Хоум Кредит Банк</td>\n",
       "      <td>2022-12-28 13:44:16</td>\n",
       "    </tr>\n",
       "    <tr>\n",
       "      <th>2504</th>\n",
       "      <td>&amp;lt;p&amp;gt;28 декабря я посетил банк МКБ по адре...</td>\n",
       "      <td>Отличное обслуживание</td>\n",
       "      <td>5</td>\n",
       "      <td>Московский Кредитный Банк</td>\n",
       "      <td>2022-12-28 13:42:41</td>\n",
       "    </tr>\n",
       "  </tbody>\n",
       "</table>\n",
       "</div>"
      ],
      "text/plain": [
       "                                                   body  \\\n",
       "899   &lt;p&gt;Обратился 3 декабря в районе 19 часов...   \n",
       "997   &lt;p&gt;С самого открытия являемся клиентами ...   \n",
       "1611  &lt;p&gt;22.12.2022 в чате своего ЛК мобильног...   \n",
       "2502  &lt;p&gt;Оформлял рассрочку на телефон, в мага...   \n",
       "2504  &lt;p&gt;28 декабря я посетил банк МКБ по адре...   \n",
       "\n",
       "                                                  title  rating  \\\n",
       "899        открытие счёта и  получение банковской карты       5   \n",
       "997   Сняли деньги за перевод физ.лицу, а услугу не ...       1   \n",
       "1611  Отсутствие информации о порядке конвертации ва...       2   \n",
       "2502                              Лучший кредитный банк       5   \n",
       "2504                              Отличное обслуживание       5   \n",
       "\n",
       "                      bank_name                date  \n",
       "899            Хоум Кредит Банк 2022-12-30 16:16:13  \n",
       "997                 Норвик Банк 2022-12-30 14:06:33  \n",
       "1611                    Росбанк 2022-12-29 15:03:06  \n",
       "2502           Хоум Кредит Банк 2022-12-28 13:44:16  \n",
       "2504  Московский Кредитный Банк 2022-12-28 13:42:41  "
      ]
     },
     "execution_count": 127,
     "metadata": {},
     "output_type": "execute_result"
    }
   ],
   "source": [
    "# посмотрим на них\n",
    "print(f'В датафрейме {data[data.duplicated()].shape[0]} дубликатов')\n",
    "data[data.duplicated()].head(5)"
   ]
  },
  {
   "cell_type": "code",
   "execution_count": 128,
   "id": "2423a9dd",
   "metadata": {},
   "outputs": [],
   "source": [
    "# удалим дубликаты\n",
    "data = data.drop_duplicates()"
   ]
  },
  {
   "cell_type": "markdown",
   "id": "c8e6c6f9",
   "metadata": {},
   "source": [
    "На первый взгляд в датасете нет каких-то явно выраженных аномалий, так что можно выполнить **первые три задачи**:\n",
    "- назвать топ-15 банков по числу отзывов\n",
    "- какой банк из числа топ-15 по отзывов имеет самый высокий средний рейтинг?\n",
    "- сделать выводы об изменении среднего рейтинга банков по месяцам из топ-5 банков по числу отзывов "
   ]
  },
  {
   "cell_type": "code",
   "execution_count": 129,
   "id": "dc21557b",
   "metadata": {},
   "outputs": [
    {
     "data": {
      "text/html": [
       "<div>\n",
       "<style scoped>\n",
       "    .dataframe tbody tr th:only-of-type {\n",
       "        vertical-align: middle;\n",
       "    }\n",
       "\n",
       "    .dataframe tbody tr th {\n",
       "        vertical-align: top;\n",
       "    }\n",
       "\n",
       "    .dataframe thead th {\n",
       "        text-align: right;\n",
       "    }\n",
       "</style>\n",
       "<table border=\"1\" class=\"dataframe\">\n",
       "  <thead>\n",
       "    <tr style=\"text-align: right;\">\n",
       "      <th></th>\n",
       "      <th>bank_name</th>\n",
       "      <th>count</th>\n",
       "      <th>rating</th>\n",
       "    </tr>\n",
       "  </thead>\n",
       "  <tbody>\n",
       "    <tr>\n",
       "      <th>0</th>\n",
       "      <td>Тинькофф Банк</td>\n",
       "      <td>44852</td>\n",
       "      <td>4.78</td>\n",
       "    </tr>\n",
       "    <tr>\n",
       "      <th>1</th>\n",
       "      <td>Хоум Кредит Банк</td>\n",
       "      <td>9301</td>\n",
       "      <td>4.51</td>\n",
       "    </tr>\n",
       "    <tr>\n",
       "      <th>2</th>\n",
       "      <td>Совкомбанк</td>\n",
       "      <td>6100</td>\n",
       "      <td>4.26</td>\n",
       "    </tr>\n",
       "    <tr>\n",
       "      <th>3</th>\n",
       "      <td>ВТБ</td>\n",
       "      <td>3814</td>\n",
       "      <td>1.95</td>\n",
       "    </tr>\n",
       "    <tr>\n",
       "      <th>4</th>\n",
       "      <td>СберБанк</td>\n",
       "      <td>3487</td>\n",
       "      <td>2.30</td>\n",
       "    </tr>\n",
       "    <tr>\n",
       "      <th>5</th>\n",
       "      <td>Альфа-Банк</td>\n",
       "      <td>3368</td>\n",
       "      <td>1.71</td>\n",
       "    </tr>\n",
       "    <tr>\n",
       "      <th>6</th>\n",
       "      <td>Россельхозбанк</td>\n",
       "      <td>3062</td>\n",
       "      <td>4.46</td>\n",
       "    </tr>\n",
       "    <tr>\n",
       "      <th>7</th>\n",
       "      <td>Банк Открытие</td>\n",
       "      <td>1894</td>\n",
       "      <td>3.54</td>\n",
       "    </tr>\n",
       "    <tr>\n",
       "      <th>8</th>\n",
       "      <td>МТС Банк</td>\n",
       "      <td>1542</td>\n",
       "      <td>2.90</td>\n",
       "    </tr>\n",
       "    <tr>\n",
       "      <th>9</th>\n",
       "      <td>Модульбанк</td>\n",
       "      <td>1452</td>\n",
       "      <td>4.78</td>\n",
       "    </tr>\n",
       "    <tr>\n",
       "      <th>10</th>\n",
       "      <td>Газпромбанк</td>\n",
       "      <td>1314</td>\n",
       "      <td>2.15</td>\n",
       "    </tr>\n",
       "    <tr>\n",
       "      <th>11</th>\n",
       "      <td>Московский Кредитный Банк</td>\n",
       "      <td>1249</td>\n",
       "      <td>4.24</td>\n",
       "    </tr>\n",
       "    <tr>\n",
       "      <th>12</th>\n",
       "      <td>Азиатско-Тихоокеанский Банк</td>\n",
       "      <td>1000</td>\n",
       "      <td>4.72</td>\n",
       "    </tr>\n",
       "    <tr>\n",
       "      <th>13</th>\n",
       "      <td>Уральский Банк Реконструкции и Развития</td>\n",
       "      <td>746</td>\n",
       "      <td>3.30</td>\n",
       "    </tr>\n",
       "    <tr>\n",
       "      <th>14</th>\n",
       "      <td>Русский Стандарт</td>\n",
       "      <td>689</td>\n",
       "      <td>4.16</td>\n",
       "    </tr>\n",
       "  </tbody>\n",
       "</table>\n",
       "</div>"
      ],
      "text/plain": [
       "                                  bank_name  count  rating\n",
       "0                             Тинькофф Банк  44852    4.78\n",
       "1                          Хоум Кредит Банк   9301    4.51\n",
       "2                                Совкомбанк   6100    4.26\n",
       "3                                       ВТБ   3814    1.95\n",
       "4                                  СберБанк   3487    2.30\n",
       "5                                Альфа-Банк   3368    1.71\n",
       "6                            Россельхозбанк   3062    4.46\n",
       "7                             Банк Открытие   1894    3.54\n",
       "8                                  МТС Банк   1542    2.90\n",
       "9                                Модульбанк   1452    4.78\n",
       "10                              Газпромбанк   1314    2.15\n",
       "11                Московский Кредитный Банк   1249    4.24\n",
       "12              Азиатско-Тихоокеанский Банк   1000    4.72\n",
       "13  Уральский Банк Реконструкции и Развития    746    3.30\n",
       "14                         Русский Стандарт    689    4.16"
      ]
     },
     "execution_count": 129,
     "metadata": {},
     "output_type": "execute_result"
    }
   ],
   "source": [
    "# топ-15 банков по числу отзывов\n",
    "banks_reviews_and_rating = data.groupby(['bank_name']).agg({'body':'count', 'rating': 'mean'}).reset_index()\n",
    "banks_reviews_and_rating.columns = ['bank_name', 'count', 'rating']\n",
    "banks_reviews_and_rating['rating'] = banks_reviews_and_rating['rating'].round(2)\n",
    "banks_reviews_and_rating.sort_values(by='count', ascending=False, inplace=True)\n",
    "top15_banks_by_count = banks_reviews_and_rating.head(15).reset_index(drop=True)\n",
    "top15_banks_by_count"
   ]
  },
  {
   "cell_type": "code",
   "execution_count": 130,
   "id": "a047d6ca",
   "metadata": {},
   "outputs": [
    {
     "data": {
      "text/html": [
       "<div>\n",
       "<style scoped>\n",
       "    .dataframe tbody tr th:only-of-type {\n",
       "        vertical-align: middle;\n",
       "    }\n",
       "\n",
       "    .dataframe tbody tr th {\n",
       "        vertical-align: top;\n",
       "    }\n",
       "\n",
       "    .dataframe thead th {\n",
       "        text-align: right;\n",
       "    }\n",
       "</style>\n",
       "<table border=\"1\" class=\"dataframe\">\n",
       "  <thead>\n",
       "    <tr style=\"text-align: right;\">\n",
       "      <th></th>\n",
       "      <th>bank_name</th>\n",
       "      <th>count</th>\n",
       "      <th>rating</th>\n",
       "    </tr>\n",
       "  </thead>\n",
       "  <tbody>\n",
       "    <tr>\n",
       "      <th>0</th>\n",
       "      <td>Тинькофф Банк</td>\n",
       "      <td>44852</td>\n",
       "      <td>4.78</td>\n",
       "    </tr>\n",
       "  </tbody>\n",
       "</table>\n",
       "</div>"
      ],
      "text/plain": [
       "       bank_name  count  rating\n",
       "0  Тинькофф Банк  44852    4.78"
      ]
     },
     "execution_count": 130,
     "metadata": {},
     "output_type": "execute_result"
    }
   ],
   "source": [
    "# банк с самым высоким рейтингом из числа топ-15 банков по отзывам\n",
    "top1_bank_by_rating = top15_banks_by_count.sort_values(by='rating', ascending=False).head(1)\n",
    "top1_bank_by_rating"
   ]
  },
  {
   "cell_type": "markdown",
   "id": "7aa87d1d",
   "metadata": {},
   "source": [
    "Больше всего отзывов было оставлено к следующим банкам:\n",
    "\n",
    "*Тинькофф Банк, Хоум Кредит Банк, Совкомбанк, ВТБ, СберБанк, Альфа-Банк, Россельхозбанк, Банк Открытие, МТС Банк, Модульбанк, Газпромбанк, Московский Кредитный Банк, Азиатско-Тихоокеанский Банк, Уральский Банк Реконструкции и Развития, Русский Стандарт*\n",
    "\n",
    "Из них, *Тинькофф Банк* имеет самый высокий средний рейтинг - *4.78*\n",
    "\n",
    "Для ответа на третий вопрос создадим колонку *year_month* (вместе с колонками *day*, *hour* и т.д. - они понадобятся позже) и сгруппируем датасет"
   ]
  },
  {
   "cell_type": "code",
   "execution_count": 132,
   "id": "06d19900",
   "metadata": {},
   "outputs": [],
   "source": [
    "data['year'] = data['date'].dt.year\n",
    "data['month'] = data['date'].dt.month\n",
    "data['day'] = data['date'].dt.day\n",
    "data['hour'] = data['date'].dt.hour\n",
    "data['minute'] = data['date'].dt.minute\n",
    "data['second'] = data['date'].dt.second"
   ]
  },
  {
   "cell_type": "code",
   "execution_count": 133,
   "id": "1130f062",
   "metadata": {},
   "outputs": [
    {
     "data": {
      "text/html": [
       "<div>\n",
       "<style scoped>\n",
       "    .dataframe tbody tr th:only-of-type {\n",
       "        vertical-align: middle;\n",
       "    }\n",
       "\n",
       "    .dataframe tbody tr th {\n",
       "        vertical-align: top;\n",
       "    }\n",
       "\n",
       "    .dataframe thead th {\n",
       "        text-align: right;\n",
       "    }\n",
       "</style>\n",
       "<table border=\"1\" class=\"dataframe\">\n",
       "  <thead>\n",
       "    <tr style=\"text-align: right;\">\n",
       "      <th></th>\n",
       "      <th>bank_name</th>\n",
       "      <th>year_month</th>\n",
       "      <th>rating</th>\n",
       "    </tr>\n",
       "  </thead>\n",
       "  <tbody>\n",
       "    <tr>\n",
       "      <th>0</th>\n",
       "      <td>ВТБ</td>\n",
       "      <td>2022-9</td>\n",
       "      <td>2.07</td>\n",
       "    </tr>\n",
       "    <tr>\n",
       "      <th>1</th>\n",
       "      <td>ВТБ</td>\n",
       "      <td>2022-10</td>\n",
       "      <td>1.91</td>\n",
       "    </tr>\n",
       "    <tr>\n",
       "      <th>2</th>\n",
       "      <td>ВТБ</td>\n",
       "      <td>2022-11</td>\n",
       "      <td>1.99</td>\n",
       "    </tr>\n",
       "    <tr>\n",
       "      <th>3</th>\n",
       "      <td>ВТБ</td>\n",
       "      <td>2022-12</td>\n",
       "      <td>1.90</td>\n",
       "    </tr>\n",
       "    <tr>\n",
       "      <th>4</th>\n",
       "      <td>ВТБ</td>\n",
       "      <td>2023-1</td>\n",
       "      <td>1.15</td>\n",
       "    </tr>\n",
       "    <tr>\n",
       "      <th>5</th>\n",
       "      <td>СберБанк</td>\n",
       "      <td>2022-9</td>\n",
       "      <td>1.92</td>\n",
       "    </tr>\n",
       "    <tr>\n",
       "      <th>6</th>\n",
       "      <td>СберБанк</td>\n",
       "      <td>2022-10</td>\n",
       "      <td>2.78</td>\n",
       "    </tr>\n",
       "    <tr>\n",
       "      <th>7</th>\n",
       "      <td>СберБанк</td>\n",
       "      <td>2022-11</td>\n",
       "      <td>2.56</td>\n",
       "    </tr>\n",
       "    <tr>\n",
       "      <th>8</th>\n",
       "      <td>СберБанк</td>\n",
       "      <td>2022-12</td>\n",
       "      <td>1.87</td>\n",
       "    </tr>\n",
       "    <tr>\n",
       "      <th>9</th>\n",
       "      <td>СберБанк</td>\n",
       "      <td>2023-1</td>\n",
       "      <td>1.40</td>\n",
       "    </tr>\n",
       "  </tbody>\n",
       "</table>\n",
       "</div>"
      ],
      "text/plain": [
       "  bank_name year_month  rating\n",
       "0       ВТБ     2022-9    2.07\n",
       "1       ВТБ    2022-10    1.91\n",
       "2       ВТБ    2022-11    1.99\n",
       "3       ВТБ    2022-12    1.90\n",
       "4       ВТБ     2023-1    1.15\n",
       "5  СберБанк     2022-9    1.92\n",
       "6  СберБанк    2022-10    2.78\n",
       "7  СберБанк    2022-11    2.56\n",
       "8  СберБанк    2022-12    1.87\n",
       "9  СберБанк     2023-1    1.40"
      ]
     },
     "execution_count": 133,
     "metadata": {},
     "output_type": "execute_result"
    }
   ],
   "source": [
    "# построим график изменения среднего рейтинга по месяцам у топ-5 банков по числу отзывов\n",
    "data['year_month'] = data['year'].astype(str) + '-' + data['month'].astype(str)\n",
    "data_to_graph = data[['bank_name','year_month','rating']]\n",
    "data_to_graph = data_to_graph[data_to_graph['bank_name'].isin(top15_banks_by_count.head(5)['bank_name'])].groupby(['bank_name', 'year_month']).agg({'rating': 'mean'}).reset_index()\n",
    "data_to_graph['rating'] = data_to_graph['rating'].round(2)\n",
    "order = ['2022-9', '2022-10', '2022-11', '2022-12', '2023-1']\n",
    "data_to_graph['year_month'] = pd.Categorical(data_to_graph['year_month'], categories=order, ordered=True)\n",
    "data_to_graph = data_to_graph.sort_values(by=['bank_name', 'year_month']).reset_index(drop=True)\n",
    "data_to_graph.head(10)"
   ]
  },
  {
   "cell_type": "code",
   "execution_count": 134,
   "id": "cd69f64f",
   "metadata": {},
   "outputs": [
    {
     "data": {
      "image/png": "[encoded data removed]",
      "text/plain": [
       "<Figure size 640x480 with 1 Axes>"
      ]
     },
     "metadata": {},
     "output_type": "display_data"
    }
   ],
   "source": [
    "# data_to_graph['month'] = data_to_graph['month'].astype(str)\n",
    "banks = data_to_graph['bank_name'].unique()\n",
    "\n",
    "# plt.figure(figsize=(8, 5))\n",
    "for b in banks:\n",
    "    bank_data = data_to_graph[data_to_graph['bank_name'] == b]\n",
    "    plt.plot(bank_data['year_month'], bank_data['rating'], label=b)\n",
    "plt.title('График изменения среднего рейтинга\\nтоп-5 банков по числу отзывов', fontsize=10)\n",
    "plt.xlabel('Месяц')\n",
    "plt.ylabel('Средний рейтинг')\n",
    "plt.box(True)\n",
    "plt.legend(fontsize='xx-small', loc='lower left')\n",
    "plt.grid(True, linestyle='-', linewidth=0.5, color='lightgrey')\n",
    "plt.xticks(fontsize=8)\n",
    "plt.yticks(fontsize=8)\n",
    "ax = plt.gca()\n",
    "ax.spines['top'].set_visible(False)\n",
    "ax.spines['right'].set_visible(False)\n",
    "ax.spines['bottom'].set_linewidth(0.5)\n",
    "ax.spines['left'].set_linewidth(0.5)\n",
    "plt.show()\n"
   ]
  },
  {
   "cell_type": "markdown",
   "id": "8d8e3130",
   "metadata": {},
   "source": [
    "##### Выводs\n",
    "\n",
    "помогите\n",
    "\n",
    "запомним, сбера с октября и хоум кредит банка с декабря рейтинг сильно упал\n",
    "а растет рейтинг только у совкомбанка\n",
    "\n",
    "---"
   ]
  },
  {
   "cell_type": "markdown",
   "id": "867ba2f9",
   "metadata": {},
   "source": [
    "Теперь проанализируем временные данные"
   ]
  },
  {
   "cell_type": "code",
   "execution_count": 135,
   "id": "8d822244",
   "metadata": {},
   "outputs": [
    {
     "data": {
      "text/html": [
       "<div>\n",
       "<style scoped>\n",
       "    .dataframe tbody tr th:only-of-type {\n",
       "        vertical-align: middle;\n",
       "    }\n",
       "\n",
       "    .dataframe tbody tr th {\n",
       "        vertical-align: top;\n",
       "    }\n",
       "\n",
       "    .dataframe thead th {\n",
       "        text-align: right;\n",
       "    }\n",
       "</style>\n",
       "<table border=\"1\" class=\"dataframe\">\n",
       "  <thead>\n",
       "    <tr style=\"text-align: right;\">\n",
       "      <th></th>\n",
       "      <th>hour</th>\n",
       "      <th>body</th>\n",
       "    </tr>\n",
       "  </thead>\n",
       "  <tbody>\n",
       "    <tr>\n",
       "      <th>0</th>\n",
       "      <td>0</td>\n",
       "      <td>2123</td>\n",
       "    </tr>\n",
       "    <tr>\n",
       "      <th>1</th>\n",
       "      <td>1</td>\n",
       "      <td>1385</td>\n",
       "    </tr>\n",
       "    <tr>\n",
       "      <th>2</th>\n",
       "      <td>2</td>\n",
       "      <td>945</td>\n",
       "    </tr>\n",
       "    <tr>\n",
       "      <th>3</th>\n",
       "      <td>3</td>\n",
       "      <td>630</td>\n",
       "    </tr>\n",
       "    <tr>\n",
       "      <th>4</th>\n",
       "      <td>4</td>\n",
       "      <td>677</td>\n",
       "    </tr>\n",
       "  </tbody>\n",
       "</table>\n",
       "</div>"
      ],
      "text/plain": [
       "   hour  body\n",
       "0     0  2123\n",
       "1     1  1385\n",
       "2     2   945\n",
       "3     3   630\n",
       "4     4   677"
      ]
     },
     "execution_count": 135,
     "metadata": {},
     "output_type": "execute_result"
    }
   ],
   "source": [
    "hour_data = data.groupby(['hour']).count().reset_index().iloc[:, :2]\n",
    "hour_data.head(5)"
   ]
  },
  {
   "cell_type": "code",
   "execution_count": 136,
   "id": "bbc045fa",
   "metadata": {},
   "outputs": [
    {
     "data": {
      "image/png": "[encoded data removed]",
      "text/plain": [
       "<Figure size 600x300 with 1 Axes>"
      ]
     },
     "metadata": {},
     "output_type": "display_data"
    }
   ],
   "source": [
    "plt.figure(figsize=(6, 3))\n",
    "plt.plot(hour_data['hour'], hour_data['body'])\n",
    "plt.title('График зависимости количества отзывов от времени суток', fontsize=10)\n",
    "plt.xlabel('Час')\n",
    "plt.ylabel('Количество отзывов')\n",
    "plt.show()"
   ]
  },
  {
   "cell_type": "code",
   "execution_count": 137,
   "id": "76986341",
   "metadata": {},
   "outputs": [],
   "source": [
    "hour_rating_data = data.groupby(['hour']).agg({'rating': 'mean'}).reset_index()"
   ]
  },
  {
   "cell_type": "code",
   "execution_count": 138,
   "id": "c40fbafa",
   "metadata": {},
   "outputs": [
    {
     "data": {
      "image/png": "[encoded data removed]",
      "text/plain": [
       "<Figure size 600x300 with 1 Axes>"
      ]
     },
     "metadata": {},
     "output_type": "display_data"
    }
   ],
   "source": [
    "plt.figure(figsize=(6, 3))\n",
    "plt.plot(hour_rating_data['hour'], hour_rating_data['rating'])\n",
    "plt.title('График изменения среднего рейтинга\\nтоп-5 банков по числу отзывов', fontsize=10)\n",
    "plt.xlabel('Час')\n",
    "plt.ylabel('Количество отзывов')\n",
    "plt.show()"
   ]
  },
  {
   "cell_type": "code",
   "execution_count": 162,
   "id": "0f25d023",
   "metadata": {},
   "outputs": [
    {
     "data": {
      "text/html": [
       "<div>\n",
       "<style scoped>\n",
       "    .dataframe tbody tr th:only-of-type {\n",
       "        vertical-align: middle;\n",
       "    }\n",
       "\n",
       "    .dataframe tbody tr th {\n",
       "        vertical-align: top;\n",
       "    }\n",
       "\n",
       "    .dataframe thead th {\n",
       "        text-align: right;\n",
       "    }\n",
       "</style>\n",
       "<table border=\"1\" class=\"dataframe\">\n",
       "  <thead>\n",
       "    <tr style=\"text-align: right;\">\n",
       "      <th></th>\n",
       "      <th>hour</th>\n",
       "      <th>rating</th>\n",
       "      <th>count</th>\n",
       "    </tr>\n",
       "  </thead>\n",
       "  <tbody>\n",
       "    <tr>\n",
       "      <th>0</th>\n",
       "      <td>0</td>\n",
       "      <td>1</td>\n",
       "      <td>392</td>\n",
       "    </tr>\n",
       "    <tr>\n",
       "      <th>1</th>\n",
       "      <td>0</td>\n",
       "      <td>5</td>\n",
       "      <td>1562</td>\n",
       "    </tr>\n",
       "    <tr>\n",
       "      <th>2</th>\n",
       "      <td>1</td>\n",
       "      <td>1</td>\n",
       "      <td>251</td>\n",
       "    </tr>\n",
       "    <tr>\n",
       "      <th>3</th>\n",
       "      <td>1</td>\n",
       "      <td>5</td>\n",
       "      <td>1045</td>\n",
       "    </tr>\n",
       "    <tr>\n",
       "      <th>4</th>\n",
       "      <td>2</td>\n",
       "      <td>1</td>\n",
       "      <td>160</td>\n",
       "    </tr>\n",
       "    <tr>\n",
       "      <th>5</th>\n",
       "      <td>2</td>\n",
       "      <td>5</td>\n",
       "      <td>722</td>\n",
       "    </tr>\n",
       "  </tbody>\n",
       "</table>\n",
       "</div>"
      ],
      "text/plain": [
       "   hour  rating  count\n",
       "0     0       1    392\n",
       "1     0       5   1562\n",
       "2     1       1    251\n",
       "3     1       5   1045\n",
       "4     2       1    160\n",
       "5     2       5    722"
      ]
     },
     "execution_count": 162,
     "metadata": {},
     "output_type": "execute_result"
    }
   ],
   "source": [
    "# посмотрим, в какое время пишут негативные отзывы, а в какое - позитивные\n",
    "pos_and_neg_hour = data[data['rating'].isin([1, 5])].groupby(['hour', 'rating']).size().reset_index(name='count')\n",
    "pos_and_neg_hour.head(6)"
   ]
  },
  {
   "cell_type": "code",
   "execution_count": 190,
   "id": "3179eb17",
   "metadata": {},
   "outputs": [
    {
     "name": "stderr",
     "output_type": "stream",
     "text": [
      "C:\\Users\\mayko\\AppData\\Local\\Temp\\ipykernel_17832\\2309764827.py:3: FutureWarning:\n",
      "\n",
      "Series.__getitem__ treating keys as positions is deprecated. In a future version, integer keys will always be treated as labels (consistent with DataFrame behavior). To access a value by position, use `ser.iloc[pos]`\n",
      "\n"
     ]
    },
    {
     "data": {
      "text/html": [
       "<div>\n",
       "<style scoped>\n",
       "    .dataframe tbody tr th:only-of-type {\n",
       "        vertical-align: middle;\n",
       "    }\n",
       "\n",
       "    .dataframe tbody tr th {\n",
       "        vertical-align: top;\n",
       "    }\n",
       "\n",
       "    .dataframe thead th {\n",
       "        text-align: right;\n",
       "    }\n",
       "</style>\n",
       "<table border=\"1\" class=\"dataframe\">\n",
       "  <thead>\n",
       "    <tr style=\"text-align: right;\">\n",
       "      <th></th>\n",
       "      <th>hour</th>\n",
       "      <th>rating</th>\n",
       "      <th>count</th>\n",
       "      <th>percentage</th>\n",
       "    </tr>\n",
       "  </thead>\n",
       "  <tbody>\n",
       "    <tr>\n",
       "      <th>0</th>\n",
       "      <td>0</td>\n",
       "      <td>1</td>\n",
       "      <td>392</td>\n",
       "      <td>2.13</td>\n",
       "    </tr>\n",
       "    <tr>\n",
       "      <th>1</th>\n",
       "      <td>0</td>\n",
       "      <td>5</td>\n",
       "      <td>1562</td>\n",
       "      <td>2.32</td>\n",
       "    </tr>\n",
       "    <tr>\n",
       "      <th>2</th>\n",
       "      <td>1</td>\n",
       "      <td>1</td>\n",
       "      <td>251</td>\n",
       "      <td>1.36</td>\n",
       "    </tr>\n",
       "    <tr>\n",
       "      <th>3</th>\n",
       "      <td>1</td>\n",
       "      <td>5</td>\n",
       "      <td>1045</td>\n",
       "      <td>1.56</td>\n",
       "    </tr>\n",
       "    <tr>\n",
       "      <th>4</th>\n",
       "      <td>2</td>\n",
       "      <td>1</td>\n",
       "      <td>160</td>\n",
       "      <td>0.87</td>\n",
       "    </tr>\n",
       "    <tr>\n",
       "      <th>5</th>\n",
       "      <td>2</td>\n",
       "      <td>5</td>\n",
       "      <td>722</td>\n",
       "      <td>1.07</td>\n",
       "    </tr>\n",
       "  </tbody>\n",
       "</table>\n",
       "</div>"
      ],
      "text/plain": [
       "   hour  rating  count  percentage\n",
       "0     0       1    392        2.13\n",
       "1     0       5   1562        2.32\n",
       "2     1       1    251        1.36\n",
       "3     1       5   1045        1.56\n",
       "4     2       1    160        0.87\n",
       "5     2       5    722        1.07"
      ]
     },
     "execution_count": 190,
     "metadata": {},
     "output_type": "execute_result"
    }
   ],
   "source": [
    "count_rating_1 = pos_and_neg_hour[pos_and_neg_hour['rating'] == 1]['count'].sum()\n",
    "count_rating_5 = pos_and_neg_hour[pos_and_neg_hour['rating'] == 5]['count'].sum()\n",
    "pos_and_neg_hour['percentage'] = pos_and_neg_hour.apply(lambda row: row[2]/count_rating_1 * 100 if row[1] == 1 else row[2]/count_rating_5 * 100, axis=1).round(2)\n",
    "pos_and_neg_hour.head(6)"
   ]
  },
  {
   "cell_type": "code",
   "execution_count": 199,
   "id": "2486be8a",
   "metadata": {},
   "outputs": [
    {
     "data": {
      "image/png": "[encoded data removed]",
      "text/plain": [
       "<Figure size 600x300 with 1 Axes>"
      ]
     },
     "metadata": {},
     "output_type": "display_data"
    }
   ],
   "source": [
    "fig, ax = plt.subplots(figsize=(6, 3))\n",
    "for rating in [1, 5]:\n",
    "    rating_data = pos_and_neg_hour[pos_and_neg_hour['rating'] == rating]\n",
    "    ax.plot(rating_data['hour'], rating_data['percentage'], label=f'Оценка {rating}')\n",
    "\n",
    "ax.set_xlabel('Час')\n",
    "ax.set_ylabel('Процент')\n",
    "ax.set_title('Распределение процента\\nположительных и отрицательных отзывов по часам', fontsize=9)\n",
    "ax.legend(fontsize='small', loc='lower right')\n",
    "plt.grid(True, linestyle='-', linewidth=0.5, color='lightgrey')\n",
    "plt.xticks(fontsize=8)\n",
    "plt.yticks(fontsize=8)\n",
    "ax.spines['top'].set_visible(False)\n",
    "ax.spines['right'].set_visible(False)\n",
    "ax.spines['bottom'].set_linewidth(0.5)\n",
    "ax.spines['left'].set_linewidth(0.5)\n",
    "plt.show()\n"
   ]
  },
  {
   "cell_type": "markdown",
   "id": "d253efec",
   "metadata": {},
   "source": [
    "А сейчас минутка nlp"
   ]
  },
  {
   "cell_type": "code",
   "execution_count": null,
   "id": "4c7cb20f",
   "metadata": {},
   "outputs": [],
   "source": [
    "import nltk\n",
    "from nltk.corpus import stopwords\n",
    "ru_stopwords = stopwords.words(\"russian\")\n",
    "from nltk.tokenize import sent_tokenize, word_tokenize\n",
    "import pymorphy3\n",
    "from nltk.stem import SnowballStemmer\n",
    "import time"
   ]
  },
  {
   "cell_type": "code",
   "execution_count": null,
   "id": "70580e44",
   "metadata": {},
   "outputs": [],
   "source": [
    "from bs4 import BeautifulSoup\n",
    "import re\n",
    "def preprocess(data):\n",
    "    cleaned_body = []\n",
    "    morph = pymorphy3.MorphAnalyzer()\n",
    "    for b in data['body']:\n",
    "        soup = BeautifulSoup(b, 'html.parser')\n",
    "        text = soup.get_text()\n",
    "        b = re.findall(r'<p>(.*?)<\\/p>', text)\n",
    "        if not b:\n",
    "            b = text\n",
    "        b = ''.join(b).lower()\n",
    "        words = re.findall(r'\\b\\w+\\b', b)\n",
    "        processed_words = []\n",
    "        for w in words:\n",
    "            if w.isalpha() and len(w) > 1 and w not in ru_stopwords:\n",
    "                w = w.strip()\n",
    "                try:\n",
    "                    w = morph.parse(w)[0].normal_form\n",
    "                    processed_words.append(w)\n",
    "                except:\n",
    "                    processed_words.append(w)\n",
    "\n",
    "        cleaned_body.append(' '.join(processed_words))\n",
    "    data['cleaned_body'] = cleaned_body\n",
    "    return data"
   ]
  },
  {
   "cell_type": "code",
   "execution_count": null,
   "id": "21b98d58",
   "metadata": {},
   "outputs": [],
   "source": [
    "# nlp_cols = 'body cleaned_body title bank_name rating\t\tdate\tmonth\tday\thour\tminute\tsecond\t'.split()\n",
    "# nlp_data = preprocess(data)[nlp_cols]\n",
    "# nlp_data['title'] = nlp_data['title'].lower( )\n",
    "# # nlp_data = nlp_data[nlp_cols]\n",
    "# nlp_data"
   ]
  },
  {
   "cell_type": "code",
   "execution_count": null,
   "id": "e1025144",
   "metadata": {},
   "outputs": [],
   "source": [
    "# text_data = 'body cleaned_body title bank_name'.split()\n",
    "# nlp_data[text_data]"
   ]
  }
 ],
 "metadata": {
  "kernelspec": {
   "display_name": "Python 3 (ipykernel)",
   "language": "python",
   "name": "python3"
  },
  "language_info": {
   "codemirror_mode": {
    "name": "ipython",
    "version": 3
   },
   "file_extension": ".py",
   "mimetype": "text/x-python",
   "name": "python",
   "nbconvert_exporter": "python",
   "pygments_lexer": "ipython3",
   "version": "3.11.4"
  }
 },
 "nbformat": 4,
 "nbformat_minor": 5
}
